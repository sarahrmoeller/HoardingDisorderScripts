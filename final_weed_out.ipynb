{
 "cells": [
  {
   "cell_type": "code",
   "execution_count": 1,
   "id": "30ea63be",
   "metadata": {},
   "outputs": [
    {
     "name": "stderr",
     "output_type": "stream",
     "text": [
      "/home/danim/HoardingDisorderScripts/.venv/lib/python3.10/site-packages/tqdm/auto.py:21: TqdmWarning: IProgress not found. Please update jupyter and ipywidgets. See https://ipywidgets.readthedocs.io/en/stable/user_install.html\n",
      "  from .autonotebook import tqdm as notebook_tqdm\n",
      "2025-08-28 22:26:43 INFO: Checking for updates to resources.json in case models have been updated.  Note: this behavior can be turned off with download_method=None or download_method=DownloadMethod.REUSE_RESOURCES\n",
      "Downloading https://raw.githubusercontent.com/stanfordnlp/stanza-resources/main/resources_1.10.0.json: 434kB [00:00, 1.52MB/s]                    \n",
      "2025-08-28 22:26:43 INFO: Downloaded file to /home/danim/stanza_resources/resources.json\n",
      "2025-08-28 22:26:43 WARNING: Language en package default expects mwt, which has been added\n",
      "2025-08-28 22:26:44 INFO: Loading these models for language: en (English):\n",
      "======================================\n",
      "| Processor    | Package             |\n",
      "--------------------------------------\n",
      "| tokenize     | combined            |\n",
      "| mwt          | combined            |\n",
      "| pos          | combined_charlm     |\n",
      "| constituency | ptb3-revised_charlm |\n",
      "======================================\n",
      "\n",
      "2025-08-28 22:26:45 INFO: Using device: cuda\n",
      "2025-08-28 22:26:45 INFO: Loading: tokenize\n",
      "2025-08-28 22:26:48 INFO: Loading: mwt\n",
      "2025-08-28 22:26:48 INFO: Loading: pos\n",
      "2025-08-28 22:26:49 INFO: Loading: constituency\n",
      "2025-08-28 22:26:50 INFO: Done loading processors!\n"
     ]
    }
   ],
   "source": [
    "import utils.datasaur as data"
   ]
  },
  {
   "cell_type": "code",
   "execution_count": 2,
   "id": "32dad4c3",
   "metadata": {},
   "outputs": [],
   "source": [
    "%load_ext autoreload\n",
    "%autoreload 2"
   ]
  },
  {
   "cell_type": "markdown",
   "id": "cb50fc3f",
   "metadata": {},
   "source": [
    "# Misspellings/Wrong Labels"
   ]
  },
  {
   "cell_type": "markdown",
   "id": "3174adbc",
   "metadata": {},
   "source": [
    "First thing we're going to do is deal with the issue of misspellings. \n",
    "Inspired by Tava's function in `regexes.py`, we're going to use `get_close_matches` to look for words that are close to "
   ]
  },
  {
   "cell_type": "code",
   "execution_count": 3,
   "id": "a67024e9",
   "metadata": {},
   "outputs": [],
   "source": [
    "doc_token_content = [\n",
    "    (doc, [\n",
    "        (doc.row_data[i][\"tokens\"], i) \n",
    "        for i in range(len(doc.row_data))\n",
    "    ])\n",
    "    for doc in data.by_doc \n",
    "]"
   ]
  },
  {
   "cell_type": "code",
   "execution_count": 4,
   "id": "0dcecc7e",
   "metadata": {},
   "outputs": [
    {
     "data": {
      "text/plain": [
       "[{'broken_label': '1:Interviewer',\n",
       "  'close_to': ['Interviewer'],\n",
       "  'doc': Document(3001_076.txt, s1062_s2022-26_s3076-97),\n",
       "  'row_num': 9,\n",
       "  'prev_line': ['Speaker: In my mind I almost feel like you can do both in one but it would probably need to be longer than three minutes. I don’t know how your content would go but I feel like a kids one would be a little different than what a parent’s one would be. It would be more a little factual based whereas a kid one would be more experienced based. The role playing, like what it’s going to look like. Again you said you didn’t know if this was just going to be pediatrics right? The patients could also be adults.'],\n",
       "  'line': '1:Interviewer: No. Sorry I may have misspoke. All the patients will be pediatric. The only thing we haven’t decided on what whether or not it would be one video or two separate ones.'},\n",
       " {'broken_label': '1:Interviewer',\n",
       "  'close_to': ['Interviewer'],\n",
       "  'doc': Document(3001_076.txt, s1062_s2022-26_s3076-97),\n",
       "  'row_num': 13,\n",
       "  'prev_line': ['1:Speaker: I would make it longer. I mean it doesn’t even have to be 3 minutes just depending on how much content you have. You can probably keep kids for three minutes but you probably can’t keep adults that long. You would keep me that long.'],\n",
       "  'line': '1:Interviewer: Good to know.'},\n",
       " {'broken_label': '2Participant',\n",
       "  'close_to': ['Participant'],\n",
       "  'doc': Document(062_744.txt, s1062_s2022-26_s3076-97),\n",
       "  'row_num': 5,\n",
       "  'prev_line': ['Okay, so it’s just more orderly, you know what you have.'],\n",
       "  'line': '2Participant:'},\n",
       " {'broken_label': '2Participant',\n",
       "  'close_to': ['Participant'],\n",
       "  'doc': Document(062_744.txt, s1062_s2022-26_s3076-97),\n",
       "  'row_num': 9,\n",
       "  'prev_line': ['Okay, so organization is definitely a big thing.'],\n",
       "  'line': '2Participant:'},\n",
       " {'broken_label': '2Participant',\n",
       "  'close_to': ['Participant'],\n",
       "  'doc': Document(062_743.txt, s1062_s2022-26_s3076-97),\n",
       "  'row_num': 16,\n",
       "  'prev_line': ['Well aside from the people in it and my puppy dog.. Precious, the most precious item in my house… just one?! 22:59 Interviewer:'],\n",
       "  'line': 'If you can choose one. 2Participant:'},\n",
       " {'broken_label': '2Participant',\n",
       "  'close_to': ['Participant'],\n",
       "  'doc': Document(062_743.txt, s1062_s2022-26_s3076-97),\n",
       "  'row_num': 22,\n",
       "  'prev_line': ['Just the things that capture the memories.'],\n",
       "  'line': '2Participant:'},\n",
       " {'broken_label': '1:Interviewer',\n",
       "  'close_to': ['Interviewer'],\n",
       "  'doc': Document(3001_078.txt, s1062_s2022-26_s3076-97),\n",
       "  'row_num': 1,\n",
       "  'prev_line': ['1:Speaker: Yeah. Kids like to be empowered. I feel like there’s almost two schools nowadays. The kids that have no power and the kids that have way too much power. There’s not many of the in between kids. I feel like anybody who feels like they’re in a place where they’re needing therapy like this is your thing to do for yourself kind of type thing and makes it user friendly. Again the parent it’s not a thing where you have to poke and nag because usually whatever is on their list is usually on yours including everything else. It really wasn’t a burden other than me getting her here and paying for everything. Again I think it’s just everybody really likes it, it’s convenient, you get fast results, it’s very empowering for your child or it was for us. It just seems effective and also another thing is that there’s no side effects. I almost feel like there could be a parody video or comedy that would just probably be for me but like about how you know there’s all these happy people and they’re like “yes, yes and you might die and your skin may fall off and everything’s burning but there’s still 27% of people that do…” Like everything is said with a smile on the face. Sounds so great but really what they’re telling you is terrible. Like this is not terrible. The risk that is involved in doing this method it’s like pretty low risk for pretty quick results.'],\n",
       "  'line': '1:Interviewer: Well is there anything that I missed or anything important that I didn’t ask about?'},\n",
       " {'broken_label': '1:Interviewer',\n",
       "  'close_to': ['Interviewer'],\n",
       "  'doc': Document(3001_078.txt, s1062_s2022-26_s3076-97),\n",
       "  'row_num': 3,\n",
       "  'prev_line': ['1:Speaker: I don’t think so. I just wish that this was more available like just to the public in general. Mental health has become such a big thing, especially with adolescence. Like I have to go to trainings all the time about all these things and I’m in the front lines with people’s kids that are going through all kinds of crazy stuff all the time and its intense and I feel like we get a lot of feedback about our school like “What are the resources?” and some don’t even know. It’s like there’s too many options or not knowing who to ask the right questions. So of course I’m always like “your pediatrician”. It’s almost like an alternative therapy but once you say “alternative therapy” some people immediately think it’s like a chant in the woods or something type thing or you’re going to sign up for this big weird thing so it would be great to have. I think it’s great what you guys are setting out to do and succeeded. People would watch a quick video that gave just enough information to be like “oh, maybe this is something we could do.”'],\n",
       "  'line': '1:Interviewer: Well I think that is a great note to end it on. Unless did you have any questions?'},\n",
       " {'broken_label': '1:Interviewer',\n",
       "  'close_to': ['Interviewer'],\n",
       "  'doc': Document(3001_078.txt, s1062_s2022-26_s3076-97),\n",
       "  'row_num': 5,\n",
       "  'prev_line': ['Note-taker: Nope I think we’re good.'],\n",
       "  'line': '1:Interviewer: Well thank you so much for your time. You were very very helpful.'},\n",
       " {'broken_label': '1:Interviewer',\n",
       "  'close_to': ['Interviewer'],\n",
       "  'doc': Document(3001_077.txt, s1062_s2022-26_s3076-97),\n",
       "  'row_num': 0,\n",
       "  'prev_line': ['1:Interviewer: That makes a lot of sense. You as a parent or you as a child that would be nice to get from the video.'],\n",
       "  'line': '1:Interviewer: So we’re almost done and I really appreciate your time. We just have to go over the “how” the video would look. Just kind of the fun part of this. And then just kind of the take home message, then we should be done. So we talked about Loony Tunes before, are there any other animated movies that you like?'},\n",
       " {'broken_label': '1:Interviewer',\n",
       "  'close_to': ['Interviewer'],\n",
       "  'doc': Document(3001_077.txt, s1062_s2022-26_s3076-97),\n",
       "  'row_num': 2,\n",
       "  'prev_line': ['1:Speaker: I mean everybody loves like; the minion stuff is like hilarious. And I also think like part of the reason why is because they’re not people. Like what are they, who even knows? So fun. It’s pretty entertaining, anything that have comedy is good. I use a lot of “brainpop”. I don’t know if you know that, it’s the robot and the girl in the classroom and they just love anytime they hear the robot noises they want like the [makes noise] like he’s very squeaky and they want all the extra stuff.'],\n",
       "  'line': '1:Interviewer: So they like, like the little squeakiness of the robot.'},\n",
       " {'broken_label': '1:Interviewer',\n",
       "  'close_to': ['Interviewer'],\n",
       "  'doc': Document(3001_077.txt, s1062_s2022-26_s3076-97),\n",
       "  'row_num': 4,\n",
       "  'prev_line': ['1:Speaker: Yeah. Even my math curriculum has like animated stuff. And little monsters, they like the monsters too but they like the robots.'],\n",
       "  'line': '1:Interviewer: I mean its good to know that that’s what they enjoy.'},\n",
       " {'broken_label': '1:Interviewer',\n",
       "  'close_to': ['Interviewer'],\n",
       "  'doc': Document(3001_077.txt, s1062_s2022-26_s3076-97),\n",
       "  'row_num': 6,\n",
       "  'prev_line': ['1:Speaker: Boys and girls alike.'],\n",
       "  'line': '1:Interviewer: Pretty universal robot. So my examples are going to be a little different from those. But I’ll let you look at those at your leisure. We have three options there, so as you’re looking through them I’m going to ask you a couples questions first about your overall preference. So which one you like the most and then if you think kids would like something different from what you like.'},\n",
       " {'broken_label': '1:Interviewer',\n",
       "  'close_to': ['Interviewer'],\n",
       "  'doc': Document(3001_077.txt, s1062_s2022-26_s3076-97),\n",
       "  'row_num': 8,\n",
       "  'prev_line': ['1:Speaker: This looks like older kids to me.'],\n",
       "  'line': '1:Interviewer: Option 3'},\n",
       " {'broken_label': '1:Interviewer',\n",
       "  'close_to': ['Interviewer'],\n",
       "  'doc': Document(3001_077.txt, s1062_s2022-26_s3076-97),\n",
       "  'row_num': 10,\n",
       "  'prev_line': ['1:Speaker: This looks a little more mature like teens. This feels very vanilla to me.'],\n",
       "  'line': '1:Interviewer: Options two seems kind of vanilla?'},\n",
       " {'broken_label': '1:Interviewer',\n",
       "  'close_to': ['Interviewer'],\n",
       "  'doc': Document(3001_077.txt, s1062_s2022-26_s3076-97),\n",
       "  'row_num': 12,\n",
       "  'prev_line': ['1:Speaker: Like its friendly but this one is the one I like the best. It seems more creative and youthful but also that’s what I’m drawn to.  I also really like it because you blend humans and I like anything that looks hand rendered and I think kids identify with that too.'],\n",
       "  'line': '1:Interviewer: So you like option 1 the best and you like the mixture of the animated and the hand drawn. You like that options personally the best but would that be the best for kids?'},\n",
       " {'broken_label': '1:Interviewer',\n",
       "  'close_to': ['Interviewer'],\n",
       "  'doc': Document(3001_077.txt, s1062_s2022-26_s3076-97),\n",
       "  'row_num': 14,\n",
       "  'prev_line': ['1:Speaker:  I don’t know. These are softer and playful'],\n",
       "  'line': '1:Interviewer: Option 2 is a little bit softer. Ok. What do you think should be the take home message of these videos? We’ve kind of hit on this so… Unless I’m mistaken.'},\n",
       " {'broken_label': '1:Interviewer',\n",
       "  'close_to': ['Interviewer'],\n",
       "  'doc': Document(3001_077.txt, s1062_s2022-26_s3076-97),\n",
       "  'row_num': 16,\n",
       "  'prev_line': ['1:Speaker: I feel like there’s so many buzzwords but you know it really is just like doable because you get results. You can see results. Nearly immediately without much doing on my part other than bringing my child here and getting him the space to be; whatever happens in there. And then just kind of being aware and I did get some tips like you can’t be so nice. Don’t be so reassuring or affirming. Just not like trying to fix everything. But like it really is doable; it’s not a hard thing to do or take a lot of resources to do other than time and money. So I think it’s pretty quick. User friendly. Again I didn’t have to as a parent lead things or keep up with a whole lot like it’s something that really empowered my child to own it and take it into her own hands for the most part.'],\n",
       "  'line': '1:Interviewer: That makes a lot of sense. You as a parent or you as a child that would be nice to get from the video.'},\n",
       " {'broken_label': 'Speaker1',\n",
       "  'close_to': ['Speaker'],\n",
       "  'doc': Document(3001_011.txt, s1036-42_s2008-9_s3000-15),\n",
       "  'row_num': 57,\n",
       "  'prev_line': ['Interviewer: So, um overall take home message of the video, if you had to really concisely sum it all up in terms of what absolutely should be in the video, what should that be?'],\n",
       "  'line': 'Speaker1: Umm'},\n",
       " {'broken_label': 'Speaker1',\n",
       "  'close_to': ['Speaker'],\n",
       "  'doc': Document(3001_012.txt, s1036-42_s2008-9_s3000-15),\n",
       "  'row_num': 0,\n",
       "  'prev_line': ['Interviewer: That’s completely fine if you feel that you can’t explain it.'],\n",
       "  'line': 'Speaker1: Yeah that’s like you know… like it’s a lifestyle change.'},\n",
       " {'broken_label': '[Participant',\n",
       "  'close_to': ['Participant'],\n",
       "  'doc': Document(040_487.txt, s1036-42_s2008-9_s3000-15),\n",
       "  'row_num': 26,\n",
       "  'prev_line': ['Wanted to put it right handy in a little container.'],\n",
       "  'line': 'I wanted to put it up with the salt and the oatmeal, and my husband said [inaudible 00:45:33] and he harrumphed and \" [Participant 040 00:22:36]?\" And I looked at what I had and what I was doing and promptly put it where it was supposed to be.'}]"
      ]
     },
     "execution_count": 4,
     "metadata": {},
     "output_type": "execute_result"
    }
   ],
   "source": [
    "from difflib import get_close_matches\n",
    "import utils.regexes as rxs\n",
    "import string\n",
    "import re\n",
    "\n",
    "threshold = 0.85\n",
    "BLACKLIST = ['Interview', 'Participants', 'Interviewees', 'Interviewer 1', \n",
    "             'Interviewer 2', 'Participate', '\"Participant',\n",
    "             'Broparticipant', 'Taparticipant'] # ??? Found these have no idea what happened here\n",
    "potential_spelling_issues = [\n",
    "    {\n",
    "        \"broken_label\" : token_fixed, # fixed due to processing, broken due to misspelling or other error\n",
    "        \"close_to\" : matches,\n",
    "        \"doc\" : doc,\n",
    "        \"row_num\" : row_num,\n",
    "        \"prev_line\" : [doc.lines[row_num-1]],\n",
    "        \"line\" : doc.lines[row_num]\n",
    "    }\n",
    "    for doc, token_list in doc_token_content\n",
    "    for tokenized_line, row_num in token_list\n",
    "    for token in tokenized_line\n",
    "    if (matches := get_close_matches(token, rxs.SPEAKERS, \n",
    "                                     cutoff=threshold))\n",
    "    and (token_fixed := token.title().rstrip(string.punctuation)) \n",
    "        not in BLACKLIST\n",
    "    and not any(token_fixed == match for match in matches)\n",
    "]\n",
    "potential_spelling_issues"
   ]
  },
  {
   "cell_type": "code",
   "execution_count": 5,
   "id": "c36fb74e",
   "metadata": {},
   "outputs": [
    {
     "data": {
      "text/plain": [
       "True"
      ]
     },
     "execution_count": 5,
     "metadata": {},
     "output_type": "execute_result"
    }
   ],
   "source": [
    "# There is no issue that is close to more than one speaker label\n",
    "not any(len(item[\"close_to\"]) != 1 for item in potential_spelling_issues)"
   ]
  },
  {
   "cell_type": "code",
   "execution_count": 6,
   "id": "fe9956a1",
   "metadata": {},
   "outputs": [
    {
     "data": {
      "text/plain": [
       "['1:Interviewer',\n",
       " '1:Speaker',\n",
       " '1:Speaker',\n",
       " '1:Interviewer',\n",
       " '1:Speaker',\n",
       " '1:Speaker',\n",
       " '1:Interviewer',\n",
       " '1:Speaker',\n",
       " '1:Interviewer',\n",
       " '1:Interviewer',\n",
       " '1:Interviewer',\n",
       " '1:Speaker',\n",
       " '1:Interviewer',\n",
       " '1:Speaker',\n",
       " '1:Interviewer',\n",
       " '1:Speaker',\n",
       " '1:Interviewer',\n",
       " '1:Speaker',\n",
       " '1:Interviewer',\n",
       " '1:Speaker',\n",
       " '1:Interviewer',\n",
       " '1:Speaker',\n",
       " '1:Interviewer',\n",
       " '1:Speaker',\n",
       " '1:Interviewer',\n",
       " '1:Speaker',\n",
       " '1:Interviewer']"
      ]
     },
     "execution_count": 6,
     "metadata": {},
     "output_type": "execute_result"
    }
   ],
   "source": [
    "# Find all instances of this one particular issue\n",
    "all_doc_content_lol = '\\n'.join(doc.full_content for doc in data.by_doc)\n",
    "weird_number_in_front = re.findall(r'\\d:[a-zA-Z]+', all_doc_content_lol)\n",
    "weird_number_in_front"
   ]
  },
  {
   "cell_type": "markdown",
   "id": "d22685ec",
   "metadata": {},
   "source": [
    "Fixing this:"
   ]
  },
  {
   "cell_type": "code",
   "execution_count": 7,
   "id": "1177b385",
   "metadata": {},
   "outputs": [
    {
     "data": {
      "text/plain": [
       "['Interviewer',\n",
       " 'Speaker',\n",
       " 'Speaker',\n",
       " 'Interviewer',\n",
       " 'Speaker',\n",
       " 'Speaker',\n",
       " 'Interviewer',\n",
       " 'Speaker',\n",
       " 'Interviewer',\n",
       " 'Interviewer',\n",
       " 'Interviewer',\n",
       " 'Speaker',\n",
       " 'Interviewer',\n",
       " 'Speaker',\n",
       " 'Interviewer',\n",
       " 'Speaker',\n",
       " 'Interviewer',\n",
       " 'Speaker',\n",
       " 'Interviewer',\n",
       " 'Speaker',\n",
       " 'Interviewer',\n",
       " 'Speaker',\n",
       " 'Interviewer',\n",
       " 'Speaker',\n",
       " 'Interviewer',\n",
       " 'Speaker',\n",
       " 'Interviewer']"
      ]
     },
     "execution_count": 7,
     "metadata": {},
     "output_type": "execute_result"
    }
   ],
   "source": [
    "list(map(lambda s : s.replace('1:', ''), weird_number_in_front))"
   ]
  },
  {
   "cell_type": "code",
   "execution_count": 8,
   "id": "1ed6dd77",
   "metadata": {},
   "outputs": [
    {
     "data": {
      "text/plain": [
       "['Interviewer1', 'Speaker1', '2Participant']"
      ]
     },
     "execution_count": 8,
     "metadata": {},
     "output_type": "execute_result"
    }
   ],
   "source": [
    "# And these ones\n",
    "number_issues = []\n",
    "prepended = re.findall(r'\\d(?:{sl})'.format(sl='|'.join(rxs.SPEAKERS)), \n",
    "                       all_doc_content_lol)\n",
    "appended = re.findall(r'(?:{sl})\\d'.format(sl='|'.join(rxs.SPEAKERS)), \n",
    "                      all_doc_content_lol)\n",
    "number_issues = list(set(prepended) | set(appended))\n",
    "number_issues"
   ]
  },
  {
   "cell_type": "code",
   "execution_count": 9,
   "id": "c9c217f2",
   "metadata": {},
   "outputs": [
    {
     "data": {
      "text/plain": [
       "['[Participant']"
      ]
     },
     "execution_count": 9,
     "metadata": {},
     "output_type": "execute_result"
    }
   ],
   "source": [
    "the_rest = [\n",
    "    token\n",
    "    for item in potential_spelling_issues\n",
    "    if (token := item[\"broken_label\"]) not in \n",
    "    weird_number_in_front + number_issues\n",
    "]\n",
    "the_rest"
   ]
  },
  {
   "cell_type": "code",
   "execution_count": 10,
   "id": "b69753d1",
   "metadata": {},
   "outputs": [
    {
     "data": {
      "text/plain": [
       "[{'broken_label': '[Participant',\n",
       "  'close_to': ['Participant'],\n",
       "  'doc': Document(040_487.txt, s1036-42_s2008-9_s3000-15),\n",
       "  'row_num': 26,\n",
       "  'prev_line': ['Wanted to put it right handy in a little container.'],\n",
       "  'line': 'I wanted to put it up with the salt and the oatmeal, and my husband said [inaudible 00:45:33] and he harrumphed and \" [Participant 040 00:22:36]?\" And I looked at what I had and what I was doing and promptly put it where it was supposed to be.'}]"
      ]
     },
     "execution_count": 10,
     "metadata": {},
     "output_type": "execute_result"
    }
   ],
   "source": [
    "[item\n",
    " for item in potential_spelling_issues\n",
    " if item[\"broken_label\"] == '[Participant']"
   ]
  },
  {
   "cell_type": "code",
   "execution_count": 11,
   "id": "6ed1b0f4",
   "metadata": {},
   "outputs": [
    {
     "data": {
      "text/plain": [
       "[]"
      ]
     },
     "execution_count": 11,
     "metadata": {},
     "output_type": "execute_result"
    }
   ],
   "source": [
    "# don't care about the last one\n",
    "the_rest = the_rest[:-1]\n",
    "the_rest # only misspellings left"
   ]
  },
  {
   "cell_type": "code",
   "execution_count": 19,
   "id": "5ee42799",
   "metadata": {},
   "outputs": [
    {
     "data": {
      "text/plain": [
       "['dog', 'rhinocerous', 'cat', 'hippo']"
      ]
     },
     "execution_count": 19,
     "metadata": {},
     "output_type": "execute_result"
    }
   ],
   "source": [
    "animals = [\"dog\", \"cat\", \"hippo\"]\n",
    "animals.insert(1, \"rhinocerous\")\n",
    "animals"
   ]
  },
  {
   "cell_type": "markdown",
   "id": "040f104e",
   "metadata": {},
   "source": [
    "All this led to `fix_misspelled_labels.py`."
   ]
  },
  {
   "cell_type": "markdown",
   "id": "b41cd9f3",
   "metadata": {},
   "source": [
    "# Fix spacing issues"
   ]
  },
  {
   "cell_type": "markdown",
   "id": "d988fc5b",
   "metadata": {},
   "source": [
    "### Sub-issue: labels followed improperly by timestamps"
   ]
  },
  {
   "cell_type": "code",
   "execution_count": 12,
   "id": "8fb65c9b",
   "metadata": {},
   "outputs": [
    {
     "data": {
      "text/plain": [
       "['Interviewer19:09']"
      ]
     },
     "execution_count": 12,
     "metadata": {},
     "output_type": "execute_result"
    }
   ],
   "source": [
    "label_timestamp = re.compile(r'(?:{ss})(?:{ts})'\n",
    "                             .format(ss='|'.join(rxs.SPEAKERS), \n",
    "                                     ts=rxs.timestamps.pattern))\n",
    "label_timestamp.findall(all_doc_content_lol)\n",
    "# Seems like this is the only instance of this issue"
   ]
  },
  {
   "cell_type": "markdown",
   "id": "6f39c8e8",
   "metadata": {},
   "source": [
    "## Actual Issue"
   ]
  },
  {
   "cell_type": "markdown",
   "id": "7b43c0d3",
   "metadata": {},
   "source": [
    "With misspellings fixed, we now assume that all of our speaker labels are accurate. We now tend to the issue of improper label formatting, like `\"Label :\"` or `\"Label.\"`"
   ]
  },
  {
   "cell_type": "code",
   "execution_count": 13,
   "id": "484cc639",
   "metadata": {},
   "outputs": [
    {
     "data": {
      "text/plain": [
       "[({'bad_punctuation': ['Speaker1']},\n",
       "  ['Speaker1 – To me just from being in therapy so much all the time with the children, I think of holding hands or a hand reaching out to grab another hand because it’s like your giving a tool, a way of lie, a way to combat something that can be overwhelming, so somebody’s helping you, helping hand to lift you up and get you to that next step.'],\n",
       "  Document(3001_039.txt, s1046-50_s2012-13_s3026-50)),\n",
       " ({'bad_punctuation': ['Interviewer1']},\n",
       "  ['Interviewer19:09- Ok sounds good. So, you’ve Mentioned that your partner keeps your behavior in check. But how do your other friends and family feel about your behavior?'],\n",
       "  Document(059_718.txt, s1059-60_s2020-21)),\n",
       " ({'bad_punctuation': ['Speaker1']},\n",
       "  ['Speaker1: Umm'],\n",
       "  Document(3001_011.txt, s1036-42_s2008-9_s3000-15)),\n",
       " ({'bad_punctuation': ['Speaker1']},\n",
       "  ['Speaker1: Yeah that’s like you know… like it’s a lifestyle change.'],\n",
       "  Document(3001_012.txt, s1036-42_s2008-9_s3000-15))]"
      ]
     },
     "execution_count": 13,
     "metadata": {},
     "output_type": "execute_result"
    }
   ],
   "source": [
    "[(issues, \n",
    "  [line for line in doc.lines if issues[\"bad_punctuation\"][0] in line],\n",
    "  doc)\n",
    " for doc in data.by_doc\n",
    " if (issues := rxs.find_speaker_format_issues(doc.full_content))\n",
    " and not issues[\"bad_punctuation\"][0].endswith(tuple(string.punctuation + 's'))]"
   ]
  },
  {
   "cell_type": "markdown",
   "id": "7d89382e",
   "metadata": {},
   "source": [
    "Don't forget about broken timestamps"
   ]
  },
  {
   "cell_type": "code",
   "execution_count": 14,
   "id": "dc2895b1",
   "metadata": {},
   "outputs": [
    {
     "data": {
      "text/plain": [
       "[['17:33', 'Interviewer:'],\n",
       " ['And',\n",
       "  'have',\n",
       "  'you',\n",
       "  'ever',\n",
       "  'sought',\n",
       "  'to',\n",
       "  'change',\n",
       "  'this',\n",
       "  'behavior',\n",
       "  'like'],\n",
       " ['Participant:'],\n",
       " ['So',\n",
       "  'I',\n",
       "  'was',\n",
       "  'gonna',\n",
       "  'say',\n",
       "  'um',\n",
       "  'just',\n",
       "  'he',\n",
       "  'decreases,',\n",
       "  'my',\n",
       "  'opportunity',\n",
       "  'for',\n",
       "  'hoarding.'],\n",
       " ['17:47', 'Interviewer:'],\n",
       " ['Okay,', 'so', 'he', 'decreases', 'your', 'opportunity.'],\n",
       " ['Participant:'],\n",
       " ['My', 'opportunity.', 'Yeah'],\n",
       " ['17:54', 'Interviewer:'],\n",
       " ['And', 'have', 'you', 'ever', 'sought', 'to', 'change', 'this', 'behavior?'],\n",
       " ['Participant:'],\n",
       " ['Yes,',\n",
       "  'yes',\n",
       "  'I',\n",
       "  'do.',\n",
       "  'I',\n",
       "  'have',\n",
       "  'a',\n",
       "  'like',\n",
       "  'a',\n",
       "  'trick',\n",
       "  'that',\n",
       "  'I',\n",
       "  'do,',\n",
       "  'which',\n",
       "  'is',\n",
       "  'To',\n",
       "  'get',\n",
       "  'rid',\n",
       "  'of',\n",
       "  'five',\n",
       "  'things.',\n",
       "  'So,',\n",
       "  'I',\n",
       "  'try',\n",
       "  'to',\n",
       "  'on',\n",
       "  'the',\n",
       "  'weekends',\n",
       "  'or',\n",
       "  'on',\n",
       "  'other',\n",
       "  'days',\n",
       "  'when',\n",
       "  \"there's\",\n",
       "  'like',\n",
       "  'more',\n",
       "  'time.',\n",
       "  'I',\n",
       "  'work',\n",
       "  'sometimes.',\n",
       "  'I',\n",
       "  'will',\n",
       "  'challenge',\n",
       "  'myself',\n",
       "  'to',\n",
       "  'get',\n",
       "  'rid',\n",
       "  'of',\n",
       "  'five',\n",
       "  'things.'],\n",
       " ['18:31', 'Interviewer:'],\n",
       " [\"That's\",\n",
       "  'awesome.',\n",
       "  'Okay.',\n",
       "  'And',\n",
       "  'have',\n",
       "  'you',\n",
       "  'ever',\n",
       "  'gone',\n",
       "  'to',\n",
       "  'a',\n",
       "  'professional',\n",
       "  'for',\n",
       "  'help.'],\n",
       " ['Participant:'],\n",
       " ['No.'],\n",
       " ['18:38', 'Interviewer:'],\n",
       " ['Okay.',\n",
       "  'Um,',\n",
       "  'why',\n",
       "  'have',\n",
       "  'you',\n",
       "  'never',\n",
       "  'gone',\n",
       "  'to',\n",
       "  'a',\n",
       "  'professional',\n",
       "  'for',\n",
       "  'help?'],\n",
       " ['Participant:'],\n",
       " ['Well,',\n",
       "  'I',\n",
       "  'guess,',\n",
       "  'because',\n",
       "  'I',\n",
       "  'guess',\n",
       "  'I',\n",
       "  \"don't\",\n",
       "  'feel',\n",
       "  'that',\n",
       "  'much',\n",
       "  'of',\n",
       "  'a',\n",
       "  'problem.',\n",
       "  \"Doesn't\",\n",
       "  'impact',\n",
       "  'me',\n",
       "  'financially',\n",
       "  'because',\n",
       "  'my',\n",
       "  'focus',\n",
       "  'is',\n",
       "  'on',\n",
       "  'free',\n",
       "  'and',\n",
       "  'cheap',\n",
       "  'things.',\n",
       "  'And',\n",
       "  'um,',\n",
       "  'it',\n",
       "  'doesn’t',\n",
       "  'keep',\n",
       "  'me',\n",
       "  'up',\n",
       "  'at',\n",
       "  'night.',\n",
       "  'It',\n",
       "  'doesn’t',\n",
       "  'cause',\n",
       "  'me',\n",
       "  'stress.'],\n",
       " ['Interviewer19:09-',\n",
       "  'Ok',\n",
       "  'sounds',\n",
       "  'good.',\n",
       "  'So,',\n",
       "  'you’ve',\n",
       "  'Mentioned',\n",
       "  'that',\n",
       "  'your',\n",
       "  'partner',\n",
       "  'keeps',\n",
       "  'your',\n",
       "  'behavior',\n",
       "  'in',\n",
       "  'check.',\n",
       "  'But',\n",
       "  'how',\n",
       "  'do',\n",
       "  'your',\n",
       "  'other',\n",
       "  'friends',\n",
       "  'and',\n",
       "  'family',\n",
       "  'feel',\n",
       "  'about',\n",
       "  'your',\n",
       "  'behavior?'],\n",
       " ['Participant:'],\n",
       " ['I',\n",
       "  'think',\n",
       "  'that.',\n",
       "  'Well,',\n",
       "  'I,',\n",
       "  'my',\n",
       "  'friends,',\n",
       "  'my',\n",
       "  'family.',\n",
       "  'I',\n",
       "  \"don't\",\n",
       "  'think',\n",
       "  'they',\n",
       "  'have',\n",
       "  'any',\n",
       "  'concerns',\n",
       "  'because',\n",
       "  'they’re',\n",
       "  'worse.',\n",
       "  'But',\n",
       "  'I',\n",
       "  'would',\n",
       "  'say',\n",
       "  'that…My',\n",
       "  'friends,',\n",
       "  'um,',\n",
       "  'its',\n",
       "  'just',\n",
       "  'kind',\n",
       "  'of',\n",
       "  'embarrassing.',\n",
       "  '[unclear]',\n",
       "  '(19:48)',\n",
       "  'But',\n",
       "  'like,',\n",
       "  'you',\n",
       "  'know,',\n",
       "  'somebody',\n",
       "  'has',\n",
       "  'a',\n",
       "  'bag',\n",
       "  'of',\n",
       "  'clothes',\n",
       "  'or',\n",
       "  'something',\n",
       "  'that',\n",
       "  'they',\n",
       "  'want',\n",
       "  'to',\n",
       "  'take',\n",
       "  'to',\n",
       "  'good',\n",
       "  'will',\n",
       "  'in',\n",
       "  'the',\n",
       "  'garage',\n",
       "  'they’ve',\n",
       "  'got',\n",
       "  'like',\n",
       "  'a',\n",
       "  'pile',\n",
       "  'of',\n",
       "  'things',\n",
       "  'that’s',\n",
       "  'meant',\n",
       "  'to',\n",
       "  'go',\n",
       "  'to',\n",
       "  'charity',\n",
       "  'or',\n",
       "  'something',\n",
       "  'like',\n",
       "  'that.',\n",
       "  'And',\n",
       "  'so,',\n",
       "  'sometimes',\n",
       "  'people',\n",
       "  'say',\n",
       "  '“Oh',\n",
       "  'here',\n",
       "  'I’ve',\n",
       "  'got',\n",
       "  'a',\n",
       "  'pile',\n",
       "  'of',\n",
       "  'clothes,',\n",
       "  'see',\n",
       "  'if',\n",
       "  'there’s',\n",
       "  'anything',\n",
       "  'in',\n",
       "  'here',\n",
       "  'that',\n",
       "  'you',\n",
       "  'like.”',\n",
       "  'So,',\n",
       "  \"I'm\",\n",
       "  'always',\n",
       "  'very',\n",
       "  'Eager',\n",
       "  'to',\n",
       "  'look',\n",
       "  'through',\n",
       "  'people',\n",
       "  'things.',\n",
       "  'And',\n",
       "  'so',\n",
       "  'I',\n",
       "  'think',\n",
       "  'that',\n",
       "  'that',\n",
       "  'when',\n",
       "  'if',\n",
       "  'that',\n",
       "  'if',\n",
       "  'that',\n",
       "  'I’m',\n",
       "  'over',\n",
       "  'like',\n",
       "  'a',\n",
       "  'couple',\n",
       "  'of',\n",
       "  'times',\n",
       "  'and',\n",
       "  'I',\n",
       "  'have',\n",
       "  'that',\n",
       "  'opportunity',\n",
       "  'to',\n",
       "  'do',\n",
       "  'that',\n",
       "  'every',\n",
       "  'time',\n",
       "  \"I'm\",\n",
       "  'there',\n",
       "  'and',\n",
       "  'I',\n",
       "  'feel',\n",
       "  'that',\n",
       "  'the',\n",
       "  'person',\n",
       "  'feels',\n",
       "  'that',\n",
       "  'maybe',\n",
       "  'like',\n",
       "  'kind',\n",
       "  'of',\n",
       "  'moochy',\n",
       "  'or',\n",
       "  'grabby',\n",
       "  'about',\n",
       "  'things',\n",
       "  'and',\n",
       "  'So,',\n",
       "  'or',\n",
       "  'that',\n",
       "  \"I'm\",\n",
       "  'only',\n",
       "  'going',\n",
       "  'over',\n",
       "  'there',\n",
       "  'to',\n",
       "  'look',\n",
       "  'for',\n",
       "  'their',\n",
       "  'free',\n",
       "  'things.',\n",
       "  'I',\n",
       "  \"don't\",\n",
       "  'think',\n",
       "  'that',\n",
       "  \"that's\",\n",
       "  'the',\n",
       "  'case.',\n",
       "  'But',\n",
       "  'I',\n",
       "  'feel',\n",
       "  'like',\n",
       "  'they’re',\n",
       "  'looking',\n",
       "  'at',\n",
       "  'me',\n",
       "  'like,',\n",
       "  '“oh,',\n",
       "  'what',\n",
       "  'does',\n",
       "  'she',\n",
       "  'want',\n",
       "  'now?”'],\n",
       " ['21:01', 'Interviewer:'],\n",
       " ['Okay.',\n",
       "  'Like',\n",
       "  'you',\n",
       "  'just',\n",
       "  'have',\n",
       "  'you',\n",
       "  'just',\n",
       "  'have',\n",
       "  'like',\n",
       "  'a',\n",
       "  'feeling',\n",
       "  'like',\n",
       "  'an',\n",
       "  'intuition.',\n",
       "  'But',\n",
       "  \"there's\",\n",
       "  'never',\n",
       "  'been',\n",
       "  'like',\n",
       "  'any',\n",
       "  'open',\n",
       "  'conflict?'],\n",
       " ['Participant:'],\n",
       " ['No,',\n",
       "  'no,',\n",
       "  'no,',\n",
       "  'no,',\n",
       "  'but',\n",
       "  'I',\n",
       "  'feel',\n",
       "  'like',\n",
       "  'a',\n",
       "  'person',\n",
       "  'is',\n",
       "  'thinking'],\n",
       " ['21:20', 'Interviewer:'],\n",
       " ['like', \"you're\", 'being', 'judged.'],\n",
       " ['Participant:'],\n",
       " ['Yeah.', 'Yeah.'],\n",
       " ['21:23', 'Interviewer:'],\n",
       " ['Okay.',\n",
       "  'Um,',\n",
       "  'so',\n",
       "  'like',\n",
       "  'relating',\n",
       "  'to',\n",
       "  'that.',\n",
       "  'Have',\n",
       "  'you',\n",
       "  'ever',\n",
       "  'had',\n",
       "  'conflicts',\n",
       "  'with',\n",
       "  'people',\n",
       "  'close',\n",
       "  'to',\n",
       "  'you,',\n",
       "  'or',\n",
       "  'maybe',\n",
       "  'landlords',\n",
       "  'about',\n",
       "  'your',\n",
       "  'behavior?']]"
      ]
     },
     "execution_count": 14,
     "metadata": {},
     "output_type": "execute_result"
    }
   ],
   "source": [
    "# I have no idea what the hell is wrong with this transcript. I think \n",
    "# there may be more misnamed documents.\n",
    "from utils.transcript import Transcript\n",
    "\n",
    "doc = Transcript(\"059\")[\"718\"]\n",
    "bad_line_index = [i for i in range(len(doc.lines)) \n",
    "            if \"Interviewer19:09-\" in doc.lines[i]][0]\n",
    "doc.tokens"
   ]
  },
  {
   "cell_type": "code",
   "execution_count": 15,
   "id": "36ce1fd4",
   "metadata": {},
   "outputs": [
    {
     "data": {
      "text/plain": [
       "[]"
      ]
     },
     "execution_count": 15,
     "metadata": {},
     "output_type": "execute_result"
    }
   ],
   "source": [
    "# Wow, there really are no spacing issues? I could have sworn that I saw some.\n",
    "re.findall(r'[\\w:]+\\s+:', all_doc_content_lol)"
   ]
  },
  {
   "cell_type": "markdown",
   "id": "10464fa6",
   "metadata": {},
   "source": [
    "# Fix timestamps"
   ]
  },
  {
   "cell_type": "code",
   "execution_count": 104,
   "id": "16bb597b",
   "metadata": {},
   "outputs": [
    {
     "data": {
      "text/plain": [
       "[('07: 27', '07:27', 4, ['3001', '030']),\n",
       " ('07: 27', '07:27', 23, ['3001', '048']),\n",
       " ('26: 35', '26:35', 14, ['2004', '053']),\n",
       " ('03: 58', '03:58', 9, ['3001', '082']),\n",
       " ('07: 34', '07:34', 1, ['3001', '083']),\n",
       " ('30: 31', '30:31', 5, ['3001', '087']),\n",
       " ('35: 11', '35:11', 9, ['3001', '088']),\n",
       " ('09: 22', '09:22', 9, ['059', '716']),\n",
       " ('34: 54', '34:54', 34, ['3001', '007']),\n",
       " ('38: 23', '38:23', 19, ['3001', '008']),\n",
       " ('26: 48', '26:48', 26, ['3001', '005']),\n",
       " ('03: 44', '03:44', 27, ['3001', '000']),\n",
       " ('41: 50', '41:50', 29, ['3001', '009']),\n",
       " ('43: 27', '43:27', 41, ['3001', '009']),\n",
       " ('31: 23', '31:23', 30, ['3001', '006'])]"
      ]
     },
     "execution_count": 104,
     "metadata": {},
     "output_type": "execute_result"
    }
   ],
   "source": [
    "[(match.group(), match.group().replace(' ', ''), \n",
    "  row_num, doc.name.rstrip('.txt').split('_')) \n",
    " for doc in data.by_doc \n",
    " for row_num in range(len(doc.lines))\n",
    " if (match := re.search(r'\\d{2}:\\s\\d{2}', (line := doc.lines[row_num])))]"
   ]
  },
  {
   "cell_type": "code",
   "execution_count": null,
   "id": "78a007f1",
   "metadata": {},
   "outputs": [
    {
     "data": {
      "text/plain": [
       "[('34:4y', '34:4y', 44, ['054', '671']),\n",
       " ('er:Ri', 'er:Ri', 14, ['3001', '039']),\n",
       " ('36:4o', '36:4o', 15, ['3001', '034'])]"
      ]
     },
     "execution_count": 107,
     "metadata": {},
     "output_type": "execute_result"
    }
   ],
   "source": [
    "pattern = r'\\w{2}:\\w{2}'\n",
    "# [match for match in re.findall(r, all_doc_content_lol)\n",
    "#  if any(letter in match for letter in string.ascii_letters)]\n",
    "[(match.group(), row_num, doc.name.rstrip('.txt').split('_')) \n",
    " for doc in data.by_doc \n",
    " for row_num in range(len(doc.lines))\n",
    " if (match := re.search(pattern, doc.lines[row_num]))\n",
    " and any(letter in match.group() for letter in string.ascii_letters)]"
   ]
  },
  {
   "cell_type": "code",
   "execution_count": 85,
   "id": "619ac465",
   "metadata": {},
   "outputs": [
    {
     "data": {
      "text/plain": [
       "[('Interviewer:Right', 14, Document(3001_039.txt, s1046-50_s2012-13_s3026-50))]"
      ]
     },
     "execution_count": 85,
     "metadata": {},
     "output_type": "execute_result"
    }
   ],
   "source": [
    "[(line, i, doc) \n",
    " for doc in data.by_doc \n",
    " for i in range(len(doc.lines))\n",
    " if 'er:Ri' in (line := doc.lines[i])]"
   ]
  },
  {
   "cell_type": "markdown",
   "id": "3b3b0c13",
   "metadata": {},
   "source": [
    "# Find speaker labels that are missing newlines"
   ]
  },
  {
   "cell_type": "code",
   "execution_count": null,
   "id": "cc81392e",
   "metadata": {},
   "outputs": [
    {
     "data": {
      "text/plain": [
       "[('8:29 Interviewer:',\n",
       "  'No. 8:29 Interviewer:',\n",
       "  67,\n",
       "  Document(053_652.txt, s1051-54_s2014-19_s3051-75),\n",
       "  4),\n",
       " ('17:39 Interviewer:',\n",
       "  'Yeah, yeah. 17:39 Interviewer:',\n",
       "  34,\n",
       "  Document(062_741.txt, s1062_s2022-26_s3076-97),\n",
       "  12),\n",
       " ('8:03 Interviewer:',\n",
       "  'Yeah. 8:03 Interviewer:',\n",
       "  16,\n",
       "  Document(062_739.txt, s1062_s2022-26_s3076-97),\n",
       "  6),\n",
       " ('00:49: Interviewer:',\n",
       "  '1:00:49: Interviewer: So do you think having two separate videos would be beneficial but in addition would you prefer to have one five minute video or two separate three minute.',\n",
       "  11,\n",
       "  Document(3001_076.txt, s1062_s2022-26_s3076-97),\n",
       "  2),\n",
       " ('24:54 Interviewer:',\n",
       "  'Yes. 24:54 Interviewer:',\n",
       "  3,\n",
       "  Document(062_744.txt, s1062_s2022-26_s3076-97),\n",
       "  5),\n",
       " ('26:11 Interviewer:',\n",
       "  'That’s a good question. 26:11 Interviewer:',\n",
       "  18,\n",
       "  Document(062_744.txt, s1062_s2022-26_s3076-97),\n",
       "  24),\n",
       " ('27:20 Interviewer:',\n",
       "  'For sure, yes. 27:20 Interviewer:',\n",
       "  33,\n",
       "  Document(062_744.txt, s1062_s2022-26_s3076-97),\n",
       "  15),\n",
       " ('10:41 Interviewer:',\n",
       "  'I think it’s worse now because I’m collecting more and buying more than I could have when I was a kid. 10:41 Interviewer:',\n",
       "  3,\n",
       "  Document(062_740.txt, s1062_s2022-26_s3076-97),\n",
       "  103),\n",
       " ('11:39 Interviewer:',\n",
       "  'Yeah, I think so a little bit, just because I have more time and freedom to, you know, buy things. Yeah, and then just being home more… more places to not clean up. 11:39 Interviewer:',\n",
       "  14,\n",
       "  Document(062_740.txt, s1062_s2022-26_s3076-97),\n",
       "  165),\n",
       " ('12:00 Interviewer:',\n",
       "  'I keep making little attempts, especially when my husband or child gets upset with me and says, “Just do one thing a day,” and I start doing that for maybe a day or two, and then I don’t. 12:00 Interviewer:',\n",
       "  17,\n",
       "  Document(062_740.txt, s1062_s2022-26_s3076-97),\n",
       "  188),\n",
       " ('22:14 Interviewer:',\n",
       "  'Yeah. 22:14 Interviewer:',\n",
       "  5,\n",
       "  Document(062_743.txt, s1062_s2022-26_s3076-97),\n",
       "  6),\n",
       " ('22:39 Interviewer:',\n",
       "  'Like old various cords for old various computers I don’t have anymore and all that kind of stuff. I have a whole, you know, those red ice buckets, those big ones- I have one full of that crap! 22:39 Interviewer:',\n",
       "  12,\n",
       "  Document(062_743.txt, s1062_s2022-26_s3076-97),\n",
       "  193),\n",
       " ('22:59 Interviewer:',\n",
       "  'Well aside from the people in it and my puppy dog.. Precious, the most precious item in my house… just one?! 22:59 Interviewer:',\n",
       "  15,\n",
       "  Document(062_743.txt, s1062_s2022-26_s3076-97),\n",
       "  109),\n",
       " ('23:01 Interviewer:',\n",
       "  'The photos. 23:01 Interviewer:',\n",
       "  17,\n",
       "  Document(062_743.txt, s1062_s2022-26_s3076-97),\n",
       "  12),\n",
       " ('23:09 Interviewer:',\n",
       "  'Yeah, and included in photos are like videos and movies we take too. 23:09 Interviewer:',\n",
       "  20,\n",
       "  Document(062_743.txt, s1062_s2022-26_s3076-97),\n",
       "  69),\n",
       " ('24:02 Interviewer:',\n",
       "  'Yes, yes. 24:02 Interviewer:',\n",
       "  31,\n",
       "  Document(062_743.txt, s1062_s2022-26_s3076-97),\n",
       "  10),\n",
       " ('37:26 Interviewer:',\n",
       "  ' 37:26 Interviewer:',\n",
       "  10,\n",
       "  Document(060_738.txt, s1059-60_s2020-21),\n",
       "  1),\n",
       " ('36:13 Interviewer:',\n",
       "  ' 36:13 Interviewer:',\n",
       "  46,\n",
       "  Document(060_737.txt, s1059-60_s2020-21),\n",
       "  1)]"
      ]
     },
     "execution_count": 76,
     "metadata": {},
     "output_type": "execute_result"
    }
   ],
   "source": [
    "from utils.transcript import Transcript\n",
    "\n",
    "\"\"\"\n",
    "Interview: Hello how are you\n",
    "Participant: Good and youInterviewer: thanks\n",
    "\"\"\"\n",
    "\n",
    "# print(Transcript(\"053\")[\"652\"].full_content)\n",
    "\n",
    "pattern = re.compile(r'(?:\\s*{ts}\\s*)?-?{sl}'\n",
    "                     .format(sl=rxs.speaker_labels_restricted.pattern,\n",
    "                             ts=rxs.timestamps.pattern))\n",
    "[\n",
    "    (match.group(), doc.lines[i], i, doc, match.start())\n",
    "    for doc in data.by_doc\n",
    "    for i in range(len(doc.lines))\n",
    "    for match in pattern.finditer(doc.lines[i])\n",
    "    if match.start() > 0 # Only matches not at the start\n",
    "    if match.group(1)\n",
    "]"
   ]
  }
 ],
 "metadata": {
  "kernelspec": {
   "display_name": ".venv",
   "language": "python",
   "name": "python3"
  },
  "language_info": {
   "codemirror_mode": {
    "name": "ipython",
    "version": 3
   },
   "file_extension": ".py",
   "mimetype": "text/x-python",
   "name": "python",
   "nbconvert_exporter": "python",
   "pygments_lexer": "ipython3",
   "version": "3.10.12"
  }
 },
 "nbformat": 4,
 "nbformat_minor": 5
}
