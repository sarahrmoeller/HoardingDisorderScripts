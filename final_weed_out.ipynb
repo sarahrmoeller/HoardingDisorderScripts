{
 "cells": [
  {
   "cell_type": "code",
   "execution_count": 2,
   "id": "30ea63be",
   "metadata": {},
   "outputs": [
    {
     "name": "stderr",
     "output_type": "stream",
     "text": [
      "/home/danim/HoardingDisorderScripts/.venv/lib/python3.10/site-packages/tqdm/auto.py:21: TqdmWarning: IProgress not found. Please update jupyter and ipywidgets. See https://ipywidgets.readthedocs.io/en/stable/user_install.html\n",
      "  from .autonotebook import tqdm as notebook_tqdm\n",
      "2025-08-28 16:15:15 INFO: Checking for updates to resources.json in case models have been updated.  Note: this behavior can be turned off with download_method=None or download_method=DownloadMethod.REUSE_RESOURCES\n",
      "Downloading https://raw.githubusercontent.com/stanfordnlp/stanza-resources/main/resources_1.10.0.json: 434kB [00:00, 6.68MB/s]                    \n",
      "2025-08-28 16:15:15 INFO: Downloaded file to /home/danim/stanza_resources/resources.json\n",
      "2025-08-28 16:15:15 WARNING: Language en package default expects mwt, which has been added\n",
      "2025-08-28 16:15:15 INFO: Loading these models for language: en (English):\n",
      "======================================\n",
      "| Processor    | Package             |\n",
      "--------------------------------------\n",
      "| tokenize     | combined            |\n",
      "| mwt          | combined            |\n",
      "| pos          | combined_charlm     |\n",
      "| constituency | ptb3-revised_charlm |\n",
      "======================================\n",
      "\n",
      "2025-08-28 16:15:17 INFO: Using device: cuda\n",
      "2025-08-28 16:15:17 INFO: Loading: tokenize\n",
      "2025-08-28 16:15:19 INFO: Loading: mwt\n",
      "2025-08-28 16:15:19 INFO: Loading: pos\n",
      "2025-08-28 16:15:21 INFO: Loading: constituency\n",
      "2025-08-28 16:15:21 INFO: Done loading processors!\n"
     ]
    }
   ],
   "source": [
    "import utils.datasaur as data"
   ]
  },
  {
   "cell_type": "code",
   "execution_count": 3,
   "id": "32dad4c3",
   "metadata": {},
   "outputs": [],
   "source": [
    "%load_ext autoreload\n",
    "%autoreload 2"
   ]
  },
  {
   "cell_type": "markdown",
   "id": "cb50fc3f",
   "metadata": {},
   "source": [
    "# Misspellings/Wrong Labels"
   ]
  },
  {
   "cell_type": "markdown",
   "id": "3174adbc",
   "metadata": {},
   "source": [
    "First thing we're going to do is deal with the issue of misspellings. \n",
    "Inspired by Tava's function in `regexes.py`, we're going to use `get_close_matches` to look for words that are close to "
   ]
  },
  {
   "cell_type": "code",
   "execution_count": 4,
   "id": "a67024e9",
   "metadata": {},
   "outputs": [],
   "source": [
    "doc_token_content = [\n",
    "    (doc, [\n",
    "        (doc.row_data[i][\"tokens\"], i) \n",
    "        for i in range(len(doc.row_data))\n",
    "    ])\n",
    "    for doc in data.by_doc \n",
    "]"
   ]
  },
  {
   "cell_type": "code",
   "execution_count": 5,
   "id": "0dcecc7e",
   "metadata": {},
   "outputs": [
    {
     "data": {
      "text/plain": [
       "[{'broken_label': 'Speaker1',\n",
       "  'close_to': ['Speaker'],\n",
       "  'doc': Document(3001_039.txt, s1046-50_s2012-13_s3026-50),\n",
       "  'row_num': 18,\n",
       "  'prev_line': ['Are there any pictures that come to mind when you think of those words or CBT?'],\n",
       "  'line': 'Speaker1 – To me just from being in therapy so much all the time with the children, I think of holding hands or a hand reaching out to grab another hand because it’s like your giving a tool, a way of lie, a way to combat something that can be overwhelming, so somebody’s helping you, helping hand to lift you up and get you to that next step.'},\n",
       " {'broken_label': '1:Interviewer',\n",
       "  'close_to': ['Interviewer'],\n",
       "  'doc': Document(3001_076.txt, s1062_s2022-26_s3076-97),\n",
       "  'row_num': 9,\n",
       "  'prev_line': ['Speaker: In my mind I almost feel like you can do both in one but it would probably need to be longer than three minutes. I don’t know how your content would go but I feel like a kids one would be a little different than what a parent’s one would be. It would be more a little factual based whereas a kid one would be more experienced based. The role playing, like what it’s going to look like. Again you said you didn’t know if this was just going to be pediatrics right? The patients could also be adults.'],\n",
       "  'line': '1:Interviewer: No. Sorry I may have misspoke. All the patients will be pediatric. The only thing we haven’t decided on what whether or not it would be one video or two separate ones.'},\n",
       " {'broken_label': '1:Interviewer',\n",
       "  'close_to': ['Interviewer'],\n",
       "  'doc': Document(3001_076.txt, s1062_s2022-26_s3076-97),\n",
       "  'row_num': 13,\n",
       "  'prev_line': ['1:Speaker: I would make it longer. I mean it doesn’t even have to be 3 minutes just depending on how much content you have. You can probably keep kids for three minutes but you probably can’t keep adults that long. You would keep me that long.'],\n",
       "  'line': '1:Interviewer: Good to know.'},\n",
       " {'broken_label': '2Participant',\n",
       "  'close_to': ['Participant'],\n",
       "  'doc': Document(062_744.txt, s1062_s2022-26_s3076-97),\n",
       "  'row_num': 5,\n",
       "  'prev_line': ['Okay, so it’s just more orderly, you know what you have.'],\n",
       "  'line': '2Participant:'},\n",
       " {'broken_label': '2Participant',\n",
       "  'close_to': ['Participant'],\n",
       "  'doc': Document(062_744.txt, s1062_s2022-26_s3076-97),\n",
       "  'row_num': 9,\n",
       "  'prev_line': ['Okay, so organization is definitely a big thing.'],\n",
       "  'line': '2Participant:'},\n",
       " {'broken_label': '2Participant',\n",
       "  'close_to': ['Participant'],\n",
       "  'doc': Document(062_743.txt, s1062_s2022-26_s3076-97),\n",
       "  'row_num': 16,\n",
       "  'prev_line': ['Well aside from the people in it and my puppy dog.. Precious, the most precious item in my house… just one?! 22:59 Interviewer:'],\n",
       "  'line': 'If you can choose one. 2Participant:'},\n",
       " {'broken_label': '2Participant',\n",
       "  'close_to': ['Participant'],\n",
       "  'doc': Document(062_743.txt, s1062_s2022-26_s3076-97),\n",
       "  'row_num': 22,\n",
       "  'prev_line': ['Just the things that capture the memories.'],\n",
       "  'line': '2Participant:'},\n",
       " {'broken_label': '1:Interviewer',\n",
       "  'close_to': ['Interviewer'],\n",
       "  'doc': Document(3001_078.txt, s1062_s2022-26_s3076-97),\n",
       "  'row_num': 1,\n",
       "  'prev_line': ['1:Speaker: Yeah. Kids like to be empowered. I feel like there’s almost two schools nowadays. The kids that have no power and the kids that have way too much power. There’s not many of the in between kids. I feel like anybody who feels like they’re in a place where they’re needing therapy like this is your thing to do for yourself kind of type thing and makes it user friendly. Again the parent it’s not a thing where you have to poke and nag because usually whatever is on their list is usually on yours including everything else. It really wasn’t a burden other than me getting her here and paying for everything. Again I think it’s just everybody really likes it, it’s convenient, you get fast results, it’s very empowering for your child or it was for us. It just seems effective and also another thing is that there’s no side effects. I almost feel like there could be a parody video or comedy that would just probably be for me but like about how you know there’s all these happy people and they’re like “yes, yes and you might die and your skin may fall off and everything’s burning but there’s still 27% of people that do…” Like everything is said with a smile on the face. Sounds so great but really what they’re telling you is terrible. Like this is not terrible. The risk that is involved in doing this method it’s like pretty low risk for pretty quick results.'],\n",
       "  'line': '1:Interviewer: Well is there anything that I missed or anything important that I didn’t ask about?'},\n",
       " {'broken_label': '1:Interviewer',\n",
       "  'close_to': ['Interviewer'],\n",
       "  'doc': Document(3001_078.txt, s1062_s2022-26_s3076-97),\n",
       "  'row_num': 3,\n",
       "  'prev_line': ['1:Speaker: I don’t think so. I just wish that this was more available like just to the public in general. Mental health has become such a big thing, especially with adolescence. Like I have to go to trainings all the time about all these things and I’m in the front lines with people’s kids that are going through all kinds of crazy stuff all the time and its intense and I feel like we get a lot of feedback about our school like “What are the resources?” and some don’t even know. It’s like there’s too many options or not knowing who to ask the right questions. So of course I’m always like “your pediatrician”. It’s almost like an alternative therapy but once you say “alternative therapy” some people immediately think it’s like a chant in the woods or something type thing or you’re going to sign up for this big weird thing so it would be great to have. I think it’s great what you guys are setting out to do and succeeded. People would watch a quick video that gave just enough information to be like “oh, maybe this is something we could do.”'],\n",
       "  'line': '1:Interviewer: Well I think that is a great note to end it on. Unless did you have any questions?'},\n",
       " {'broken_label': '1:Interviewer',\n",
       "  'close_to': ['Interviewer'],\n",
       "  'doc': Document(3001_078.txt, s1062_s2022-26_s3076-97),\n",
       "  'row_num': 5,\n",
       "  'prev_line': ['1:Note-taker: Nope I think we’re good.'],\n",
       "  'line': '1:Interviewer: Well thank you so much for your time. You were very very helpful.'},\n",
       " {'broken_label': '1:Interviewer',\n",
       "  'close_to': ['Interviewer'],\n",
       "  'doc': Document(3001_077.txt, s1062_s2022-26_s3076-97),\n",
       "  'row_num': 0,\n",
       "  'prev_line': ['1:Interviewer: That makes a lot of sense. You as a parent or you as a child that would be nice to get from the video.'],\n",
       "  'line': '1:Interviewer: So we’re almost done and I really appreciate your time. We just have to go over the “how” the video would look. Just kind of the fun part of this. And then just kind of the take home message, then we should be done. So we talked about Loony Tunes before, are there any other animated movies that you like?'},\n",
       " {'broken_label': '1:Interviewer',\n",
       "  'close_to': ['Interviewer'],\n",
       "  'doc': Document(3001_077.txt, s1062_s2022-26_s3076-97),\n",
       "  'row_num': 2,\n",
       "  'prev_line': ['1:Speaker: I mean everybody loves like; the minion stuff is like hilarious. And I also think like part of the reason why is because they’re not people. Like what are they, who even knows? So fun. It’s pretty entertaining, anything that have comedy is good. I use a lot of “brainpop”. I don’t know if you know that, it’s the robot and the girl in the classroom and they just love anytime they hear the robot noises they want like the [makes noise] like he’s very squeaky and they want all the extra stuff.'],\n",
       "  'line': '1:Interviewer: So they like, like the little squeakiness of the robot.'},\n",
       " {'broken_label': '1:Interviewer',\n",
       "  'close_to': ['Interviewer'],\n",
       "  'doc': Document(3001_077.txt, s1062_s2022-26_s3076-97),\n",
       "  'row_num': 4,\n",
       "  'prev_line': ['1:Speaker: Yeah. Even my math curriculum has like animated stuff. And little monsters, they like the monsters too but they like the robots.'],\n",
       "  'line': '1:Interviewer: I mean its good to know that that’s what they enjoy.'},\n",
       " {'broken_label': '1:Interviewer',\n",
       "  'close_to': ['Interviewer'],\n",
       "  'doc': Document(3001_077.txt, s1062_s2022-26_s3076-97),\n",
       "  'row_num': 6,\n",
       "  'prev_line': ['1:Speaker: Boys and girls alike.'],\n",
       "  'line': '1:Interviewer: Pretty universal robot. So my examples are going to be a little different from those. But I’ll let you look at those at your leisure. We have three options there, so as you’re looking through them I’m going to ask you a couples questions first about your overall preference. So which one you like the most and then if you think kids would like something different from what you like.'},\n",
       " {'broken_label': '1:Interviewer',\n",
       "  'close_to': ['Interviewer'],\n",
       "  'doc': Document(3001_077.txt, s1062_s2022-26_s3076-97),\n",
       "  'row_num': 8,\n",
       "  'prev_line': ['1:Speaker: This looks like older kids to me.'],\n",
       "  'line': '1:Interviewer: Option 3'},\n",
       " {'broken_label': '1:Interviewer',\n",
       "  'close_to': ['Interviewer'],\n",
       "  'doc': Document(3001_077.txt, s1062_s2022-26_s3076-97),\n",
       "  'row_num': 10,\n",
       "  'prev_line': ['1:Speaker: This looks a little more mature like teens. This feels very vanilla to me.'],\n",
       "  'line': '1:Interviewer: Options two seems kind of vanilla?'},\n",
       " {'broken_label': '1:Interviewer',\n",
       "  'close_to': ['Interviewer'],\n",
       "  'doc': Document(3001_077.txt, s1062_s2022-26_s3076-97),\n",
       "  'row_num': 12,\n",
       "  'prev_line': ['1:Speaker: Like its friendly but this one is the one I like the best. It seems more creative and youthful but also that’s what I’m drawn to.  I also really like it because you blend humans and I like anything that looks hand rendered and I think kids identify with that too.'],\n",
       "  'line': '1:Interviewer: So you like option 1 the best and you like the mixture of the animated and the hand drawn. You like that options personally the best but would that be the best for kids?'},\n",
       " {'broken_label': '1:Interviewer',\n",
       "  'close_to': ['Interviewer'],\n",
       "  'doc': Document(3001_077.txt, s1062_s2022-26_s3076-97),\n",
       "  'row_num': 14,\n",
       "  'prev_line': ['1:Speaker:  I don’t know. These are softer and playful'],\n",
       "  'line': '1:Interviewer: Option 2 is a little bit softer. Ok. What do you think should be the take home message of these videos? We’ve kind of hit on this so… Unless I’m mistaken.'},\n",
       " {'broken_label': '1:Interviewer',\n",
       "  'close_to': ['Interviewer'],\n",
       "  'doc': Document(3001_077.txt, s1062_s2022-26_s3076-97),\n",
       "  'row_num': 16,\n",
       "  'prev_line': ['1:Speaker: I feel like there’s so many buzzwords but you know it really is just like doable because you get results. You can see results. Nearly immediately without much doing on my part other than bringing my child here and getting him the space to be; whatever happens in there. And then just kind of being aware and I did get some tips like you can’t be so nice. Don’t be so reassuring or affirming. Just not like trying to fix everything. But like it really is doable; it’s not a hard thing to do or take a lot of resources to do other than time and money. So I think it’s pretty quick. User friendly. Again I didn’t have to as a parent lead things or keep up with a whole lot like it’s something that really empowered my child to own it and take it into her own hands for the most part.'],\n",
       "  'line': '1:Interviewer: That makes a lot of sense. You as a parent or you as a child that would be nice to get from the video.'},\n",
       " {'broken_label': 'Spaker',\n",
       "  'close_to': ['Speaker'],\n",
       "  'doc': Document(058_712.txt, s1055-1058),\n",
       "  'row_num': 20,\n",
       "  'prev_line': ['The house. It has things on places that like this chair in this den oh my god. It’s stacked up about three feet and that is not what a chair is supposed to be for. Using things like the bed isn’t supposed to have'],\n",
       "  'line': \"Spaker 1 22:01- So just like when things aren't being used as they're supposed to be used and instead they're being used as storage space.\"},\n",
       " {'broken_label': 'Speaker1',\n",
       "  'close_to': ['Speaker'],\n",
       "  'doc': Document(3001_011.txt, s1036-42_s2008-9_s3000-15),\n",
       "  'row_num': 57,\n",
       "  'prev_line': ['Interviewer: So, um overall take home message of the video, if you had to really concisely sum it all up in terms of what absolutely should be in the video, what should that be?'],\n",
       "  'line': 'Speaker1: Umm'},\n",
       " {'broken_label': 'Speake',\n",
       "  'close_to': ['Speaker'],\n",
       "  'doc': Document(3001_004.txt, s1036-42_s2008-9_s3000-15),\n",
       "  'row_num': 1,\n",
       "  'prev_line': ['Speaker: And I also wondered too as far as siblings go like, they kind of do need to know what’s going on if they are of the right age, because then if they are just wow wow they have fallen on those traps too, they are like wait a second why is everyone doing something different you know and I haven’t necessarily been on this or maybe I was briefly quickly told something in the car, hey we are going to start doing this from now on, you know or whatever and that’s very important that they don’t feel left out, plus that they are fully engaged and can also help with the whole [19:03] ___.'],\n",
       "  'line': 'Speake 1: Right'},\n",
       " {'broken_label': 'Speaker1',\n",
       "  'close_to': ['Speaker'],\n",
       "  'doc': Document(3001_012.txt, s1036-42_s2008-9_s3000-15),\n",
       "  'row_num': 0,\n",
       "  'prev_line': ['Interviewer: That’s completely fine if you feel that you can’t explain it.'],\n",
       "  'line': 'Speaker1: Yeah that’s like you know… like it’s a lifestyle change.'},\n",
       " {'broken_label': '[Participant',\n",
       "  'close_to': ['Participant'],\n",
       "  'doc': Document(040_487.txt, s1036-42_s2008-9_s3000-15),\n",
       "  'row_num': 26,\n",
       "  'prev_line': ['Wanted to put it right handy in a little container.'],\n",
       "  'line': 'I wanted to put it up with the salt and the oatmeal, and my husband said [inaudible 00:45:33] and he harrumphed and \" [Participant 040 00:22:36]?\" And I looked at what I had and what I was doing and promptly put it where it was supposed to be.'}]"
      ]
     },
     "execution_count": 5,
     "metadata": {},
     "output_type": "execute_result"
    }
   ],
   "source": [
    "from difflib import get_close_matches\n",
    "import utils.regexes as rxs\n",
    "import string\n",
    "import re\n",
    "\n",
    "threshold = 0.85\n",
    "BLACKLIST = ['Interview', 'Participants', 'Interviewees', 'Interviewer 1', \n",
    "             'Interviewer 2', 'Participate', '\"Participant',\n",
    "             'Broparticipant', 'Taparticipant'] # ??? Found these have no idea what happened here\n",
    "potential_spelling_issues = [\n",
    "    {\n",
    "        \"broken_label\" : token_fixed, # fixed due to processing, broken due to misspelling or other error\n",
    "        \"close_to\" : matches,\n",
    "        \"doc\" : doc,\n",
    "        \"row_num\" : row_num,\n",
    "        \"prev_line\" : [doc.lines[row_num-1]],\n",
    "        \"line\" : doc.lines[row_num]\n",
    "    }\n",
    "    for doc, token_list in doc_token_content\n",
    "    for tokenized_line, row_num in token_list\n",
    "    for token in tokenized_line\n",
    "    if (matches := get_close_matches(token, rxs.SPEAKERS, \n",
    "                                     cutoff=threshold))\n",
    "    and (token_fixed := token.title().rstrip(string.punctuation)) \n",
    "        not in BLACKLIST\n",
    "    and not any(token_fixed == match for match in matches)\n",
    "]\n",
    "potential_spelling_issues"
   ]
  },
  {
   "cell_type": "code",
   "execution_count": 6,
   "id": "c36fb74e",
   "metadata": {},
   "outputs": [
    {
     "data": {
      "text/plain": [
       "True"
      ]
     },
     "execution_count": 6,
     "metadata": {},
     "output_type": "execute_result"
    }
   ],
   "source": [
    "# There is no issue that is close to more than one speaker label\n",
    "not any(len(item[\"close_to\"]) != 1 for item in potential_spelling_issues)"
   ]
  },
  {
   "cell_type": "code",
   "execution_count": 24,
   "id": "fe9956a1",
   "metadata": {},
   "outputs": [
    {
     "data": {
      "text/plain": [
       "['1:Interviewer',\n",
       " '1:Speaker',\n",
       " '1:Speaker',\n",
       " '1:Interviewer',\n",
       " '1:Speaker',\n",
       " '1:Speaker',\n",
       " '1:Interviewer',\n",
       " '1:Speaker',\n",
       " '1:Interviewer',\n",
       " '1:Note',\n",
       " '1:Interviewer',\n",
       " '1:Interviewer',\n",
       " '1:Speaker',\n",
       " '1:Interviewer',\n",
       " '1:Speaker',\n",
       " '1:Interviewer',\n",
       " '1:Speaker',\n",
       " '1:Interviewer',\n",
       " '1:Speaker',\n",
       " '1:Interviewer',\n",
       " '1:Speaker',\n",
       " '1:Interviewer',\n",
       " '1:Speaker',\n",
       " '1:Interviewer',\n",
       " '1:Speaker',\n",
       " '1:Interviewer',\n",
       " '1:Speaker',\n",
       " '1:Interviewer']"
      ]
     },
     "execution_count": 24,
     "metadata": {},
     "output_type": "execute_result"
    }
   ],
   "source": [
    "# Find all instances of this one particular issue\n",
    "all_doc_content_lol = '\\n'.join(doc.full_content for doc in data.by_doc)\n",
    "weird_number_in_front = re.findall(r'\\d:[a-zA-Z]+', all_doc_content_lol)\n",
    "weird_number_in_front"
   ]
  },
  {
   "cell_type": "markdown",
   "id": "d22685ec",
   "metadata": {},
   "source": [
    "Fixing this:"
   ]
  },
  {
   "cell_type": "code",
   "execution_count": 26,
   "id": "1177b385",
   "metadata": {},
   "outputs": [
    {
     "data": {
      "text/plain": [
       "['Interviewer',\n",
       " 'Speaker',\n",
       " 'Speaker',\n",
       " 'Interviewer',\n",
       " 'Speaker',\n",
       " 'Speaker',\n",
       " 'Interviewer',\n",
       " 'Speaker',\n",
       " 'Interviewer',\n",
       " 'Note',\n",
       " 'Interviewer',\n",
       " 'Interviewer',\n",
       " 'Speaker',\n",
       " 'Interviewer',\n",
       " 'Speaker',\n",
       " 'Interviewer',\n",
       " 'Speaker',\n",
       " 'Interviewer',\n",
       " 'Speaker',\n",
       " 'Interviewer',\n",
       " 'Speaker',\n",
       " 'Interviewer',\n",
       " 'Speaker',\n",
       " 'Interviewer',\n",
       " 'Speaker',\n",
       " 'Interviewer',\n",
       " 'Speaker',\n",
       " 'Interviewer']"
      ]
     },
     "execution_count": 26,
     "metadata": {},
     "output_type": "execute_result"
    }
   ],
   "source": [
    "list(map(lambda s : s.replace('1:', ''), weird_number_in_front))"
   ]
  },
  {
   "cell_type": "code",
   "execution_count": 27,
   "id": "1ed6dd77",
   "metadata": {},
   "outputs": [
    {
     "data": {
      "text/plain": [
       "['2Participant', 'Speaker1', 'Interviewer1']"
      ]
     },
     "execution_count": 27,
     "metadata": {},
     "output_type": "execute_result"
    }
   ],
   "source": [
    "# And these ones\n",
    "number_issues = []\n",
    "prepended = re.findall(r'\\d(?:{sl})'.format(sl='|'.join(rxs.SPEAKERS)), \n",
    "                       all_doc_content_lol)\n",
    "appended = re.findall(r'(?:{sl})\\d'.format(sl='|'.join(rxs.SPEAKERS)), \n",
    "                      all_doc_content_lol)\n",
    "number_issues = list(set(prepended) | set(appended))\n",
    "number_issues"
   ]
  },
  {
   "cell_type": "code",
   "execution_count": null,
   "id": "c9c217f2",
   "metadata": {},
   "outputs": [
    {
     "data": {
      "text/plain": [
       "['Spaker', 'Speake', '[Participant']"
      ]
     },
     "execution_count": 61,
     "metadata": {},
     "output_type": "execute_result"
    }
   ],
   "source": [
    "the_rest = [\n",
    "    token\n",
    "    for item in potential_spelling_issues\n",
    "    if (token := item[\"broken_label\"]) not in \n",
    "    weird_number_in_front + number_issues\n",
    "]\n",
    "the_rest"
   ]
  },
  {
   "cell_type": "code",
   "execution_count": null,
   "id": "b69753d1",
   "metadata": {},
   "outputs": [
    {
     "data": {
      "text/plain": [
       "[{'broken_label': '[Participant',\n",
       "  'close_to': ['Participant'],\n",
       "  'doc': Document(040_487.txt, s1036-42_s2008-9_s3000-15),\n",
       "  'row_num': 26,\n",
       "  'prev_line': ['Wanted to put it right handy in a little container.'],\n",
       "  'line': 'I wanted to put it up with the salt and the oatmeal, and my husband said [inaudible 00:45:33] and he harrumphed and \" [Participant 040 00:22:36]?\" And I looked at what I had and what I was doing and promptly put it where it was supposed to be.'}]"
      ]
     },
     "execution_count": 58,
     "metadata": {},
     "output_type": "execute_result"
    }
   ],
   "source": [
    "[item\n",
    " for item in potential_spelling_issues\n",
    " if item[\"broken_label\"] == '[Participant']"
   ]
  },
  {
   "cell_type": "code",
   "execution_count": null,
   "id": "6ed1b0f4",
   "metadata": {},
   "outputs": [
    {
     "data": {
      "text/plain": [
       "['Spaker', 'Speake']"
      ]
     },
     "execution_count": 62,
     "metadata": {},
     "output_type": "execute_result"
    }
   ],
   "source": [
    "# don't care about the last one\n",
    "the_rest = the_rest[:-1]\n",
    "the_rest # only misspellings left"
   ]
  },
  {
   "cell_type": "markdown",
   "id": "040f104e",
   "metadata": {},
   "source": [
    "All this led to `fix_misspelled_labels.py`."
   ]
  },
  {
   "cell_type": "markdown",
   "id": "b41cd9f3",
   "metadata": {},
   "source": [
    "# Fix spacing issues"
   ]
  }
 ],
 "metadata": {
  "kernelspec": {
   "display_name": ".venv",
   "language": "python",
   "name": "python3"
  },
  "language_info": {
   "codemirror_mode": {
    "name": "ipython",
    "version": 3
   },
   "file_extension": ".py",
   "mimetype": "text/x-python",
   "name": "python",
   "nbconvert_exporter": "python",
   "pygments_lexer": "ipython3",
   "version": "3.10.12"
  }
 },
 "nbformat": 4,
 "nbformat_minor": 5
}
