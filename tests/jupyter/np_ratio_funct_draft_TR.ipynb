{
 "cells": [
  {
   "cell_type": "code",
   "execution_count": 1,
   "id": "57c5a5ce",
   "metadata": {},
   "outputs": [
    {
     "name": "stderr",
     "output_type": "stream",
     "text": [
      "/Users/admin/Documents/Coding Land/.venv/lib/python3.13/site-packages/tqdm/auto.py:21: TqdmWarning: IProgress not found. Please update jupyter and ipywidgets. See https://ipywidgets.readthedocs.io/en/stable/user_install.html\n",
      "  from .autonotebook import tqdm as notebook_tqdm\n",
      "Downloading https://raw.githubusercontent.com/stanfordnlp/stanza-resources/main/resources_1.10.0.json: 428kB [00:00, 46.9MB/s]                    \n",
      "2025-06-10 11:59:42 INFO: Downloaded file to /Users/admin/stanza_resources/resources.json\n",
      "2025-06-10 11:59:42 INFO: Downloading default packages for language: en (English) ...\n",
      "2025-06-10 11:59:43 INFO: File exists: /Users/admin/stanza_resources/en/default.zip\n",
      "2025-06-10 11:59:45 INFO: Finished downloading models and saved to /Users/admin/stanza_resources\n",
      "2025-06-10 11:59:45 INFO: Checking for updates to resources.json in case models have been updated.  Note: this behavior can be turned off with download_method=None or download_method=DownloadMethod.REUSE_RESOURCES\n",
      "Downloading https://raw.githubusercontent.com/stanfordnlp/stanza-resources/main/resources_1.10.0.json: 428kB [00:00, 22.5MB/s]                    \n",
      "2025-06-10 11:59:45 INFO: Downloaded file to /Users/admin/stanza_resources/resources.json\n",
      "2025-06-10 11:59:47 INFO: Loading these models for language: en (English):\n",
      "============================================\n",
      "| Processor    | Package                   |\n",
      "--------------------------------------------\n",
      "| tokenize     | combined                  |\n",
      "| mwt          | combined                  |\n",
      "| pos          | combined_charlm           |\n",
      "| lemma        | combined_nocharlm         |\n",
      "| constituency | ptb3-revised_charlm       |\n",
      "| depparse     | combined_charlm           |\n",
      "| sentiment    | sstplus_charlm            |\n",
      "| ner          | ontonotes-ww-multi_charlm |\n",
      "============================================\n",
      "\n",
      "2025-06-10 11:59:47 INFO: Using device: cpu\n",
      "2025-06-10 11:59:47 INFO: Loading: tokenize\n",
      "2025-06-10 11:59:47 INFO: Loading: mwt\n",
      "2025-06-10 11:59:47 INFO: Loading: pos\n",
      "2025-06-10 11:59:48 INFO: Loading: lemma\n",
      "2025-06-10 11:59:49 INFO: Loading: constituency\n",
      "2025-06-10 11:59:49 INFO: Loading: depparse\n",
      "2025-06-10 11:59:49 INFO: Loading: sentiment\n",
      "2025-06-10 11:59:49 INFO: Loading: ner\n",
      "2025-06-10 11:59:51 INFO: Done loading processors!\n"
     ]
    }
   ],
   "source": [
    "import stanza\n",
    "\n",
    "stanza.download('en')\n",
    "nlp = stanza.Pipeline()"
   ]
  },
  {
   "cell_type": "code",
   "execution_count": 2,
   "id": "18cf4b40",
   "metadata": {},
   "outputs": [],
   "source": [
    "def count_nps(tree):\n",
    "    count = 0\n",
    "    if tree.label == 'NP':\n",
    "        count += 1\n",
    "    for child in tree.children:\n",
    "        if not isinstance(child, str): #not sure if this is correct\n",
    "            count += count_nps(child)\n",
    "    return count\n",
    "\n",
    "def get_np_counts(text):\n",
    "    doc = nlp(text)\n",
    "    return [count_nps(sentence.constituency) for sentence in doc.sentences]\n",
    "\n",
    "def get_np_ratios(text):\n",
    "    doc = nlp(text)\n",
    "    ratios = []\n",
    "    for sentence in doc.sentences:\n",
    "        np_count = count_nps(sentence.constituency)\n",
    "        word_count = len(sentence.words)\n",
    "        ratios.append(round(np_count / word_count, 2) if word_count > 0 else 0)\n",
    "    return ratios"
   ]
  },
  {
   "cell_type": "code",
   "execution_count": 3,
   "id": "f519f1bf",
   "metadata": {},
   "outputs": [
    {
     "name": "stdout",
     "output_type": "stream",
     "text": [
      "All tests passed!\n"
     ]
    }
   ],
   "source": [
    "# Tests\n",
    "\n",
    "def test_np_count_simple():\n",
    "    text = \"The dog barked.\"\n",
    "    counts = get_np_counts(text)\n",
    "    assert counts == [1], f\"Expected 1 NP, got {counts}\"\n",
    "\n",
    "def test_np_count_multiple():\n",
    "    text = \"My brother and his dog walked to the park.\"\n",
    "    counts = get_np_counts(text)\n",
    "    assert counts[0] >= 2, f\"Expected at least 2 NPs, got {counts}\"\n",
    "\n",
    "def test_np_ratio_nonzero():\n",
    "    text = \"The tall man saw a cat.\"\n",
    "    ratios = get_np_ratios(text)\n",
    "    assert 0 < ratios[0] <= 1, f\"Ratio out of range: {ratios[0]}\"\n",
    "\n",
    "def test_empty_sentence():\n",
    "    text = \"\"\n",
    "    ratios = get_np_ratios(text)\n",
    "    assert ratios == [], \"Expected empty list for empty input.\"\n",
    "\n",
    "\n",
    "test_np_count_simple()\n",
    "test_np_count_multiple()\n",
    "test_np_ratio_nonzero()\n",
    "test_empty_sentence()\n",
    "\n",
    "print(\"All tests passed!\")"
   ]
  },
  {
   "cell_type": "code",
   "execution_count": null,
   "id": "bdfd4001",
   "metadata": {},
   "outputs": [],
   "source": []
  }
 ],
 "metadata": {
  "kernelspec": {
   "display_name": ".venv",
   "language": "python",
   "name": "python3"
  },
  "language_info": {
   "codemirror_mode": {
    "name": "ipython",
    "version": 3
   },
   "file_extension": ".py",
   "mimetype": "text/x-python",
   "name": "python",
   "nbconvert_exporter": "python",
   "pygments_lexer": "ipython3",
   "version": "3.13.3"
  }
 },
 "nbformat": 4,
 "nbformat_minor": 5
}
