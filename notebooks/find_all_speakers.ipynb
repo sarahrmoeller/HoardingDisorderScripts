{
 "cells": [
  {
   "cell_type": "markdown",
   "id": "a8e82feb",
   "metadata": {},
   "source": [
    "# Finding All Speakers Across All Documents"
   ]
  },
  {
   "cell_type": "markdown",
   "id": "d7cb86a0",
   "metadata": {},
   "source": [
    "Ok... I'm at my wit's end here. I should have started by doing this, but I didn't, so I have to do it now. That's just how it is!\n",
    "\n",
    "Throughout this project, I've been making the inductive assumption that there were only speakers with certain names, i.e. 'Interviewer', 'Participant', 'Interviewee', and a few others. But when working to fix 001-007, I found that this assumption was massive understated. There are many more speaker labels that I have missed, and I need to look for **all** of them now so that this doesn't happen again. "
   ]
  },
  {
   "cell_type": "markdown",
   "id": "2a22b1c5",
   "metadata": {},
   "source": [
    "## Step 1: Modify Document.py"
   ]
  },
  {
   "cell_type": "markdown",
   "id": "74c50a8f",
   "metadata": {},
   "source": [
    "I'm going to start by modifying the speaker regex logic in `document.py` so that the regex doesn't only look for strings that match the types of speaker labels that we have seen followed by a colon. Instead, I want the base regex to match *any* string followed by a colon (with a few caveats, i.e. accounting for labels followed by numbers). \n",
    "\n",
    "###### ^ done in 0f0e355836c04639c63b8b5ecd7dda979666d96a"
   ]
  },
  {
   "cell_type": "markdown",
   "id": "37004d1f",
   "metadata": {},
   "source": [
    "## Step 2: Look for all speakers across all documents"
   ]
  },
  {
   "cell_type": "markdown",
   "id": "dffb1a1b",
   "metadata": {},
   "source": [
    "With that done, let's import the stuff from `datasaur.py` and get to work. \n",
    "\n",
    "The following code groups all speaker labels found across all documents (given the new, now less restrictive built-in regex in the `Document` class) into the keys of a dictionary, and maps each of these keys to a list of documents in which that speaker label is found."
   ]
  },
  {
   "cell_type": "code",
   "execution_count": 1,
   "id": "d4af8244",
   "metadata": {},
   "outputs": [
    {
     "data": {
      "text/plain": [
       "['P1',\n",
       " 'Interviewee',\n",
       " 'P2',\n",
       " 'Interviewer',\n",
       " 'Participant',\n",
       " 'inaudible',\n",
       " 'crosstalk',\n",
       " 'Speaker',\n",
       " 'Speaker1',\n",
       " 'guess',\n",
       " 'relevantly',\n",
       " 'women',\n",
       " 'be',\n",
       " 'method',\n",
       " 'say',\n",
       " 'even',\n",
       " 'virtually',\n",
       " 'indistinguishable',\n",
       " 'were',\n",
       " 'LOCATION',\n",
       " 'NAME',\n",
       " 'until',\n",
       " 'agents',\n",
       " 'fireman',\n",
       " 'vernet',\n",
       " 'Speake',\n",
       " 'Yeah',\n",
       " 'died',\n",
       " 'account',\n",
       " 'attic',\n",
       " 'taker',\n",
       " 'know',\n",
       " 'Interview',\n",
       " 'Wrench',\n",
       " 'INAUDIBLE',\n",
       " 'one',\n",
       " 'two',\n",
       " 'speaker',\n",
       " 'INAUDUBLE',\n",
       " 'INSTITUTION',\n",
       " 'state',\n",
       " 'ORGANIZATION',\n",
       " 'ORGANIZATIONS',\n",
       " 'CBT',\n",
       " 'genre',\n",
       " 'mentioned',\n",
       " 'is',\n",
       " 'INUADIBLE',\n",
       " 'options',\n",
       " 'answer',\n",
       " 'them',\n",
       " 'of',\n",
       " 'thinking',\n",
       " 'Interviewer19',\n",
       " 'triggers',\n",
       " 'crap',\n",
       " 'yeah',\n",
       " 'No',\n",
       " 'that',\n",
       " 'Yes',\n",
       " 'Female',\n",
       " 'P3',\n",
       " 'by',\n",
       " 'interview',\n",
       " 'idea',\n",
       " 'decision',\n",
       " 'states',\n",
       " 'like',\n",
       " 'example',\n",
       " 'was',\n",
       " 'hoarders',\n",
       " 'consent',\n",
       " 'says',\n",
       " 'cell',\n",
       " 'awful',\n",
       " 'are',\n",
       " 'Right',\n",
       " 'but',\n",
       " 'cleaned',\n",
       " 'no',\n",
       " 'Northeast',\n",
       " 'young',\n",
       " 'female',\n",
       " 'Wooo',\n",
       " 'unintelligible',\n",
       " 'who',\n",
       " 'words',\n",
       " 'Caucasian',\n",
       " 'you',\n",
       " 'playful',\n",
       " 'stuff',\n",
       " 'Currator',\n",
       " 'Len',\n",
       " 'waste',\n",
       " 'at',\n",
       " 'US',\n",
       " 'UNIVERSITY',\n",
       " 'question',\n",
       " 'problem',\n",
       " 'said',\n",
       " 'Treddle',\n",
       " 'drawers',\n",
       " 'hell',\n",
       " 'listing',\n",
       " 'interviewer',\n",
       " 'worded',\n",
       " 'quote',\n",
       " 'out',\n",
       " 'Tollin',\n",
       " 'plan',\n",
       " 'reads']"
      ]
     },
     "execution_count": 1,
     "metadata": {},
     "output_type": "execute_result"
    }
   ],
   "source": [
    "import utils.datasaur as data\n",
    "from collections import defaultdict\n",
    "\n",
    "speaker_dict = defaultdict(list)\n",
    "for doc in data.by_doc: \n",
    "    for speaker in doc.speaker_set(restrict=False):\n",
    "        speaker_dict[speaker].append(doc)\n",
    "list(speaker_dict.keys())"
   ]
  },
  {
   "cell_type": "markdown",
   "id": "eeb22eaa",
   "metadata": {},
   "source": [
    "Now, I'm going to manually look through these speaker labels and see which of them are actually speakers. A lot of these are going to be duds, i.e. the regex might match \"attic\" in the string \"I have 3 big chests in my attic: one full of pictures, another full of...\" So, I'll need to look through these matches to see which ones might actually be speaker labels.\n",
    "\n",
    "I will first filter out the names from here that I already know about."
   ]
  },
  {
   "cell_type": "code",
   "execution_count": 2,
   "id": "2143fec7",
   "metadata": {},
   "outputs": [
    {
     "data": {
      "text/plain": [
       "dict_keys(['inaudible', 'crosstalk', 'Speaker1', 'guess', 'relevantly', 'women', 'be', 'method', 'say', 'even', 'virtually', 'indistinguishable', 'were', 'LOCATION', 'NAME', 'until', 'agents', 'fireman', 'vernet', 'Speake', 'Yeah', 'died', 'account', 'attic', 'taker', 'know', 'Interview', 'Wrench', 'INAUDIBLE', 'one', 'two', 'INAUDUBLE', 'INSTITUTION', 'state', 'ORGANIZATION', 'ORGANIZATIONS', 'CBT', 'genre', 'mentioned', 'is', 'INUADIBLE', 'options', 'answer', 'them', 'of', 'thinking', 'Interviewer19', 'triggers', 'crap', 'yeah', 'No', 'that', 'Yes', 'Female', 'by', 'interview', 'idea', 'decision', 'states', 'like', 'example', 'was', 'hoarders', 'consent', 'says', 'cell', 'awful', 'are', 'Right', 'but', 'cleaned', 'no', 'Northeast', 'young', 'female', 'Wooo', 'unintelligible', 'who', 'words', 'Caucasian', 'you', 'playful', 'stuff', 'Currator', 'Len', 'waste', 'at', 'US', 'UNIVERSITY', 'question', 'problem', 'said', 'Treddle', 'drawers', 'hell', 'listing', 'worded', 'quote', 'out', 'Tollin', 'plan', 'reads'])"
      ]
     },
     "execution_count": 2,
     "metadata": {},
     "output_type": "execute_result"
    }
   ],
   "source": [
    "from utils.document import SPEAKERS\n",
    "\n",
    "speaker_dict = {speaker : lst for speaker, lst in speaker_dict.items() if speaker.title() not in SPEAKERS}\n",
    "speaker_dict.keys()"
   ]
  },
  {
   "cell_type": "markdown",
   "id": "b07e4ad6",
   "metadata": {},
   "source": [
    "In the filtered keys, I notice 'Speaker1' and 'Interviewer19'. They are found in:"
   ]
  },
  {
   "cell_type": "code",
   "execution_count": 3,
   "id": "592ebec1",
   "metadata": {},
   "outputs": [
    {
     "data": {
      "text/plain": [
       "['Interviewer19:09- Ok sounds good. So, you’ve Mentioned that your partner keeps your behavior in check. But how do your other friends and family feel about your behavior?',\n",
       " 'Speaker1: Umm']"
      ]
     },
     "execution_count": 3,
     "metadata": {},
     "output_type": "execute_result"
    }
   ],
   "source": [
    "keys_with_numbers = ['Interviewer19', 'Speaker1']\n",
    "[line for key in keys_with_numbers for line in speaker_dict[key][0].lines if key in line]"
   ]
  },
  {
   "cell_type": "markdown",
   "id": "3635b76d",
   "metadata": {},
   "source": [
    "These look like typos, both likely from missing spaces. Not sure how to handle these, but I'll return to them later. \n",
    "\n",
    "Let me focus on looking for names. I'll want to deidentify these so that everything is ubiquitous. "
   ]
  },
  {
   "cell_type": "code",
   "execution_count": 4,
   "id": "1dc7a0ef",
   "metadata": {},
   "outputs": [
    {
     "data": {
      "text/plain": [
       "{'A'}"
      ]
     },
     "execution_count": 4,
     "metadata": {},
     "output_type": "execute_result"
    }
   ],
   "source": [
    "set({'A'} - {'B'})"
   ]
  },
  {
   "cell_type": "code",
   "execution_count": 6,
   "id": "d725be29",
   "metadata": {},
   "outputs": [
    {
     "data": {
      "text/plain": [
       "{'vernet': [Document(name=\"036_448.txt\", project=\"s1036-42_s2008-9_s3000-15\")]}"
      ]
     },
     "execution_count": 6,
     "metadata": {},
     "output_type": "execute_result"
    }
   ],
   "source": [
    "keys = ['inaudible', 'crosstalk', 'Speaker1', 'guess', 'relevantly', 'women', 'be', 'method', 'say', 'virtually', 'even', 'were', 'indistinguishable', 'Ann', 'Buttonheim', 'until', 'Sand', 'agents', 'vernet', 'fireman', 'Yeah', 'Speake', 'died', 'account', 'attic', 'taker', 'Interview', 'know', 'Wrench', 'INAUDIBLE', 'NAME', 'two', 'one', 'INAUDUBLE', 'LOCATION', 'INSTITUTION', 'state', 'ORGANIZATION', 'ORGANIZATIONS', 'CBT', 'genre', 'mentioned', 'is', 'INUADIBLE', 'Josha', 'options', 'answer', 'them', 'of', 'Interviewer19', 'thinking', 'triggers', 'crap', 'yeah', 'No', 'Yes', 'that', 'Female', 'Christian', 'by', 'interview', 'decision', 'idea', 'states', 'like', 'example', 'was', 'hoarders', 'consent', 'says', 'cell', 'are', 'awful', 'Right', 'but', 'no', 'cleaned', 'Wooo', 'young', 'Northeast', 'female', 'unintelligible', 'who', 'words', 'Caucasian', 'you', 'playful', 'Mellin', 'stuff', 'Currator', 'Len', 'waste', 'at', 'US', 'UNIVERSITY', 'question', 'problem', 'said', 'Treddle', 'drawers', 'hell', 'listing', 'worded', 'quote', 'out', 'Tollin', 'plan', 'reads']\n",
    "# Manually filter for keys that look like they could be someone's name\n",
    "# Note the typo Speake instead of Speaker, we'll have to fix that\n",
    "names = [\"Ann\", \"Buttonheim\", \"Sand\", \"vernet\", \"Josha\", \"Christian\", \"Mellin\", \"Rebecca\"]\n",
    "assert any(name in speaker_dict for name in set(names) - {'Rebecca'})\n",
    "speaker_dict_names_with_examples = {\n",
    "    speaker: [doc for doc in data.by_doc if speaker in doc.speaker_set(restrict=False)]\n",
    "    for speaker, lst in speaker_dict.items() \n",
    "    if speaker in names\n",
    "}\n",
    "speaker_dict_names_with_examples"
   ]
  },
  {
   "cell_type": "markdown",
   "id": "1e658eea",
   "metadata": {},
   "source": [
    "My solution to these names is to replace all of them with NAME."
   ]
  },
  {
   "cell_type": "code",
   "execution_count": null,
   "id": "0e605066",
   "metadata": {},
   "outputs": [
    {
     "data": {
      "text/plain": [
       "[]"
      ]
     },
     "execution_count": 22,
     "metadata": {},
     "output_type": "execute_result"
    }
   ],
   "source": [
    "[doc.speaker_set(restrict=False) for doc in data.by_doc if 'Christian' in doc.speaker_set(restrict=False)]"
   ]
  }
 ],
 "metadata": {
  "kernelspec": {
   "display_name": ".venv",
   "language": "python",
   "name": "python3"
  },
  "language_info": {
   "codemirror_mode": {
    "name": "ipython",
    "version": 3
   },
   "file_extension": ".py",
   "mimetype": "text/x-python",
   "name": "python",
   "nbconvert_exporter": "python",
   "pygments_lexer": "ipython3",
   "version": "3.10.12"
  }
 },
 "nbformat": 4,
 "nbformat_minor": 5
}
