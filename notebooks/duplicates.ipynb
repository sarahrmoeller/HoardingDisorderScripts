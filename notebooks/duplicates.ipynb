{
 "cells": [
  {
   "cell_type": "code",
   "execution_count": 1,
   "id": "6a858569",
   "metadata": {},
   "outputs": [
    {
     "data": {
      "text/plain": [
       "'/home/danim/HoardingDisorderScripts'"
      ]
     },
     "execution_count": 1,
     "metadata": {},
     "output_type": "execute_result"
    }
   ],
   "source": [
    "import os\n",
    "\n",
    "if not os.path.exists('data'):\n",
    "    os.chdir('..')\n",
    "    assert os.getcwd().endswith('HoardingDisorderScripts')\n",
    "os.getcwd()"
   ]
  },
  {
   "cell_type": "markdown",
   "id": "e9e77b5d",
   "metadata": {},
   "source": [
    "# Identifying Duplicate Documents"
   ]
  },
  {
   "cell_type": "markdown",
   "id": "70cbb12a",
   "metadata": {},
   "source": [
    "## Identifying same-name documents"
   ]
  },
  {
   "cell_type": "markdown",
   "id": "b3cd700e",
   "metadata": {},
   "source": [
    "I'm going to start by specifically querying for every document name that appears twice."
   ]
  },
  {
   "cell_type": "code",
   "execution_count": 25,
   "id": "1b0ac544",
   "metadata": {},
   "outputs": [
    {
     "name": "stdout",
     "output_type": "stream",
     "text": [
      "{'050_617.txt': 2, '046_565.txt': 2, '046_554.txt': 2, '048_592.txt': 2, '050_610.txt': 2, '049_595.txt': 2, '047_569.txt': 2, '049_597.txt': 2, '050_621.txt': 2, '048_593.txt': 2, '050_614.txt': 2, '046_564.txt': 2, '048_586.txt': 2, '048_585.txt': 2, '046_566.txt': 2, '049_600.txt': 2, '046_562.txt': 2, '046_557.txt': 2, '046_558.txt': 2, '050_611.txt': 2, '047_572.txt': 2, '050_624.txt': 2, '046_556.txt': 2, '047_573.txt': 2, '046_561.txt': 2, '047_575.txt': 2, '048_584.txt': 2, '048_588.txt': 2, '046_563.txt': 2, '049_604.txt': 2, '048_587.txt': 2, '050_612.txt': 2, '049_605.txt': 2, '047_574.txt': 2, '046_567.txt': 2, '047_577.txt': 2, '050_618.txt': 2, '049_596.txt': 2, '050_622.txt': 2, '049_599.txt': 2, '049_607.txt': 2, '050_620.txt': 2, '048_591.txt': 2, '048_583.txt': 2, '047_576.txt': 2, '050_615.txt': 2, '050_613.txt': 2, '050_616.txt': 2, '047_579.txt': 2, '048_594.txt': 2, '047_580.txt': 2, '050_619.txt': 2, '048_582.txt': 2, '048_590.txt': 2, '050_625.txt': 2, '049_603.txt': 2, '047_571.txt': 2, '050_608.txt': 2, '049_598.txt': 2, '046_555.txt': 2, '050_609.txt': 2, '049_601.txt': 2, '046_559.txt': 2, '049_602.txt': 2, '047_578.txt': 2, '050_623.txt': 2, '047_570.txt': 2, '046_568.txt': 2, '048_589.txt': 2, '049_606.txt': 2, '046_560.txt': 2}\n"
     ]
    }
   ],
   "source": [
    "from collections import Counter\n",
    "import utils.datasaur as data\n",
    "\n",
    "\n",
    "doc_names = [doc.name for doc in data.by_doc]\n",
    "doc_name_cntr = Counter(doc_names)\n",
    "\n",
    "duplicate_doc_names = {name : count for name, count in doc_name_cntr.items()\n",
    "                       if count >= 2}\n",
    "print(duplicate_doc_names)"
   ]
  },
  {
   "cell_type": "markdown",
   "id": "361959b7",
   "metadata": {},
   "source": [
    "So, we see a great deal of document names appear twice, unfortunately. Thankfully, we can see that duplicate document names appear no more than twice:"
   ]
  },
  {
   "cell_type": "code",
   "execution_count": null,
   "id": "d619e167",
   "metadata": {},
   "outputs": [],
   "source": [
    "print(not any(count > 2 for count in duplicate_doc_names.values()))"
   ]
  },
  {
   "cell_type": "markdown",
   "id": "72bfde34",
   "metadata": {},
   "source": [
    "Here, I'm going to organize documents of the same names into pairs:"
   ]
  },
  {
   "cell_type": "code",
   "execution_count": 23,
   "id": "a41e096e",
   "metadata": {},
   "outputs": [
    {
     "data": {
      "text/plain": [
       "[(Document(name=\"050_617.txt\", project=\"s1043-5_s2010-11_s3016-25\"),\n",
       "  Document(name=\"050_617.txt\", project=\"s1046-50_s2012-13_s3026-50\")),\n",
       " (Document(name=\"046_565.txt\", project=\"s1043-5_s2010-11_s3016-25\"),\n",
       "  Document(name=\"046_565.txt\", project=\"s1046-50_s2012-13_s3026-50\")),\n",
       " (Document(name=\"046_554.txt\", project=\"s1043-5_s2010-11_s3016-25\"),\n",
       "  Document(name=\"046_554.txt\", project=\"s1046-50_s2012-13_s3026-50\")),\n",
       " (Document(name=\"048_592.txt\", project=\"s1043-5_s2010-11_s3016-25\"),\n",
       "  Document(name=\"048_592.txt\", project=\"s1046-50_s2012-13_s3026-50\")),\n",
       " (Document(name=\"050_610.txt\", project=\"s1043-5_s2010-11_s3016-25\"),\n",
       "  Document(name=\"050_610.txt\", project=\"s1046-50_s2012-13_s3026-50\")),\n",
       " (Document(name=\"049_595.txt\", project=\"s1043-5_s2010-11_s3016-25\"),\n",
       "  Document(name=\"049_595.txt\", project=\"s1046-50_s2012-13_s3026-50\")),\n",
       " (Document(name=\"047_569.txt\", project=\"s1043-5_s2010-11_s3016-25\"),\n",
       "  Document(name=\"047_569.txt\", project=\"s1046-50_s2012-13_s3026-50\")),\n",
       " (Document(name=\"049_597.txt\", project=\"s1043-5_s2010-11_s3016-25\"),\n",
       "  Document(name=\"049_597.txt\", project=\"s1046-50_s2012-13_s3026-50\")),\n",
       " (Document(name=\"050_621.txt\", project=\"s1043-5_s2010-11_s3016-25\"),\n",
       "  Document(name=\"050_621.txt\", project=\"s1046-50_s2012-13_s3026-50\")),\n",
       " (Document(name=\"048_593.txt\", project=\"s1043-5_s2010-11_s3016-25\"),\n",
       "  Document(name=\"048_593.txt\", project=\"s1046-50_s2012-13_s3026-50\")),\n",
       " (Document(name=\"050_614.txt\", project=\"s1043-5_s2010-11_s3016-25\"),\n",
       "  Document(name=\"050_614.txt\", project=\"s1046-50_s2012-13_s3026-50\")),\n",
       " (Document(name=\"046_564.txt\", project=\"s1043-5_s2010-11_s3016-25\"),\n",
       "  Document(name=\"046_564.txt\", project=\"s1046-50_s2012-13_s3026-50\")),\n",
       " (Document(name=\"048_586.txt\", project=\"s1043-5_s2010-11_s3016-25\"),\n",
       "  Document(name=\"048_586.txt\", project=\"s1046-50_s2012-13_s3026-50\")),\n",
       " (Document(name=\"048_585.txt\", project=\"s1043-5_s2010-11_s3016-25\"),\n",
       "  Document(name=\"048_585.txt\", project=\"s1046-50_s2012-13_s3026-50\")),\n",
       " (Document(name=\"046_566.txt\", project=\"s1043-5_s2010-11_s3016-25\"),\n",
       "  Document(name=\"046_566.txt\", project=\"s1046-50_s2012-13_s3026-50\")),\n",
       " (Document(name=\"049_600.txt\", project=\"s1043-5_s2010-11_s3016-25\"),\n",
       "  Document(name=\"049_600.txt\", project=\"s1046-50_s2012-13_s3026-50\")),\n",
       " (Document(name=\"046_562.txt\", project=\"s1043-5_s2010-11_s3016-25\"),\n",
       "  Document(name=\"046_562.txt\", project=\"s1046-50_s2012-13_s3026-50\")),\n",
       " (Document(name=\"046_557.txt\", project=\"s1043-5_s2010-11_s3016-25\"),\n",
       "  Document(name=\"046_557.txt\", project=\"s1046-50_s2012-13_s3026-50\")),\n",
       " (Document(name=\"046_558.txt\", project=\"s1043-5_s2010-11_s3016-25\"),\n",
       "  Document(name=\"046_558.txt\", project=\"s1046-50_s2012-13_s3026-50\")),\n",
       " (Document(name=\"050_611.txt\", project=\"s1043-5_s2010-11_s3016-25\"),\n",
       "  Document(name=\"050_611.txt\", project=\"s1046-50_s2012-13_s3026-50\")),\n",
       " (Document(name=\"047_572.txt\", project=\"s1043-5_s2010-11_s3016-25\"),\n",
       "  Document(name=\"047_572.txt\", project=\"s1046-50_s2012-13_s3026-50\")),\n",
       " (Document(name=\"050_624.txt\", project=\"s1043-5_s2010-11_s3016-25\"),\n",
       "  Document(name=\"050_624.txt\", project=\"s1046-50_s2012-13_s3026-50\")),\n",
       " (Document(name=\"046_556.txt\", project=\"s1043-5_s2010-11_s3016-25\"),\n",
       "  Document(name=\"046_556.txt\", project=\"s1046-50_s2012-13_s3026-50\")),\n",
       " (Document(name=\"047_573.txt\", project=\"s1043-5_s2010-11_s3016-25\"),\n",
       "  Document(name=\"047_573.txt\", project=\"s1046-50_s2012-13_s3026-50\")),\n",
       " (Document(name=\"046_561.txt\", project=\"s1043-5_s2010-11_s3016-25\"),\n",
       "  Document(name=\"046_561.txt\", project=\"s1046-50_s2012-13_s3026-50\")),\n",
       " (Document(name=\"047_575.txt\", project=\"s1043-5_s2010-11_s3016-25\"),\n",
       "  Document(name=\"047_575.txt\", project=\"s1046-50_s2012-13_s3026-50\")),\n",
       " (Document(name=\"048_584.txt\", project=\"s1043-5_s2010-11_s3016-25\"),\n",
       "  Document(name=\"048_584.txt\", project=\"s1046-50_s2012-13_s3026-50\")),\n",
       " (Document(name=\"048_588.txt\", project=\"s1043-5_s2010-11_s3016-25\"),\n",
       "  Document(name=\"048_588.txt\", project=\"s1046-50_s2012-13_s3026-50\")),\n",
       " (Document(name=\"046_563.txt\", project=\"s1043-5_s2010-11_s3016-25\"),\n",
       "  Document(name=\"046_563.txt\", project=\"s1046-50_s2012-13_s3026-50\")),\n",
       " (Document(name=\"049_604.txt\", project=\"s1043-5_s2010-11_s3016-25\"),\n",
       "  Document(name=\"049_604.txt\", project=\"s1046-50_s2012-13_s3026-50\")),\n",
       " (Document(name=\"048_587.txt\", project=\"s1043-5_s2010-11_s3016-25\"),\n",
       "  Document(name=\"048_587.txt\", project=\"s1046-50_s2012-13_s3026-50\")),\n",
       " (Document(name=\"050_612.txt\", project=\"s1043-5_s2010-11_s3016-25\"),\n",
       "  Document(name=\"050_612.txt\", project=\"s1046-50_s2012-13_s3026-50\")),\n",
       " (Document(name=\"049_605.txt\", project=\"s1043-5_s2010-11_s3016-25\"),\n",
       "  Document(name=\"049_605.txt\", project=\"s1046-50_s2012-13_s3026-50\")),\n",
       " (Document(name=\"047_574.txt\", project=\"s1043-5_s2010-11_s3016-25\"),\n",
       "  Document(name=\"047_574.txt\", project=\"s1046-50_s2012-13_s3026-50\")),\n",
       " (Document(name=\"046_567.txt\", project=\"s1043-5_s2010-11_s3016-25\"),\n",
       "  Document(name=\"046_567.txt\", project=\"s1046-50_s2012-13_s3026-50\")),\n",
       " (Document(name=\"047_577.txt\", project=\"s1043-5_s2010-11_s3016-25\"),\n",
       "  Document(name=\"047_577.txt\", project=\"s1046-50_s2012-13_s3026-50\")),\n",
       " (Document(name=\"050_618.txt\", project=\"s1043-5_s2010-11_s3016-25\"),\n",
       "  Document(name=\"050_618.txt\", project=\"s1046-50_s2012-13_s3026-50\")),\n",
       " (Document(name=\"049_596.txt\", project=\"s1043-5_s2010-11_s3016-25\"),\n",
       "  Document(name=\"049_596.txt\", project=\"s1046-50_s2012-13_s3026-50\")),\n",
       " (Document(name=\"050_622.txt\", project=\"s1043-5_s2010-11_s3016-25\"),\n",
       "  Document(name=\"050_622.txt\", project=\"s1046-50_s2012-13_s3026-50\")),\n",
       " (Document(name=\"049_599.txt\", project=\"s1043-5_s2010-11_s3016-25\"),\n",
       "  Document(name=\"049_599.txt\", project=\"s1046-50_s2012-13_s3026-50\")),\n",
       " (Document(name=\"049_607.txt\", project=\"s1043-5_s2010-11_s3016-25\"),\n",
       "  Document(name=\"049_607.txt\", project=\"s1046-50_s2012-13_s3026-50\")),\n",
       " (Document(name=\"050_620.txt\", project=\"s1043-5_s2010-11_s3016-25\"),\n",
       "  Document(name=\"050_620.txt\", project=\"s1046-50_s2012-13_s3026-50\")),\n",
       " (Document(name=\"048_591.txt\", project=\"s1043-5_s2010-11_s3016-25\"),\n",
       "  Document(name=\"048_591.txt\", project=\"s1046-50_s2012-13_s3026-50\")),\n",
       " (Document(name=\"048_583.txt\", project=\"s1043-5_s2010-11_s3016-25\"),\n",
       "  Document(name=\"048_583.txt\", project=\"s1046-50_s2012-13_s3026-50\")),\n",
       " (Document(name=\"047_576.txt\", project=\"s1043-5_s2010-11_s3016-25\"),\n",
       "  Document(name=\"047_576.txt\", project=\"s1046-50_s2012-13_s3026-50\")),\n",
       " (Document(name=\"050_615.txt\", project=\"s1043-5_s2010-11_s3016-25\"),\n",
       "  Document(name=\"050_615.txt\", project=\"s1046-50_s2012-13_s3026-50\")),\n",
       " (Document(name=\"050_613.txt\", project=\"s1043-5_s2010-11_s3016-25\"),\n",
       "  Document(name=\"050_613.txt\", project=\"s1046-50_s2012-13_s3026-50\")),\n",
       " (Document(name=\"050_616.txt\", project=\"s1043-5_s2010-11_s3016-25\"),\n",
       "  Document(name=\"050_616.txt\", project=\"s1046-50_s2012-13_s3026-50\")),\n",
       " (Document(name=\"047_579.txt\", project=\"s1043-5_s2010-11_s3016-25\"),\n",
       "  Document(name=\"047_579.txt\", project=\"s1046-50_s2012-13_s3026-50\")),\n",
       " (Document(name=\"048_594.txt\", project=\"s1043-5_s2010-11_s3016-25\"),\n",
       "  Document(name=\"048_594.txt\", project=\"s1046-50_s2012-13_s3026-50\")),\n",
       " (Document(name=\"047_580.txt\", project=\"s1043-5_s2010-11_s3016-25\"),\n",
       "  Document(name=\"047_580.txt\", project=\"s1046-50_s2012-13_s3026-50\")),\n",
       " (Document(name=\"050_619.txt\", project=\"s1043-5_s2010-11_s3016-25\"),\n",
       "  Document(name=\"050_619.txt\", project=\"s1046-50_s2012-13_s3026-50\")),\n",
       " (Document(name=\"048_582.txt\", project=\"s1043-5_s2010-11_s3016-25\"),\n",
       "  Document(name=\"048_582.txt\", project=\"s1046-50_s2012-13_s3026-50\")),\n",
       " (Document(name=\"048_590.txt\", project=\"s1043-5_s2010-11_s3016-25\"),\n",
       "  Document(name=\"048_590.txt\", project=\"s1046-50_s2012-13_s3026-50\")),\n",
       " (Document(name=\"050_625.txt\", project=\"s1043-5_s2010-11_s3016-25\"),\n",
       "  Document(name=\"050_625.txt\", project=\"s1046-50_s2012-13_s3026-50\")),\n",
       " (Document(name=\"049_603.txt\", project=\"s1043-5_s2010-11_s3016-25\"),\n",
       "  Document(name=\"049_603.txt\", project=\"s1046-50_s2012-13_s3026-50\")),\n",
       " (Document(name=\"047_571.txt\", project=\"s1043-5_s2010-11_s3016-25\"),\n",
       "  Document(name=\"047_571.txt\", project=\"s1046-50_s2012-13_s3026-50\")),\n",
       " (Document(name=\"050_608.txt\", project=\"s1043-5_s2010-11_s3016-25\"),\n",
       "  Document(name=\"050_608.txt\", project=\"s1046-50_s2012-13_s3026-50\")),\n",
       " (Document(name=\"049_598.txt\", project=\"s1043-5_s2010-11_s3016-25\"),\n",
       "  Document(name=\"049_598.txt\", project=\"s1046-50_s2012-13_s3026-50\")),\n",
       " (Document(name=\"046_555.txt\", project=\"s1043-5_s2010-11_s3016-25\"),\n",
       "  Document(name=\"046_555.txt\", project=\"s1046-50_s2012-13_s3026-50\")),\n",
       " (Document(name=\"050_609.txt\", project=\"s1043-5_s2010-11_s3016-25\"),\n",
       "  Document(name=\"050_609.txt\", project=\"s1046-50_s2012-13_s3026-50\")),\n",
       " (Document(name=\"049_601.txt\", project=\"s1043-5_s2010-11_s3016-25\"),\n",
       "  Document(name=\"049_601.txt\", project=\"s1046-50_s2012-13_s3026-50\")),\n",
       " (Document(name=\"046_559.txt\", project=\"s1043-5_s2010-11_s3016-25\"),\n",
       "  Document(name=\"046_559.txt\", project=\"s1046-50_s2012-13_s3026-50\")),\n",
       " (Document(name=\"049_602.txt\", project=\"s1043-5_s2010-11_s3016-25\"),\n",
       "  Document(name=\"049_602.txt\", project=\"s1046-50_s2012-13_s3026-50\")),\n",
       " (Document(name=\"047_578.txt\", project=\"s1043-5_s2010-11_s3016-25\"),\n",
       "  Document(name=\"047_578.txt\", project=\"s1046-50_s2012-13_s3026-50\")),\n",
       " (Document(name=\"050_623.txt\", project=\"s1043-5_s2010-11_s3016-25\"),\n",
       "  Document(name=\"050_623.txt\", project=\"s1046-50_s2012-13_s3026-50\")),\n",
       " (Document(name=\"047_570.txt\", project=\"s1043-5_s2010-11_s3016-25\"),\n",
       "  Document(name=\"047_570.txt\", project=\"s1046-50_s2012-13_s3026-50\")),\n",
       " (Document(name=\"046_568.txt\", project=\"s1043-5_s2010-11_s3016-25\"),\n",
       "  Document(name=\"046_568.txt\", project=\"s1046-50_s2012-13_s3026-50\")),\n",
       " (Document(name=\"048_589.txt\", project=\"s1043-5_s2010-11_s3016-25\"),\n",
       "  Document(name=\"048_589.txt\", project=\"s1046-50_s2012-13_s3026-50\")),\n",
       " (Document(name=\"049_606.txt\", project=\"s1043-5_s2010-11_s3016-25\"),\n",
       "  Document(name=\"049_606.txt\", project=\"s1046-50_s2012-13_s3026-50\")),\n",
       " (Document(name=\"046_560.txt\", project=\"s1043-5_s2010-11_s3016-25\"),\n",
       "  Document(name=\"046_560.txt\", project=\"s1046-50_s2012-13_s3026-50\")),\n",
       " (Document(name=\"050_617.txt\", project=\"s1046-50_s2012-13_s3026-50\"),\n",
       "  Document(name=\"050_617.txt\", project=\"s1043-5_s2010-11_s3016-25\")),\n",
       " (Document(name=\"046_565.txt\", project=\"s1046-50_s2012-13_s3026-50\"),\n",
       "  Document(name=\"046_565.txt\", project=\"s1043-5_s2010-11_s3016-25\")),\n",
       " (Document(name=\"046_554.txt\", project=\"s1046-50_s2012-13_s3026-50\"),\n",
       "  Document(name=\"046_554.txt\", project=\"s1043-5_s2010-11_s3016-25\")),\n",
       " (Document(name=\"048_592.txt\", project=\"s1046-50_s2012-13_s3026-50\"),\n",
       "  Document(name=\"048_592.txt\", project=\"s1043-5_s2010-11_s3016-25\")),\n",
       " (Document(name=\"050_610.txt\", project=\"s1046-50_s2012-13_s3026-50\"),\n",
       "  Document(name=\"050_610.txt\", project=\"s1043-5_s2010-11_s3016-25\")),\n",
       " (Document(name=\"049_595.txt\", project=\"s1046-50_s2012-13_s3026-50\"),\n",
       "  Document(name=\"049_595.txt\", project=\"s1043-5_s2010-11_s3016-25\")),\n",
       " (Document(name=\"047_569.txt\", project=\"s1046-50_s2012-13_s3026-50\"),\n",
       "  Document(name=\"047_569.txt\", project=\"s1043-5_s2010-11_s3016-25\")),\n",
       " (Document(name=\"049_597.txt\", project=\"s1046-50_s2012-13_s3026-50\"),\n",
       "  Document(name=\"049_597.txt\", project=\"s1043-5_s2010-11_s3016-25\")),\n",
       " (Document(name=\"050_621.txt\", project=\"s1046-50_s2012-13_s3026-50\"),\n",
       "  Document(name=\"050_621.txt\", project=\"s1043-5_s2010-11_s3016-25\")),\n",
       " (Document(name=\"048_593.txt\", project=\"s1046-50_s2012-13_s3026-50\"),\n",
       "  Document(name=\"048_593.txt\", project=\"s1043-5_s2010-11_s3016-25\")),\n",
       " (Document(name=\"050_614.txt\", project=\"s1046-50_s2012-13_s3026-50\"),\n",
       "  Document(name=\"050_614.txt\", project=\"s1043-5_s2010-11_s3016-25\")),\n",
       " (Document(name=\"046_564.txt\", project=\"s1046-50_s2012-13_s3026-50\"),\n",
       "  Document(name=\"046_564.txt\", project=\"s1043-5_s2010-11_s3016-25\")),\n",
       " (Document(name=\"048_586.txt\", project=\"s1046-50_s2012-13_s3026-50\"),\n",
       "  Document(name=\"048_586.txt\", project=\"s1043-5_s2010-11_s3016-25\")),\n",
       " (Document(name=\"048_585.txt\", project=\"s1046-50_s2012-13_s3026-50\"),\n",
       "  Document(name=\"048_585.txt\", project=\"s1043-5_s2010-11_s3016-25\")),\n",
       " (Document(name=\"046_566.txt\", project=\"s1046-50_s2012-13_s3026-50\"),\n",
       "  Document(name=\"046_566.txt\", project=\"s1043-5_s2010-11_s3016-25\")),\n",
       " (Document(name=\"049_600.txt\", project=\"s1046-50_s2012-13_s3026-50\"),\n",
       "  Document(name=\"049_600.txt\", project=\"s1043-5_s2010-11_s3016-25\")),\n",
       " (Document(name=\"046_562.txt\", project=\"s1046-50_s2012-13_s3026-50\"),\n",
       "  Document(name=\"046_562.txt\", project=\"s1043-5_s2010-11_s3016-25\")),\n",
       " (Document(name=\"046_557.txt\", project=\"s1046-50_s2012-13_s3026-50\"),\n",
       "  Document(name=\"046_557.txt\", project=\"s1043-5_s2010-11_s3016-25\")),\n",
       " (Document(name=\"046_558.txt\", project=\"s1046-50_s2012-13_s3026-50\"),\n",
       "  Document(name=\"046_558.txt\", project=\"s1043-5_s2010-11_s3016-25\")),\n",
       " (Document(name=\"050_611.txt\", project=\"s1046-50_s2012-13_s3026-50\"),\n",
       "  Document(name=\"050_611.txt\", project=\"s1043-5_s2010-11_s3016-25\")),\n",
       " (Document(name=\"047_572.txt\", project=\"s1046-50_s2012-13_s3026-50\"),\n",
       "  Document(name=\"047_572.txt\", project=\"s1043-5_s2010-11_s3016-25\")),\n",
       " (Document(name=\"050_624.txt\", project=\"s1046-50_s2012-13_s3026-50\"),\n",
       "  Document(name=\"050_624.txt\", project=\"s1043-5_s2010-11_s3016-25\")),\n",
       " (Document(name=\"046_556.txt\", project=\"s1046-50_s2012-13_s3026-50\"),\n",
       "  Document(name=\"046_556.txt\", project=\"s1043-5_s2010-11_s3016-25\")),\n",
       " (Document(name=\"047_573.txt\", project=\"s1046-50_s2012-13_s3026-50\"),\n",
       "  Document(name=\"047_573.txt\", project=\"s1043-5_s2010-11_s3016-25\")),\n",
       " (Document(name=\"046_561.txt\", project=\"s1046-50_s2012-13_s3026-50\"),\n",
       "  Document(name=\"046_561.txt\", project=\"s1043-5_s2010-11_s3016-25\")),\n",
       " (Document(name=\"047_575.txt\", project=\"s1046-50_s2012-13_s3026-50\"),\n",
       "  Document(name=\"047_575.txt\", project=\"s1043-5_s2010-11_s3016-25\")),\n",
       " (Document(name=\"048_584.txt\", project=\"s1046-50_s2012-13_s3026-50\"),\n",
       "  Document(name=\"048_584.txt\", project=\"s1043-5_s2010-11_s3016-25\")),\n",
       " (Document(name=\"048_588.txt\", project=\"s1046-50_s2012-13_s3026-50\"),\n",
       "  Document(name=\"048_588.txt\", project=\"s1043-5_s2010-11_s3016-25\")),\n",
       " (Document(name=\"046_563.txt\", project=\"s1046-50_s2012-13_s3026-50\"),\n",
       "  Document(name=\"046_563.txt\", project=\"s1043-5_s2010-11_s3016-25\")),\n",
       " (Document(name=\"049_604.txt\", project=\"s1046-50_s2012-13_s3026-50\"),\n",
       "  Document(name=\"049_604.txt\", project=\"s1043-5_s2010-11_s3016-25\")),\n",
       " (Document(name=\"048_587.txt\", project=\"s1046-50_s2012-13_s3026-50\"),\n",
       "  Document(name=\"048_587.txt\", project=\"s1043-5_s2010-11_s3016-25\")),\n",
       " (Document(name=\"050_612.txt\", project=\"s1046-50_s2012-13_s3026-50\"),\n",
       "  Document(name=\"050_612.txt\", project=\"s1043-5_s2010-11_s3016-25\")),\n",
       " (Document(name=\"049_605.txt\", project=\"s1046-50_s2012-13_s3026-50\"),\n",
       "  Document(name=\"049_605.txt\", project=\"s1043-5_s2010-11_s3016-25\")),\n",
       " (Document(name=\"047_574.txt\", project=\"s1046-50_s2012-13_s3026-50\"),\n",
       "  Document(name=\"047_574.txt\", project=\"s1043-5_s2010-11_s3016-25\")),\n",
       " (Document(name=\"046_567.txt\", project=\"s1046-50_s2012-13_s3026-50\"),\n",
       "  Document(name=\"046_567.txt\", project=\"s1043-5_s2010-11_s3016-25\")),\n",
       " (Document(name=\"047_577.txt\", project=\"s1046-50_s2012-13_s3026-50\"),\n",
       "  Document(name=\"047_577.txt\", project=\"s1043-5_s2010-11_s3016-25\")),\n",
       " (Document(name=\"050_618.txt\", project=\"s1046-50_s2012-13_s3026-50\"),\n",
       "  Document(name=\"050_618.txt\", project=\"s1043-5_s2010-11_s3016-25\")),\n",
       " (Document(name=\"049_596.txt\", project=\"s1046-50_s2012-13_s3026-50\"),\n",
       "  Document(name=\"049_596.txt\", project=\"s1043-5_s2010-11_s3016-25\")),\n",
       " (Document(name=\"050_622.txt\", project=\"s1046-50_s2012-13_s3026-50\"),\n",
       "  Document(name=\"050_622.txt\", project=\"s1043-5_s2010-11_s3016-25\")),\n",
       " (Document(name=\"049_599.txt\", project=\"s1046-50_s2012-13_s3026-50\"),\n",
       "  Document(name=\"049_599.txt\", project=\"s1043-5_s2010-11_s3016-25\")),\n",
       " (Document(name=\"049_607.txt\", project=\"s1046-50_s2012-13_s3026-50\"),\n",
       "  Document(name=\"049_607.txt\", project=\"s1043-5_s2010-11_s3016-25\")),\n",
       " (Document(name=\"050_620.txt\", project=\"s1046-50_s2012-13_s3026-50\"),\n",
       "  Document(name=\"050_620.txt\", project=\"s1043-5_s2010-11_s3016-25\")),\n",
       " (Document(name=\"048_591.txt\", project=\"s1046-50_s2012-13_s3026-50\"),\n",
       "  Document(name=\"048_591.txt\", project=\"s1043-5_s2010-11_s3016-25\")),\n",
       " (Document(name=\"048_583.txt\", project=\"s1046-50_s2012-13_s3026-50\"),\n",
       "  Document(name=\"048_583.txt\", project=\"s1043-5_s2010-11_s3016-25\")),\n",
       " (Document(name=\"047_576.txt\", project=\"s1046-50_s2012-13_s3026-50\"),\n",
       "  Document(name=\"047_576.txt\", project=\"s1043-5_s2010-11_s3016-25\")),\n",
       " (Document(name=\"050_615.txt\", project=\"s1046-50_s2012-13_s3026-50\"),\n",
       "  Document(name=\"050_615.txt\", project=\"s1043-5_s2010-11_s3016-25\")),\n",
       " (Document(name=\"050_613.txt\", project=\"s1046-50_s2012-13_s3026-50\"),\n",
       "  Document(name=\"050_613.txt\", project=\"s1043-5_s2010-11_s3016-25\")),\n",
       " (Document(name=\"050_616.txt\", project=\"s1046-50_s2012-13_s3026-50\"),\n",
       "  Document(name=\"050_616.txt\", project=\"s1043-5_s2010-11_s3016-25\")),\n",
       " (Document(name=\"047_579.txt\", project=\"s1046-50_s2012-13_s3026-50\"),\n",
       "  Document(name=\"047_579.txt\", project=\"s1043-5_s2010-11_s3016-25\")),\n",
       " (Document(name=\"048_594.txt\", project=\"s1046-50_s2012-13_s3026-50\"),\n",
       "  Document(name=\"048_594.txt\", project=\"s1043-5_s2010-11_s3016-25\")),\n",
       " (Document(name=\"047_580.txt\", project=\"s1046-50_s2012-13_s3026-50\"),\n",
       "  Document(name=\"047_580.txt\", project=\"s1043-5_s2010-11_s3016-25\")),\n",
       " (Document(name=\"050_619.txt\", project=\"s1046-50_s2012-13_s3026-50\"),\n",
       "  Document(name=\"050_619.txt\", project=\"s1043-5_s2010-11_s3016-25\")),\n",
       " (Document(name=\"048_582.txt\", project=\"s1046-50_s2012-13_s3026-50\"),\n",
       "  Document(name=\"048_582.txt\", project=\"s1043-5_s2010-11_s3016-25\")),\n",
       " (Document(name=\"048_590.txt\", project=\"s1046-50_s2012-13_s3026-50\"),\n",
       "  Document(name=\"048_590.txt\", project=\"s1043-5_s2010-11_s3016-25\")),\n",
       " (Document(name=\"050_625.txt\", project=\"s1046-50_s2012-13_s3026-50\"),\n",
       "  Document(name=\"050_625.txt\", project=\"s1043-5_s2010-11_s3016-25\")),\n",
       " (Document(name=\"049_603.txt\", project=\"s1046-50_s2012-13_s3026-50\"),\n",
       "  Document(name=\"049_603.txt\", project=\"s1043-5_s2010-11_s3016-25\")),\n",
       " (Document(name=\"047_571.txt\", project=\"s1046-50_s2012-13_s3026-50\"),\n",
       "  Document(name=\"047_571.txt\", project=\"s1043-5_s2010-11_s3016-25\")),\n",
       " (Document(name=\"050_608.txt\", project=\"s1046-50_s2012-13_s3026-50\"),\n",
       "  Document(name=\"050_608.txt\", project=\"s1043-5_s2010-11_s3016-25\")),\n",
       " (Document(name=\"049_598.txt\", project=\"s1046-50_s2012-13_s3026-50\"),\n",
       "  Document(name=\"049_598.txt\", project=\"s1043-5_s2010-11_s3016-25\")),\n",
       " (Document(name=\"046_555.txt\", project=\"s1046-50_s2012-13_s3026-50\"),\n",
       "  Document(name=\"046_555.txt\", project=\"s1043-5_s2010-11_s3016-25\")),\n",
       " (Document(name=\"050_609.txt\", project=\"s1046-50_s2012-13_s3026-50\"),\n",
       "  Document(name=\"050_609.txt\", project=\"s1043-5_s2010-11_s3016-25\")),\n",
       " (Document(name=\"049_601.txt\", project=\"s1046-50_s2012-13_s3026-50\"),\n",
       "  Document(name=\"049_601.txt\", project=\"s1043-5_s2010-11_s3016-25\")),\n",
       " (Document(name=\"046_559.txt\", project=\"s1046-50_s2012-13_s3026-50\"),\n",
       "  Document(name=\"046_559.txt\", project=\"s1043-5_s2010-11_s3016-25\")),\n",
       " (Document(name=\"049_602.txt\", project=\"s1046-50_s2012-13_s3026-50\"),\n",
       "  Document(name=\"049_602.txt\", project=\"s1043-5_s2010-11_s3016-25\")),\n",
       " (Document(name=\"047_578.txt\", project=\"s1046-50_s2012-13_s3026-50\"),\n",
       "  Document(name=\"047_578.txt\", project=\"s1043-5_s2010-11_s3016-25\")),\n",
       " (Document(name=\"050_623.txt\", project=\"s1046-50_s2012-13_s3026-50\"),\n",
       "  Document(name=\"050_623.txt\", project=\"s1043-5_s2010-11_s3016-25\")),\n",
       " (Document(name=\"047_570.txt\", project=\"s1046-50_s2012-13_s3026-50\"),\n",
       "  Document(name=\"047_570.txt\", project=\"s1043-5_s2010-11_s3016-25\")),\n",
       " (Document(name=\"046_568.txt\", project=\"s1046-50_s2012-13_s3026-50\"),\n",
       "  Document(name=\"046_568.txt\", project=\"s1043-5_s2010-11_s3016-25\")),\n",
       " (Document(name=\"048_589.txt\", project=\"s1046-50_s2012-13_s3026-50\"),\n",
       "  Document(name=\"048_589.txt\", project=\"s1043-5_s2010-11_s3016-25\")),\n",
       " (Document(name=\"049_606.txt\", project=\"s1046-50_s2012-13_s3026-50\"),\n",
       "  Document(name=\"049_606.txt\", project=\"s1043-5_s2010-11_s3016-25\")),\n",
       " (Document(name=\"046_560.txt\", project=\"s1046-50_s2012-13_s3026-50\"),\n",
       "  Document(name=\"046_560.txt\", project=\"s1043-5_s2010-11_s3016-25\"))]"
      ]
     },
     "execution_count": 23,
     "metadata": {},
     "output_type": "execute_result"
    }
   ],
   "source": [
    "from itertools import product\n",
    "\n",
    "\n",
    "duplicate_docs = [doc for doc in data.by_doc \n",
    "                  if doc.name in duplicate_doc_names]\n",
    "dupdoc_pairs = [(doc1, doc2) for doc1, doc2 in product(duplicate_docs, repeat=2)\n",
    "                if doc1.name == doc2.name and doc1 is not doc2]\n",
    "dupdoc_pairs"
   ]
  },
  {
   "cell_type": "code",
   "execution_count": 26,
   "id": "cc8432ec",
   "metadata": {},
   "outputs": [],
   "source": [
    "# Sanity check: make sure all pairs actually have the same name\n",
    "assert all([doc_pair[0].name == doc_pair[1].name for doc_pair in dupdoc_pairs])"
   ]
  },
  {
   "cell_type": "markdown",
   "id": "23302010",
   "metadata": {},
   "source": [
    "## All same-name documents have the same text content"
   ]
  },
  {
   "cell_type": "markdown",
   "id": "b68ec907",
   "metadata": {},
   "source": [
    "And from the below code, we will see that all of these documents indeed share the same text content."
   ]
  },
  {
   "cell_type": "code",
   "execution_count": 30,
   "id": "be47c14c",
   "metadata": {},
   "outputs": [],
   "source": [
    "assert all([doc_pair[0].content == doc_pair[1].content for doc_pair in dupdoc_pairs])\n",
    "assert all([doc_pair[0].lines == doc_pair[1].lines for doc_pair in dupdoc_pairs])\n",
    "assert all([doc_pair[0].tokens == doc_pair[1].tokens for doc_pair in dupdoc_pairs])"
   ]
  },
  {
   "cell_type": "markdown",
   "id": "cc8aa260",
   "metadata": {},
   "source": [
    "Note that this is quite a strict requirement for these documents to satisfy. I was expected at least a few documents to not have the *exact* same content, maybe as a result of spacing being slightly different. But no, all of these same-name documents have the exact same text content, so they are in fact duplicates."
   ]
  },
  {
   "cell_type": "markdown",
   "id": "66f52ec4",
   "metadata": {},
   "source": [
    "Let's see how many there are:"
   ]
  },
  {
   "cell_type": "code",
   "execution_count": 35,
   "id": "ec38f397",
   "metadata": {},
   "outputs": [
    {
     "data": {
      "text/plain": [
       "142"
      ]
     },
     "execution_count": 35,
     "metadata": {},
     "output_type": "execute_result"
    }
   ],
   "source": [
    "len(dupdoc_pairs)"
   ]
  },
  {
   "cell_type": "markdown",
   "id": "fddb08c1",
   "metadata": {},
   "source": [
    "## Checking duplicate document label data"
   ]
  },
  {
   "cell_type": "markdown",
   "id": "c2eb15f9",
   "metadata": {},
   "source": [
    "It would be nice if all of these documents happened to have the same label data. However:"
   ]
  },
  {
   "cell_type": "code",
   "execution_count": 34,
   "id": "5b18e156",
   "metadata": {},
   "outputs": [
    {
     "name": "stdout",
     "output_type": "stream",
     "text": [
      "False False\n"
     ]
    }
   ],
   "source": [
    "print(all([doc_pair[0].label_data == doc_pair[1].label_data for doc_pair in dupdoc_pairs]), \n",
    "      all([doc_pair[0].label_counts == doc_pair[1].label_counts for doc_pair in dupdoc_pairs]))"
   ]
  },
  {
   "cell_type": "markdown",
   "id": "14d31150",
   "metadata": {},
   "source": [
    "We see that this is not the case."
   ]
  },
  {
   "cell_type": "code",
   "execution_count": 40,
   "id": "256a2074",
   "metadata": {},
   "outputs": [
    {
     "data": {
      "text/plain": [
       "{'start': {'row': 16, 'column': 0, 'tokenIndex': 0, 'charIndex': 0},\n",
       " 'end': {'row': 16, 'column': 0, 'tokenIndex': 5, 'charIndex': 9}}"
      ]
     },
     "execution_count": 40,
     "metadata": {},
     "output_type": "execute_result"
    }
   ],
   "source": [
    "dupdoc_pairs[0][0].label_data[0]['textPosition']"
   ]
  },
  {
   "cell_type": "markdown",
   "id": "f6b5aa19",
   "metadata": {},
   "source": [
    "### Request: Checking Missing Documents"
   ]
  },
  {
   "cell_type": "markdown",
   "id": "bbdb36ce",
   "metadata": {},
   "source": [
    "As Dr. Moeller requested, I took the `datasaur` folder from from the Google Drive and I looked for any filenames that were not included in the datasaur data that was downloaded from datasaur following adjudication."
   ]
  },
  {
   "cell_type": "code",
   "execution_count": 55,
   "id": "5f8084b5",
   "metadata": {},
   "outputs": [
    {
     "name": "stdout",
     "output_type": "stream",
     "text": [
      "['3001_056.txt', '3001_040.txt', '3001_032.txt', '3001_028.txt', '3001_095.txt', '3001_064.txt', '3001_042.txt', '3001_065.txt', '3001_029.txt', '3001_050.txt', '3001_070.txt', '3001_041.txt', '3001_076.txt', '3001_009.txt', '3001_071.txt', '3001_052.txt', '3001_006.txt', '3001_008.txt', '3001_063.txt', '3001_069.txt', '3001_011.txt', '3001_014.txt', '3001_020.txt', '3001_044.txt', '3001_087.txt', '3001_086.txt', '3001_083.txt', '3001_045.txt', '3001_068.txt', '3001_025.txt', '3001_017.txt', '3001_077.txt', '3001_037.txt', '3001_010.txt', '3001_018.txt', '3001_080.txt', '3001_019.txt', '3001_074.txt', '3001_058.txt', '3001_049.txt', '3001_013.txt', '3001_066.txt', '3001_090.txt', '3001_030.txt', '3001_034.txt', '3001_053.txt', '3001_024.txt', '3001_015.txt', '3001_079.txt', '3001_036.txt', '3001_088.txt', '3001_039.txt', '3001_081.txt', '3001_046.txt', '3001_047.txt', '3001_033.txt', '3001_089.txt', '3001_001.txt', '3001_002.txt', '3001_072.txt', '3001_061.txt', '3001_055.txt', '3001_012.txt', '3001_092.txt', '3001_051.txt', '3001_035.txt', '3001_027.txt', '3001_073.txt', '3001_003.txt', '3001_060.txt', '3001_082.txt', '3001_057.txt', '3001_084.txt', '3001_093.txt', '3001_023.txt', '3001_097.txt', '3001_016.txt', '3001_048.txt', '3001_000.txt', '3001_005.txt', '3001_062.txt', '3001_004.txt', '3001_096.txt', '3001_038.txt', '3001_022.txt', '3001_078.txt', '3001_075.txt', '3001_043.txt', '3001_026.txt', '3001_031.txt', '3001_021.txt', '3001_054.txt', '3001_094.txt', '3001_091.txt', '3001_007.txt', '3001_085.txt', '3001_059.txt', '3001_067.txt', '2012_197.txt', '2008_131.txt', '2007_112.txt', '2015_251.txt', '2005_086.txt', '2001_012.txt', '2002_018.txt', '2004_075.txt', '2024_371.txt', '2014_224.txt', '2001_001.txt', '2009_150.txt', '2009_157.txt', '2017_270.txt', '2006_093.txt', '2016_256.txt', '2021_312.txt', '2004_054.txt', '2015_242.txt', '2012_195.txt', '2014_236.txt', '2016_254.txt', '2009_148.txt', '2016_253.txt', '2020_300.txt', '2010_166.txt', '2020_296.txt', '2002_017.txt', '2012_199.txt', '2009_152.txt', '2014_223.txt', '2004_052.txt', '2018_277.txt', '2015_240.txt', '2008_143.txt', '2019_290.txt', '2014_225.txt', '2022_336.txt', '2026_383.txt', '2002_016.txt', '2008_125.txt', '2004_058.txt', '2010_159.txt', '2008_119.txt', '2005_083.txt', '2008_138.txt', '2017_263.txt', '2017_264.txt', '2026_392.txt', '2003_038.txt', '2019_291.txt', '2004_057.txt', '2008_120.txt', '2013_208.txt', '2026_393.txt', '2024_372.txt', '2008_144.txt', '2014_226.txt', '2006_092.txt', '2011_185.txt', '2008_146.txt', '2021_318.txt', '2021_315.txt', '2008_145.txt', '2010_164.txt', '2002_031.txt', '2003_037.txt', '2024_379.txt', '2024_363.txt', '2002_029.txt', '2013_213.txt', '2009_156.txt', '2024_360.txt', '2024_376.txt', '2004_068.txt', '2022_326.txt', '2008_127.txt', '2006_104.txt', '2020_308.txt', '2022_348.txt', '2001_009.txt', '2005_077.txt', '2022_345.txt', '2026_381.txt', '2010_170.txt', '2017_269.txt', '2017_274.txt', '2007_114.txt', '2011_186.txt', '2024_361.txt', '2017_262.txt', '2002_023.txt', '2012_194.txt', '2001_007.txt', '2010_163.txt', '2017_265.txt', '2026_387.txt', '2021_325.txt', '2002_033.txt', '2020_302.txt', '2026_390.txt', '2011_181.txt', '2008_134.txt', '2010_171.txt', '2009_149.txt', '2012_193.txt', '2010_172.txt', '2003_047.txt', '2022_328.txt', '2008_128.txt', '2013_212.txt', '2011_178.txt', '2008_130.txt', '2022_339.txt', '2021_313.txt', '2012_189.txt', '2022_355.txt', '2022_352.txt', '2024_375.txt', '2014_229.txt', '2010_161.txt', '2019_289.txt', '2004_063.txt', '2014_235.txt', '2002_036.txt', '2002_027.txt', '2012_200.txt', '2026_394.txt', '2013_214.txt', '2022_347.txt', '2001_008.txt', '2005_085.txt', '2015_243.txt', '2008_132.txt', '2002_028.txt', '2022_329.txt', '2022_337.txt', '2006_095.txt', '2001_005.txt', '2003_046.txt', '2017_266.txt', '2011_179.txt', '2010_169.txt', '2021_317.txt', '2017_275.txt', '2016_258.txt', '2020_298.txt', '2004_071.txt', '2002_019.txt', '2007_108.txt', '2008_118.txt', '2014_228.txt', '2018_281.txt', '2008_140.txt', '2007_109.txt', '2007_113.txt', '2022_350.txt', '2020_303.txt', '2002_026.txt', '2004_062.txt', '2009_147.txt', '2008_133.txt', '2026_382.txt', '2015_239.txt', '2023_357.txt', '2026_396.txt', '2020_295.txt', '2012_196.txt', '2026_388.txt', '2003_039.txt', '2019_286.txt', '2008_141.txt', '2003_048.txt', '2022_333.txt', '2022_338.txt', '2022_344.txt', '2024_370.txt', '2004_069.txt', '2022_341.txt', '2011_183.txt', '2006_094.txt', '2004_070.txt', '2021_323.txt', '2001_004.txt', '2006_097.txt', '2002_022.txt', '2014_227.txt', '2011_184.txt', '2003_045.txt', '2016_257.txt', '2011_180.txt', '2014_222.txt', '2007_116.txt', '2022_351.txt', '2015_241.txt', '2019_288.txt', '2018_276.txt', '2015_248.txt', '2018_279.txt', '2005_076.txt', '2004_073.txt', '2002_025.txt', '2002_024.txt', '2006_102.txt', '2024_374.txt', '2020_305.txt', '2024_365.txt', '2004_055.txt', '2012_191.txt', '2013_209.txt', '2018_283.txt', '2008_129.txt', '2019_292.txt', '2001_011.txt', '2022_349.txt', '2006_096.txt', '2002_020.txt', '2004_050.txt', '2013_216.txt', '2021_309.txt', '2026_385.txt', '2021_322.txt', '2007_106.txt', '2001-003.txt', '2004_060.txt', '2017_273.txt', '2026_389.txt', '2017_268.txt', '2012_190.txt', '2022_327.txt', '2018_280.txt', '2020_307.txt', '2024_373.txt', '2021_314.txt', '2018_278.txt', '2016_261.txt', '2012_188.txt', '2015_247.txt', '2002_034.txt', '2007_110.txt', '2018_282.txt', '2006_105.txt', '2014_221.txt', '2013_203.txt', '2008_139.txt', '2005_089.txt', '2004_074.txt', '2001_013.txt', '2004_056.txt', '2024_362.txt', '2016_255.txt', '2022_330.txt', '2015_249.txt', '2002_021.txt', '2020_306.txt', '2007_117.txt', '2012_192.txt', '2015_244.txt', '2008_122.txt', '2021_324.txt', '2013_204.txt', '2018_284.txt', '2005_079.txt', '2002_014.txt', '2006_091.txt', '2002_030.txt', '2005_078.txt', '2020_301.txt', '2014_218.txt', '2003_042.txt', '2004_065.txt', '2002_015.txt', '2001_006.txt', '2005_080.txt', '2001_000.txt', '2005_088.txt', '2024_367.txt', '2007_115.txt', '2001_010.txt', '2010_176.txt', '2024_377.txt', '2004_066.txt', '2005_081.txt', '2013_211.txt', '2012_201.txt', '2004_051.txt', '2004_061.txt', '2021_310.txt', '2002_032.txt', '2003_040.txt', '2009_153.txt', '2010_158.txt', '2010_174.txt', '2013_217.txt', '2024_369.txt', '2008_136.txt', '2014_230.txt', '2026_398.txt', '2013_206.txt', '2005_084.txt', '2014_233.txt', '2022_354.txt', '2023_358.txt', '2006_098.txt', '2010_167.txt', '2003_041.txt', '2004_072.txt', '2022_334.txt', '2007_111.txt', '2016_252.txt', '2011_182.txt', '2009_155.txt', '2014_219.txt', '2022_356.txt', '2001_002.txt', '2022_340.txt', '2003_043.txt', '2010_168.txt', '2016_260.txt', '2004_064.txt', '2026_397.txt', '2008_124.txt', '2004_067.txt', '2008_126.txt', '2012_187.txt', '2026_395.txt', '2019_285.txt', '2013_205.txt', '2006_103.txt', '2020_294.txt', '2005_087.txt', '2015_246.txt', '2017_267.txt', '2013_207.txt', '2024_368.txt', '2010_177.txt', '2009_154.txt', '2004_053.txt', '2005_082.txt', '2022_342.txt', '2024_378.txt', '2006_101.txt', '2024_366.txt', '2008_142.txt', '2006_099.txt', '2014_237.txt', '2015_238.txt', '2015_250.txt', '2017_272.txt', '2003_044.txt', '2022_335.txt', '2020_304.txt', '2016_259.txt', '2008_137.txt', '2013_210.txt', '2024_364.txt', '2022_332.txt', '2002_035.txt', '2021_311.txt', '2012_198.txt', '2007_107.txt', '2021_319.txt', '2026_384.txt', '2022_343.txt', '2019_293.txt', '2014_220.txt', '2026_386.txt', '2020_297.txt', '2021_316.txt', '2021_320.txt', '2026_391.txt', '2008_121.txt', '2010_175.txt', '2010_173.txt', '2022_353.txt', '2008_135.txt', '2009_151.txt', '2013_202.txt', '2022_346.txt', '2013_215.txt', '2023_359.txt', '2019_287.txt', '2022_331.txt', '2010_162.txt', '2006_090.txt', '2006_100.txt', '2021_321.txt', '2020_299.txt', '2017_271.txt', '2015_245.txt', '2010_160.txt', '2008_123.txt', '2010_165.txt', '2014_231.txt', '046_561.txt', '040_487.txt', '012_128.txt', '028_337.txt', '030_362.txt', '008_071.txt', '039_470.txt', '033_401.txt', '015_159.txt', '002_022.txt', '049_603.txt', '046_562.txt', '015_163.txt', '055_687.txt', '029_342.txt', '047_575.txt', '025_293.txt', '009_096.txt', '016_171.txt', '017_185.txt', '016_170.txt', '047_577.txt', '048_593.txt', '014_153.txt', '043_525.txt', '001_014.txt', '021_232.txt', '029_349.txt', '009_086.txt', '011_124.txt', '001_004.txt', '023_261.txt', '008_072.txt', '040_489.txt', '035_427.txt', '035_424.txt', '020_223.txt', '009_093.txt', '048_587.txt', '026_305.txt', '020_211.txt', '023_257.txt', '022_248.txt', '010_102.txt', '035_431.txt', '023_260.txt', '053_659.txt', '029_347.txt', '035_429.txt', '054_662.txt', '020_226.txt', '034_408.txt', '050_611.txt', '043_532.txt', '015_156.txt', '005_035.txt', '034_411.txt', '050_609.txt', '051_630.txt', '006_043.txt', '009_085.txt', '002_024.txt', '024_278.txt', '055_683.txt', '017_179.txt', '011_120.txt', '008_070.txt', '040_485.txt', '032_378.txt', '029_355.txt', '008_069.txt', '054_668.txt', '032_377.txt', '032_385.txt', '035_418.txt', '050_621.txt', '041_508.txt', '033_403.txt', '035_423.txt', '058_713.txt', '032_389.txt', '040_495.txt', '037_458.txt', '036_443.txt', '022_247.txt', '054_673.txt', '006_053.txt', '015_155.txt', '013_140.txt', '036_442.txt', '045_540.txt', '043_526.txt', '010_105.txt', '050_617.txt', '006_048.txt', '049_599.txt', '028_327.txt', '026_306.txt', '026_296.txt', '017_182.txt', '045_541.txt', '002_023.txt', '054_675.txt', '005_037.txt', '014_152.txt', '058_709.txt', '055_679.txt', '018_199.txt', '017_173.txt', '030_367.txt', '050_612.txt', '003_026.txt', '017_184.txt', '011_114.txt', '020_213.txt', '006_045.txt', '050_625.txt', '054_670.txt', '039_467.txt', '052_647.txt', '057_704.txt', '021_244.txt', '017_176.txt', '001_000.txt', '024_270.txt', '006_047.txt', '010_104.txt', '001_013.txt', '003_027.txt', '053_660.txt', '008_080.txt', '040_497.txt', '036_449.txt', '006_050.txt', '019_207.txt', '028_325.txt', '009_083.txt', '005_032.txt', '051_634.txt', '006_054.txt', '028_338.txt', '049_598.txt', '055_689.txt', '039_476.txt', '007_059.txt', '032_379.txt', '036_451.txt', '039_468.txt', '047_579.txt', '027_321.txt', '046_556.txt', '050_620.txt', '009_097.txt', '042_518.txt', '007_068.txt', '018_191.txt', '029_348.txt', '041_506.txt', '016_172.txt', '005_038.txt', '036_447.txt', '042_514.txt', '054_663.txt', '059_716.txt', '058_708.txt', '044_534.txt', '035_420.txt', '025_283.txt', '010_100.txt', '036_444.txt', '049_607.txt', '027_314.txt', '055_684.txt', '056_696.txt', '021_231.txt', '051_635.txt', '042_512.txt', '019_205.txt', '049_605.txt', '016_167.txt', '039_469.txt', '012_130.txt', '051_639.txt', '017_183.txt', '041_500.txt', '037_461.txt', '012_135.txt', '023_266.txt', '009_092.txt', '026_304.txt', '037_459.txt', '025_287.txt', '039_466.txt', '012_132.txt', '030_371.txt', '005_033.txt', '049_604.txt', '054_665.txt', '045_548.txt', '030_361.txt', '040_482.txt', '011_125.txt', '018_195.txt', '046_567.txt', '026_301.txt', '058_710.txt', '043_529.txt', '040_492.txt', '060_737.txt', '007_064.txt', '032_380.txt', '051_633.txt', '013_138.txt', '055_682.txt', '032_388.txt', '009_095.txt', '036_440.txt', '027_313.txt', '041_498.txt', '052_642.txt', '011_123.txt', '055_681.txt', '050_615.txt', '037_457.txt', '019_209.txt', '003_030.txt', '009_084.txt', '016_169.txt', '052_644.txt', '062_743.txt', '035_419.txt', '020_219.txt', '041_505.txt', '034_413.txt', '021_234.txt', '056_699.txt', '018_196.txt', '020_212.txt', '028_333.txt', '032_383.txt', '060_730.txt', '051_636.txt', '008_077.txt', '018_190.txt', '050_613.txt', '051_638.txt', '040_496.txt', '046_560.txt', '048_591.txt', '001_003.txt', '051_640.txt', '044_537.txt', '019_204.txt', '028_330.txt', '021_237.txt', '035_422.txt', '020_225.txt', '035_425.txt', '023_269.txt', '001_007.txt', '028_339.txt', '034_415.txt', '011_111.txt', '045_552.txt', '060_733.txt', '048_585.txt', '009_087.txt', '011_118.txt', '059_717.txt', '035_421.txt', '054_672.txt', '027_308.txt', '042_516.txt', '017_180.txt', '001_012.txt', '020_217.txt', '042_521.txt', '049_602.txt', '042_517.txt', '026_303.txt', '033_397.txt', '020_230.txt', '034_409.txt', '027_323.txt', '056_691.txt', '027_316.txt', '026_307.txt', '021_239.txt', '039_481.txt', '053_658.txt', '041_511.txt', '041_507.txt', '013_148.txt', '043_524.txt', '056_693.txt', '009_088.txt', '008_079.txt', '007_057.txt', '009_091.txt', '018_192.txt', '020_222.txt', '052_645.txt', '016_168.txt', '021_245.txt', '025_289.txt', '001_002.txt', '014_150.txt', '039_472.txt', '013_143.txt', '059_727.txt', '013_137.txt', '029_344.txt', '062_742.txt', '022_253.txt', '062_741.txt', '045_549.txt', '002_021.txt', '018_194.txt', '001_001.txt', '026_299.txt', '018_193.txt', '033_394.txt', '020_227.txt', '062_746.txt', '044_538.txt', '015_158.txt', '013_141.txt', '030_359.txt', '057_705.txt', '024_271.txt', '029_350.txt', '057_706.txt', '054_669.txt', '039_475.txt', '033_393.txt', '006_044.txt', '059_719.txt', '022_255.txt', '052_649.txt', '028_332.txt', '054_664.txt', '007_066.txt', '049_595.txt', '018_198.txt', '059_720.txt', '055_688.txt', '021_233.txt', '052_646.txt', '025_295.txt', '023_268.txt', '035_432.txt', '013_144.txt', '003_028.txt', '026_300.txt', '034_417.txt', '051_637.txt', '009_090.txt', '021_238.txt', '036_436.txt', '007_060.txt', '046_563.txt', '029_340.txt', '050_623.txt', '011_112.txt', '057_707.txt', '041_504.txt', '007_067.txt', '025_294.txt', '003_025.txt', '001_008.txt', '017_174.txt', '021_236.txt', '032_375.txt', '023_262.txt', '047_570.txt', '028_334.txt', '050_610.txt', '018_189.txt', '048_590.txt', '051_632.txt', '034_416.txt', '020_218.txt', '056_690.txt', '017_175.txt', '032_381.txt', '015_154.txt', '002_015.txt', '028_331.txt', '002_017.txt', '060_731.txt', '005_034.txt', '032_390.txt', '024_274.txt', '057_702.txt', '028_336.txt', '012_127.txt', '047_576.txt', '050_608.txt', '030_365.txt', '008_078.txt', '013_142.txt', '060_728.txt', '016_166.txt', '051_629.txt', '020_215.txt', '015_161.txt', '028_328.txt', '037_456.txt', '053_653.txt', '030_358.txt', '007_056.txt', '041_501.txt', '009_094.txt', '047_571.txt', '043_523.txt', '047_572.txt', '056_694.txt', '051_626.txt', '040_486.txt', '040_488.txt', '012_133.txt', '027_311.txt', '027_322.txt', '007_065.txt', '033_391.txt', '033_396.txt', '008_074.txt', '052_648.txt', '019_202.txt', '012_131.txt', '045_551.txt', '029_345.txt', '029_354.txt', '008_073.txt', '020_214.txt', '033_395.txt', '040_483.txt', '060_734.txt', '007_063.txt', '050_616.txt', '006_052.txt', '001_006.txt', '056_697.txt', '020_228.txt', '035_430.txt', '010_101.txt', '041_503.txt', '033_392.txt', '007_061.txt', '062_740.txt', '050_618.txt', '022_249.txt', '059_726.txt', '054_671.txt', '039_480.txt', '040_491.txt', '040_490.txt', '023_256.txt', '059_724.txt', '041_499.txt', '045_542.txt', '047_578.txt', '010_103.txt', '017_181.txt', '025_286.txt', '027_320.txt', '011_108.txt', '021_240.txt', '044_533.txt', '032_386.txt', '053_655.txt', '006_055.txt', '054_677.txt', '037_462.txt', '028_324.txt', '024_277.txt', '045_547.txt', '024_275.txt', '033_405.txt', '039_465.txt', '023_265.txt', '036_437.txt', '050_614.txt', '046_568.txt', '014_151.txt', '051_640a.txt', '034_412.txt', '030_369.txt', '032_374.txt', '047_569.txt', '011_122.txt', '039_471.txt', '015_157.txt', '025_291.txt', '024_273.txt', '011_115.txt', '028_335.txt', '011_107.txt', '054_676.txt', '023_264.txt', '019_206.txt', '018_197.txt', '008_081.txt', '032_387.txt', '034_414.txt', '030_360.txt', '016_164.txt', '046_559.txt', '003_029.txt', '035_426.txt', '040_493.txt', '058_712.txt', '046_566.txt', '059_718.txt', '049_597.txt', '049_601.txt', '045_550.txt', '028_329.txt', '048_584.txt', '045_546.txt', '023_258.txt', '036_445.txt', '053_654.txt', '030_372.txt', '008_082.txt', '045_545.txt', '008_075.txt', '011_121.txt', '030_368.txt', '020_224.txt', '027_309.txt', '025_292.txt', '032_373.txt', '025_288.txt', '037_452.txt', '055_686.txt', '029_353.txt', '050_619.txt', '044_535.txt', '036_438.txt', '021_243.txt', '039_479.txt', '048_594.txt', '026_302.txt', '053_652.txt', '018_187.txt', '037_460.txt', '030_366.txt', '055_680.txt', '024_280.txt', '016_165.txt', '037_463.txt', '062_739.txt', '025_284.txt', '042_520.txt', '037_464.txt', '006_046.txt', '011_109.txt', '039_474.txt', '059_721.txt', '020_220.txt', '033_398.txt', '052_650.txt', '042_513.txt', '001_005.txt', '013_136.txt', '018_186.txt', '018_188.txt', '048_582.txt', '024_276.txt', '048_583.txt', '001_009.txt', '043_527.txt', '012_129.txt', '027_319.txt', '045_543.txt', '059_725.txt', '025_282.txt', '048_589.txt', '033_402.txt', '022_254.txt', '036_435.txt', '046_554.txt', '049_596.txt', '050_624.txt', '043_530.txt', '051_627.txt', '029_346.txt', '028_326.txt', '060_735.txt', '042_519.txt', '056_692.txt', '013_149.txt', '060_738.txt', '044_539.txt', '013_145.txt', '029_351.txt', '027_310.txt', '030_370.txt', '019_203.txt', '015_162.txt', '054_674.txt', '030_363.txt', '056_695.txt', '011_119.txt', '042_522.txt', '036_448.txt', '036_439.txt', '011_110.txt', '024_279.txt', '037_453.txt', '043_531.txt', '007_058.txt', '054_666.txt', '002_018.txt', '047_580.txt', '029_356.txt', '041_502.txt', '053_657.txt', '036_441.txt', '044_536.txt', '032_382.txt', '012_134.txt', '041_509.txt', '013_147.txt', '037_455.txt', '060_736.txt', '005_039.txt', '011_126.txt', '020_216.txt', '049_606.txt', '021_242.txt', '026_297.txt', '025_285.txt', '062_745.txt', '032_384.txt', '020_210.txt', '006_051.txt', '058_715.txt', '051_628.txt', '046_564.txt', '052_643.txt', '053_656.txt', '045_553.txt', '039_477.txt', '036_446.txt', '017_177.txt', '040_494.txt', '060_732.txt', '019_201.txt', '027_315.txt', '027_318.txt', '033_406.txt', '048_588.txt', '046_555.txt', '026_298.txt', '022_250.txt', '019_200.txt', '045_544.txt', '019_208.txt', '029_352.txt', '010_106.txt', '036_450.txt', '035_428.txt', '048_586.txt', '054_661.txt', '039_478.txt', '046_565.txt', '022_252.txt', '047_573.txt', '060_729.txt', '042_515.txt', '011_116.txt', '047_574.txt', '006_042.txt', '037_454.txt', '023_259.txt', '032_376.txt', '039_473.txt', '011_113.txt', '013_146.txt', '040_484.txt', '002_020.txt', '058_714.txt', '005_036.txt', '021_235.txt', '055_685.txt', '009_089.txt', '020_221.txt', '048_592.txt', '030_364.txt', '054_667.txt', '046_557.txt', '058_711.txt', '029_341.txt', '010_098.txt', '027_317.txt', '027_312.txt', '001_011.txt', '011_117.txt', '036_433.txt', '017_178.txt', '023_267.txt', '005_041.txt', '029_357.txt', '022_246.txt', '005_040.txt', '033_404.txt', '033_400.txt', '041_510.txt', '025_290.txt', '001_010.txt', '022_251.txt', '059_723.txt', '024_272.txt', '034_410.txt', '029_343.txt', '008_076.txt', '056_698.txt', '055_678.txt', '013_139.txt', '036_434.txt', '007_062.txt', '043_528.txt', '020_229.txt', '056_700.txt', '057_703.txt', '050_622.txt', '002_019.txt', '010_099.txt', '006_049.txt', '062_744.txt', '059_722.txt', '033_399.txt', '049_600.txt', '002_016.txt', '033_407.txt', '021_241.txt', '051_631.txt', '023_263.txt', '015_160.txt', '046_558.txt']\n"
     ]
    }
   ],
   "source": [
    "from pathlib import Path\n",
    "\n",
    "# Google Drive document names\n",
    "gd_docnames = [path.name for path in Path('datasaur').rglob('*.txt')]\n",
    "print(gd_docnames)"
   ]
  },
  {
   "cell_type": "markdown",
   "id": "139f8cf7",
   "metadata": {},
   "source": [
    "It seems that the only name that got messed up is a file that separated its transcript number from its document number using a hyphen instead of the usual underscore. However, it seems that the mistake got fixed somehow anyway, since the assumed corresponding document is clearly in the imported datasaur data."
   ]
  },
  {
   "cell_type": "code",
   "execution_count": 61,
   "id": "c69b1245",
   "metadata": {},
   "outputs": [
    {
     "name": "stdout",
     "output_type": "stream",
     "text": [
      "['2001-003.txt']\n",
      "['2001_003.txt']\n"
     ]
    }
   ],
   "source": [
    "ds_docnames = [doc.name for doc in data.by_doc]\n",
    "print([name for name in gd_docnames if name not in ds_docnames])\n",
    "print([name for name in ds_docnames if name not in gd_docnames])"
   ]
  }
 ],
 "metadata": {
  "kernelspec": {
   "display_name": ".venv",
   "language": "python",
   "name": "python3"
  },
  "language_info": {
   "codemirror_mode": {
    "name": "ipython",
    "version": 3
   },
   "file_extension": ".py",
   "mimetype": "text/x-python",
   "name": "python",
   "nbconvert_exporter": "python",
   "pygments_lexer": "ipython3",
   "version": "3.10.12"
  }
 },
 "nbformat": 4,
 "nbformat_minor": 5
}
