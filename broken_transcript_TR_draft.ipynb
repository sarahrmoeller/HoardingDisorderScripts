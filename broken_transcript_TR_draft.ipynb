{
 "cells": [
  {
   "cell_type": "code",
   "execution_count": null,
   "id": "23dd6043",
   "metadata": {},
   "outputs": [
    {
     "name": "stdout",
     "output_type": "stream",
     "text": [
      "Requirement already satisfied: pip in /Library/Frameworks/Python.framework/Versions/3.13/lib/python3.13/site-packages (25.0.1)\n",
      "Collecting pip\n",
      "  Using cached pip-25.1.1-py3-none-any.whl.metadata (3.6 kB)\n",
      "Using cached pip-25.1.1-py3-none-any.whl (1.8 MB)\n",
      "Installing collected packages: pip\n",
      "  Attempting uninstall: pip\n",
      "    Found existing installation: pip 25.0.1\n",
      "    Uninstalling pip-25.0.1:\n",
      "      Successfully uninstalled pip-25.0.1\n",
      "\u001b[33m  WARNING: The scripts pip, pip3 and pip3.13 are installed in '/Library/Frameworks/Python.framework/Versions/3.13/bin' which is not on PATH.\n",
      "  Consider adding this directory to PATH or, if you prefer to suppress this warning, use --no-warn-script-location.\u001b[0m\u001b[33m\n",
      "\u001b[0mSuccessfully installed pip-25.1.1\n",
      "Note: you may need to restart the kernel to use updated packages.\n"
     ]
    }
   ],
   "source": [
    "pip install --upgrade pip"
   ]
  },
  {
   "cell_type": "code",
   "execution_count": 37,
   "id": "d69b27ee",
   "metadata": {},
   "outputs": [
    {
     "name": "stdout",
     "output_type": "stream",
     "text": [
      "{PosixPath('data/HD_set1_1-7/REVIEW/003_029.txt.json')} ('Interviewer', 'Participant')\n",
      "{PosixPath('data/HD_set1_1-7/REVIEW/003_028.txt.json')} ('Interviewer', 'Participant')\n",
      "{PosixPath('data/HD_set1_1-7/REVIEW/006_047.txt.json')} ('Interviewer', 'Participant')\n",
      "{PosixPath('data/HD_set1_1-7/REVIEW/006_046.txt.json')} ('Interviewer', 'Participant')\n",
      "{PosixPath('data/HD_set1_1-7/REVIEW/001_004.txt.json')} ('Interviewer', 'Participant')\n",
      "{PosixPath('data/HD_set1_1-7/REVIEW/001_005.txt.json')} ('Interviewer', 'Participant')\n",
      "{PosixPath('data/HD_set1_1-7/REVIEW/005_035.txt.json')} ('Interviewer', 'Participant')\n",
      "{PosixPath('data/HD_set1_1-7/REVIEW/007_065.txt.json')} ('Interviewer', 'Participant')\n",
      "{PosixPath('data/HD_set1_1-7/REVIEW/005_034.txt.json')} ('Interviewer', 'Participant')\n",
      "{PosixPath('data/HD_set1_1-7/REVIEW/007_064.txt.json')} ('Interviewer', 'Participant')\n",
      "{PosixPath('data/HD_set1_1-7/REVIEW/002_016.txt.json')} ('Interviewer', 'Participant')\n",
      "{PosixPath('data/HD_set1_1-7/REVIEW/002_017.txt.json')} ('Interviewer', 'Participant')\n",
      "{PosixPath('data/HD_set1_1-7/REVIEW/006_050.txt.json')} ('Interviewer', 'Participant')\n",
      "{PosixPath('data/HD_set1_1-7/REVIEW/006_051.txt.json')} ('Interviewer', 'Participant')\n",
      "{PosixPath('data/HD_set1_1-7/REVIEW/001_013.txt.json')} ('Interviewer', 'Participant')\n",
      "{PosixPath('data/HD_set1_1-7/REVIEW/001_012.txt.json')} ('Interviewer', 'Participant')\n",
      "{PosixPath('data/HD_set1_1-7/REVIEW/002_022.txt.json')} ('Interviewer', 'Participant')\n",
      "{PosixPath('data/HD_set1_1-7/REVIEW/002_023.txt.json')} ('Interviewer', 'Participant')\n",
      "{PosixPath('data/HD_set1_1-7/REVIEW/001_014.txt.json')} ('Interviewer', 'Participant')\n",
      "{PosixPath('data/HD_set1_1-7/REVIEW/002_024.txt.json')} ('Interviewer', 'Participant')\n",
      "{PosixPath('data/HD_set1_1-7/REVIEW/007_056.txt.json')} ('Interviewer', 'Participant')\n",
      "{PosixPath('data/HD_set1_1-7/REVIEW/007_057.txt.json')} ('Interviewer', 'Participant')\n",
      "{PosixPath('data/HD_set1_1-7/REVIEW/001_009.txt.json')} ('Interviewer', 'Participant')\n",
      "{PosixPath('data/HD_set1_1-7/REVIEW/001_008.txt.json')} ('Interviewer', 'Participant')\n",
      "{PosixPath('data/HD_set1_1-7/REVIEW/005_038.txt.json')} ('Interviewer', 'Participant')\n",
      "{PosixPath('data/HD_set1_1-7/REVIEW/007_068.txt.json')} ('Interviewer', 'Participant')\n",
      "{PosixPath('data/HD_set1_1-7/REVIEW/005_039.txt.json')} ('Interviewer', 'Participant')\n",
      "{PosixPath('data/HD_set1_1-7/REVIEW/003_025.txt.json')} ('Interviewer', 'Participant')\n",
      "{PosixPath('data/HD_set1_1-7/REVIEW/005_032.txt.json')} ('Interviewer', 'Participant')\n",
      "{PosixPath('data/HD_set1_1-7/REVIEW/007_062.txt.json')} ('Interviewer', 'Participant')\n",
      "{PosixPath('data/HD_set1_1-7/REVIEW/005_033.txt.json')} ('Interviewer', 'Participant')\n",
      "{PosixPath('data/HD_set1_1-7/REVIEW/007_063.txt.json')} ('Interviewer', 'Participant')\n",
      "{PosixPath('data/HD_set1_1-7/REVIEW/001_003.txt.json')} ('Interviewer', 'Participant')\n",
      "{PosixPath('data/HD_set1_1-7/REVIEW/001_002.txt.json')} ('Interviewer', 'Participant')\n",
      "{PosixPath('data/HD_set1_1-7/REVIEW/002_021.txt.json')} ('Interviewer', 'Participant')\n",
      "{PosixPath('data/HD_set1_1-7/REVIEW/002_020.txt.json')} ('Interviewer', 'Participant')\n",
      "{PosixPath('data/HD_set1_1-7/REVIEW/001_010.txt.json')} ('Interviewer', 'Participant')\n",
      "{PosixPath('data/HD_set1_1-7/REVIEW/001_011.txt.json')} ('Interviewer', 'Participant')\n",
      "{PosixPath('data/HD_set1_1-7/REVIEW/002_015.txt.json')} ('Interviewer', 'Participant')\n",
      "{PosixPath('data/HD_set1_1-7/REVIEW/006_053.txt.json')} ('Interviewer', 'Participant')\n",
      "{PosixPath('data/HD_set1_1-7/REVIEW/006_052.txt.json')} ('Interviewer', 'Participant')\n",
      "{PosixPath('data/HD_set1_1-7/REVIEW/005_041.txt.json')} ('Interviewer', 'Participant')\n",
      "{PosixPath('data/HD_set1_1-7/REVIEW/005_040.txt.json')} ('Interviewer', 'Participant')\n",
      "{PosixPath('data/HD_set1_1-7/REVIEW/007_058.txt.json')} ('Interviewer', 'Participant')\n",
      "{PosixPath('data/HD_set1_1-7/REVIEW/007_059.txt.json')} ('Interviewer', 'Participant')\n",
      "{PosixPath('data/HD_set1_1-7/REVIEW/001_007.txt.json')} ('Interviewer', 'Participant')\n",
      "{PosixPath('data/HD_set1_1-7/REVIEW/001_006.txt.json')} ('Interviewer', 'Participant')\n",
      "{PosixPath('data/HD_set1_1-7/REVIEW/007_066.txt.json')} ('Interviewer', 'Participant')\n",
      "{PosixPath('data/HD_set1_1-7/REVIEW/005_036.txt.json')} ('Interviewer', 'Participant')\n",
      "{PosixPath('data/HD_set1_1-7/REVIEW/007_067.txt.json')} ('Interviewer', 'Participant')\n",
      "{PosixPath('data/HD_set1_1-7/REVIEW/005_037.txt.json')} ('Interviewer', 'Participant')\n",
      "{PosixPath('data/HD_set1_1-7/REVIEW/006_044.txt.json')} ('Interviewer', 'Participant')\n",
      "{PosixPath('data/HD_set1_1-7/REVIEW/006_045.txt.json')} ('Interviewer', 'Participant')\n",
      "{PosixPath('data/HD_set1_1-7/REVIEW/003_027.txt.json')} ('Interviewer', 'Participant')\n",
      "{PosixPath('data/HD_set1_1-7/REVIEW/003_026.txt.json')} ('Interviewer', 'Participant')\n",
      "{PosixPath('data/HD_set1_1-7/REVIEW/006_049.txt.json')} ('Interviewer', 'Participant')\n",
      "{PosixPath('data/HD_set1_1-7/REVIEW/006_048.txt.json')} ('Interviewer', 'Participant')\n",
      "{PosixPath('data/HD_set1_1-7/REVIEW/007_061.txt.json')} ('Interviewer', 'Participant')\n",
      "{PosixPath('data/HD_set1_1-7/REVIEW/007_060.txt.json')} ('Interviewer', 'Participant')\n",
      "{PosixPath('data/HD_set1_1-7/REVIEW/001_000.txt.json')} ('Interviewer', 'Participant')\n",
      "{PosixPath('data/HD_set1_1-7/REVIEW/001_001.txt.json')} ('Interviewer', 'Participant')\n",
      "{PosixPath('data/HD_set1_1-7/REVIEW/006_043.txt.json')} ('Interviewer', 'Participant')\n",
      "{PosixPath('data/HD_set1_1-7/REVIEW/006_042.txt.json')} ('Interviewer', 'Participant')\n",
      "{PosixPath('data/HD_set1_1-7/REVIEW/002_018.txt.json')} ('Interviewer', 'Participant')\n",
      "{PosixPath('data/HD_set1_1-7/REVIEW/002_019.txt.json')} ('Interviewer', 'Participant')\n",
      "{PosixPath('data/HD_set1_1-7/REVIEW/003_030.txt.json')} ('Interviewer', 'Participant')\n",
      "{PosixPath('data/HD_set1_1-7/REVIEW/006_054.txt.json')} ('Interviewer', 'Participant')\n",
      "{PosixPath('data/HD_set1_1-7/REVIEW/006_055.txt.json')} ('Interviewer', 'Participant')\n"
     ]
    },
    {
     "name": "stderr",
     "output_type": "stream",
     "text": [
      "/Users/admin/Documents/coding_land/HoardingDisorderScripts/utils/document.py:121: UserWarning: Not enough information to determine speaker tuple. Only 1 speaker label, \"Interviewer\", found in Document(name=\"003_029.txt\", project=\"HD_set1_1-7\") yet there are 3 speaker tuples that have this speaker in them: [('Interviewer', 'Participant'), ('Interviewer', 'Speaker'), ('Interviewer', 'Interviewee')]\n",
      "  warnings.warn(f'Not enough information to determine '\n",
      "/Users/admin/Documents/coding_land/HoardingDisorderScripts/utils/document.py:121: UserWarning: Not enough information to determine speaker tuple. Only 1 speaker label, \"Interviewer\", found in Document(name=\"003_028.txt\", project=\"HD_set1_1-7\") yet there are 3 speaker tuples that have this speaker in them: [('Interviewer', 'Participant'), ('Interviewer', 'Speaker'), ('Interviewer', 'Interviewee')]\n",
      "  warnings.warn(f'Not enough information to determine '\n",
      "/Users/admin/Documents/coding_land/HoardingDisorderScripts/utils/document.py:121: UserWarning: Not enough information to determine speaker tuple. Only 1 speaker label, \"Interviewer\", found in Document(name=\"003_025.txt\", project=\"HD_set1_1-7\") yet there are 3 speaker tuples that have this speaker in them: [('Interviewer', 'Participant'), ('Interviewer', 'Speaker'), ('Interviewer', 'Interviewee')]\n",
      "  warnings.warn(f'Not enough information to determine '\n",
      "/Users/admin/Documents/coding_land/HoardingDisorderScripts/utils/document.py:121: UserWarning: Not enough information to determine speaker tuple. Only 1 speaker label, \"Interviewer\", found in Document(name=\"003_027.txt\", project=\"HD_set1_1-7\") yet there are 3 speaker tuples that have this speaker in them: [('Interviewer', 'Participant'), ('Interviewer', 'Speaker'), ('Interviewer', 'Interviewee')]\n",
      "  warnings.warn(f'Not enough information to determine '\n",
      "/Users/admin/Documents/coding_land/HoardingDisorderScripts/utils/document.py:121: UserWarning: Not enough information to determine speaker tuple. Only 1 speaker label, \"Interviewer\", found in Document(name=\"003_026.txt\", project=\"HD_set1_1-7\") yet there are 3 speaker tuples that have this speaker in them: [('Interviewer', 'Participant'), ('Interviewer', 'Speaker'), ('Interviewer', 'Interviewee')]\n",
      "  warnings.warn(f'Not enough information to determine '\n",
      "/Users/admin/Documents/coding_land/HoardingDisorderScripts/utils/document.py:121: UserWarning: Not enough information to determine speaker tuple. Only 1 speaker label, \"Interviewer\", found in Document(name=\"003_030.txt\", project=\"HD_set1_1-7\") yet there are 3 speaker tuples that have this speaker in them: [('Interviewer', 'Participant'), ('Interviewer', 'Speaker'), ('Interviewer', 'Interviewee')]\n",
      "  warnings.warn(f'Not enough information to determine '\n"
     ]
    }
   ],
   "source": [
    "from pathlib import Path\n",
    "from utils.document import Document  \n",
    "\n",
    "\n",
    "for file_path in Path(\"./data/HD_set1_1-7/REVIEW\").glob(\"*.json\"):\n",
    "\n",
    "    fixed_doc = Document(str(file_path))\n",
    "\n",
    "    print({file_path}, fixed_doc.speaker_tuple) \n",
    "#want to add a string here that says \"File name/number:___\" then the content"
   ]
  }
 ],
 "metadata": {
  "kernelspec": {
   "display_name": "Python 3",
   "language": "python",
   "name": "python3"
  },
  "language_info": {
   "codemirror_mode": {
    "name": "ipython",
    "version": 3
   },
   "file_extension": ".py",
   "mimetype": "text/x-python",
   "name": "python",
   "nbconvert_exporter": "python",
   "pygments_lexer": "ipython3",
   "version": "3.13.3"
  }
 },
 "nbformat": 4,
 "nbformat_minor": 5
}
