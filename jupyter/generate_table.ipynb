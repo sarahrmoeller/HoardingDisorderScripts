{
 "cells": [
  {
   "cell_type": "code",
   "execution_count": 57,
   "metadata": {},
   "outputs": [],
   "source": [
    "LABELS = {\n",
    "    'Incomplete Thought',\n",
    "    'Self Correction',\n",
    "    'Clarification',\n",
    "    'Generic Disfluency',\n",
    "    'Misspeak',\n",
    "    'Unclear',\n",
    "    'Overlap'\n",
    "}"
   ]
  },
  {
   "cell_type": "code",
   "execution_count": 58,
   "metadata": {},
   "outputs": [],
   "source": [
    "import os\n",
    "\n",
    "project = \"s1046-50_s2012-13_s3026-50\"\n",
    "reviews_dir = f\"../data/{project}/REVIEW/\"\n",
    "# Get all .json files in REVIEW dir\n",
    "json_files = [f for f in os.listdir(reviews_dir) if os.path.splitext(f)[1] == '.json']\n",
    "test_file = \"2013_211.txt.json\"\n",
    "hoarder_flag = int(test_file[0] == '0')"
   ]
  },
  {
   "cell_type": "code",
   "execution_count": 59,
   "metadata": {},
   "outputs": [
    {
     "data": {
      "text/plain": [
       "dict_keys(['project', 'document', 'kinds', 'rows', 'labelerInfo', 'labelSets', 'spanLabels', 'arrowLabels', 'boundingBoxLabels', 'timeLabels', 'comments', 'url'])"
      ]
     },
     "execution_count": 59,
     "metadata": {},
     "output_type": "execute_result"
    }
   ],
   "source": [
    "import json\n",
    "\n",
    "with open(reviews_dir + test_file) as f:\n",
    "    raw_data = json.load(f)\n",
    "\n",
    "data = raw_data['data']\n",
    "data.keys()"
   ]
  },
  {
   "cell_type": "code",
   "execution_count": 60,
   "metadata": {},
   "outputs": [
    {
     "data": {
      "text/plain": [
       "({'id': 'MzQwMWJkM2Y', 'name': 's1046-50_s2012-13_s3026-50'},\n",
       " {'id': '3969c434-a2ab-4d4c-8709-4b42f87be297', 'name': '2013_211.txt'},\n",
       " ['TOKEN_BASED'])"
      ]
     },
     "execution_count": 60,
     "metadata": {},
     "output_type": "execute_result"
    }
   ],
   "source": [
    "data['project'], data['document'], data['kinds']"
   ]
  },
  {
   "cell_type": "code",
   "execution_count": 107,
   "metadata": {},
   "outputs": [
    {
     "data": {
      "text/plain": [
       "['Rebecca: I will definitely look at that.',\n",
       " 'I would be really interested to see that paper.',\n",
       " 'This is all very fascinating.',\n",
       " 'So, we’ve talked a lot about how you kind of came to work (NAME 26:25) and (NAME 26:25) about the similarities with material object hoarding and I wonder if you could talk me through some of what you perceive are the differences, or the bigger differences, between material object hoarding and animal hoarding.',\n",
       " 'Interviewee: Well the biggest, probably the biggest difference, unless proven otherwise, is that animals provide for a two-way relationship.',\n",
       " 'I suppose you could psychologically invent a two-way reciprocal relationship with objects.',\n",
       " 'Maybe your stuff sort of gives you a positive feeling back (INAUDIBLE 27:00) with a living creature that’s going to react to you.',\n",
       " 'Rebecca: So, that’s the biggest thing is the animal’s response.',\n",
       " 'So, the hoarder is looking for a response from the animal?',\n",
       " 'Interviewee: Yeah and it may well be again that we don’t fully understand the range of etiological of backgrounds.',\n",
       " 'Is it all trauma related?',\n",
       " 'It seems like a lot of it is trauma-related.',\n",
       " 'I don’t know how much of object hoarding is trauma related.',\n",
       " 'Some of it is, but I don’t know that all of it is.',\n",
       " 'So, I think that balance of trauma even with animal hoarding there seems to be a lot of trauma.',\n",
       " 'Again we don’t have formal psychological studies for people we’ve interviewed and would be able to come up with a diagnosis of accurate histories.',\n",
       " 'It’s just this (INAUDIBLE 27:54) from the people who are willing to talk to us when they’re willing to talk to us or what family members tell us.',\n",
       " 'Rebecca: I guess we talked about a little bit that most of the trajectory that you see with people who have this problem is that they get their animals taken away and then they go when they’re able to go and get new animals.',\n",
       " 'Have you had experience with people who have either gained insight into their problem or else been referred to you or sought treatment for this in a way that has worked for them?',\n",
       " 'Interviewee: So, my colleague (NAME 28:25) is probably the person who has done the most with that kind of work.',\n",
       " 'She’s retired now, but she worked with both of the law enforcement agencies in Massachusetts that intervene in these cases.',\n",
       " 'They used to refer her and she got a lot of court order referrals.',\n",
       " 'She did say that there were some people where she felt she made reasonable progress with and did develop insight and were able to change their behavior.',\n",
       " 'But I think overall our sample size is so ad hoc and small that you have to be careful generalizing.']"
      ]
     },
     "execution_count": 107,
     "metadata": {},
     "output_type": "execute_result"
    }
   ],
   "source": [
    "assert not [row for row in data['rows'] if len(row) != 1] # sanity check\n",
    "[row[0]['content'] for row in data['rows']] # sanity check"
   ]
  },
  {
   "cell_type": "code",
   "execution_count": 114,
   "metadata": {},
   "outputs": [],
   "source": [
    "INTERVIEWER_NAMES = [\"Interviewer\", \"Rebecca\"]\n",
    "PARTICIPANT_NAMES = [\"Participant\", \"Interviewee\"]"
   ]
  },
  {
   "cell_type": "code",
   "execution_count": 132,
   "metadata": {},
   "outputs": [
    {
     "data": {
      "text/plain": [
       "['Interviewer',\n",
       " 'Interviewer',\n",
       " 'Interviewer',\n",
       " 'Interviewer',\n",
       " 'Participant',\n",
       " 'Participant',\n",
       " 'Participant',\n",
       " 'Interviewer',\n",
       " 'Interviewer',\n",
       " 'Participant',\n",
       " 'Participant',\n",
       " 'Participant',\n",
       " 'Participant',\n",
       " 'Participant',\n",
       " 'Participant',\n",
       " 'Participant',\n",
       " 'Participant',\n",
       " 'Interviewer',\n",
       " 'Interviewer',\n",
       " 'Participant',\n",
       " 'Participant',\n",
       " 'Participant',\n",
       " 'Participant',\n",
       " 'Participant']"
      ]
     },
     "execution_count": 132,
     "metadata": {},
     "output_type": "execute_result"
    }
   ],
   "source": [
    "row_speakers = [''] * len(data['rows'])\n",
    "speaker = \"\"\n",
    "for i in range(len(data['rows'])):\n",
    "    row = data['rows'][i]\n",
    "    for column in row:\n",
    "        if (column['content'].find(\":\") != -1):\n",
    "            slice_with_potential_speaker: str = column['content'].split(\":\")[0].title()\n",
    "            speaker_found = False\n",
    "            for name in INTERVIEWER_NAMES:\n",
    "                if name in slice_with_potential_speaker:\n",
    "                    speaker = INTERVIEWER_NAMES[0]\n",
    "                    break\n",
    "            # Don't look for participant name if we already found the interviewer\n",
    "            if not speaker_found: \n",
    "                for name in PARTICIPANT_NAMES:\n",
    "                    if name in slice_with_potential_speaker:\n",
    "                        speaker = PARTICIPANT_NAMES[0]\n",
    "                        break\n",
    "        row_speakers[i] = speaker\n",
    "row_speakers\n",
    "# speakers = set([d['speaker'] for row in rows for d in row])\n",
    "# assert len(set([d['speaker'] for row in rows for d in row])) == 2 # make sure there are only two speakers in each row\n",
    "# speakers"
   ]
  },
  {
   "cell_type": "code",
   "execution_count": 133,
   "metadata": {},
   "outputs": [
    {
     "data": {
      "text/plain": [
       "[{'id': '1694748133',\n",
       "  'labelSetIndex': 0,\n",
       "  'labeledBy': 'REVIEWER',\n",
       "  'labeledByUserId': 7650,\n",
       "  'acceptedByUserId': None,\n",
       "  'rejectedByUserId': None,\n",
       "  'layer': 0,\n",
       "  'counter': 0,\n",
       "  'status': 'LABELED',\n",
       "  'hashCode': 'SPAN:-JMh1Z2QiTPafZ-k12D4R:0:4:0:1:0:4:0:3:7:0:undefined:undefined',\n",
       "  'labelName': '-JMh1Z2QiTPafZ-k12D4R',\n",
       "  'labelItem': {'id': '-JMh1Z2QiTPafZ-k12D4R',\n",
       "   'labelName': 'Generic Disfluency'},\n",
       "  'textPosition': {'start': {'row': 4,\n",
       "    'column': 0,\n",
       "    'tokenIndex': 1,\n",
       "    'charIndex': 0},\n",
       "   'end': {'row': 4, 'column': 0, 'tokenIndex': 3, 'charIndex': 7}},\n",
       "  'confidenceScore': None}]"
      ]
     },
     "execution_count": 133,
     "metadata": {},
     "output_type": "execute_result"
    }
   ],
   "source": [
    "# This is where the meat is at\n",
    "label_data = data['spanLabels']\n",
    "label_data"
   ]
  },
  {
   "cell_type": "code",
   "execution_count": 134,
   "metadata": {},
   "outputs": [
    {
     "data": {
      "text/plain": [
       "[('Generic Disfluency', 'Participant')]"
      ]
     },
     "execution_count": 134,
     "metadata": {},
     "output_type": "execute_result"
    }
   ],
   "source": [
    "labels_with_speakers = [('', False)] * len(label_data)\n",
    "for i in range(len(label_data)):\n",
    "    label = label_data[i]\n",
    "\n",
    "    row_index = label['textPosition']['start']['row']\n",
    "    speaker = row_speakers[row_index]\n",
    "    labels_with_speakers[i] = (label['labelItem']['labelName'], speaker)\n",
    "labels_with_speakers"
   ]
  },
  {
   "cell_type": "code",
   "execution_count": 123,
   "metadata": {},
   "outputs": [
    {
     "data": {
      "text/plain": [
       "Counter({('Generic Disfluency', 'Participant'): 1,\n",
       "         ('Generic Disfluency', 'Interviewer'): 0,\n",
       "         ('Clarification', 'Interviewer'): 0,\n",
       "         ('Overlap', 'Interviewer'): 0,\n",
       "         ('Misspeak', 'Interviewer'): 0,\n",
       "         ('Misspeak', 'Participant'): 0,\n",
       "         ('Self Correction', 'Interviewer'): 0,\n",
       "         ('Clarification', 'Participant'): 0,\n",
       "         ('Overlap', 'Participant'): 0,\n",
       "         ('Incomplete Thought', 'Interviewer'): 0,\n",
       "         ('Unclear', 'Interviewer'): 0,\n",
       "         ('Self Correction', 'Participant'): 0,\n",
       "         ('Incomplete Thought', 'Participant'): 0,\n",
       "         ('Unclear', 'Participant'): 0})"
      ]
     },
     "execution_count": 123,
     "metadata": {},
     "output_type": "execute_result"
    }
   ],
   "source": [
    "from collections import Counter\n",
    "from itertools import product\n",
    "\n",
    "cntDict = Counter(labels_with_speakers)\n",
    "for label, speaker in set(product(LABELS, ['Interviewer', 'Participant'])).difference(cntDict.keys()):\n",
    "    cntDict[(label, speaker)] = 0\n",
    "cntDict"
   ]
  },
  {
   "cell_type": "code",
   "execution_count": 130,
   "metadata": {},
   "outputs": [
    {
     "data": {
      "text/plain": [
       "{'Incomplete Thought–Interviewer': 0,\n",
       " 'Incomplete Thought–Participant': 0,\n",
       " 'Incomplete Thought–Total': 0,\n",
       " 'Clarification–Interviewer': 0,\n",
       " 'Clarification–Participant': 0,\n",
       " 'Clarification–Total': 0,\n",
       " 'Generic Disfluency–Interviewer': 0,\n",
       " 'Generic Disfluency–Participant': 1,\n",
       " 'Generic Disfluency–Total': 1,\n",
       " 'Overlap–Interviewer': 0,\n",
       " 'Overlap–Participant': 0,\n",
       " 'Overlap–Total': 0,\n",
       " 'Unclear–Interviewer': 0,\n",
       " 'Unclear–Participant': 0,\n",
       " 'Unclear–Total': 0,\n",
       " 'Misspeak–Interviewer': 0,\n",
       " 'Misspeak–Participant': 0,\n",
       " 'Misspeak–Total': 0,\n",
       " 'Self Correction–Interviewer': 0,\n",
       " 'Self Correction–Participant': 0,\n",
       " 'Self Correction–Total': 0,\n",
       " 'Total': 1}"
      ]
     },
     "execution_count": 130,
     "metadata": {},
     "output_type": "execute_result"
    }
   ],
   "source": [
    "display_dict = {}\n",
    "for label in LABELS:\n",
    "    display_dict[label+'–Interviewer'] = cntDict[(label, 'Interviewer')]\n",
    "    display_dict[label+'–Participant'] = cntDict[(label, 'Participant')]\n",
    "    display_dict[label+'–Total'] = cntDict[(label, 'Interviewer')] + cntDict[(label, 'Participant')]\n",
    "display_dict['Total'] = sum(cntDict.values())\n",
    "display_dict"
   ]
  },
  {
   "cell_type": "code",
   "execution_count": 126,
   "metadata": {},
   "outputs": [
    {
     "data": {
      "text/plain": [
       "{'filename': '2013_211.txt',\n",
       " 'isHoarder': 0,\n",
       " 'Incomplete Thought - Interviewer': 0,\n",
       " 'Incomplete Thought - Participant': 0,\n",
       " 'Incomplete Thought - Total': 0,\n",
       " 'Clarification - Interviewer': 0,\n",
       " 'Clarification - Participant': 0,\n",
       " 'Clarification - Total': 0,\n",
       " 'Generic Disfluency - Interviewer': 0,\n",
       " 'Generic Disfluency - Participant': 1,\n",
       " 'Generic Disfluency - Total': 1,\n",
       " 'Overlap - Interviewer': 0,\n",
       " 'Overlap - Participant': 0,\n",
       " 'Overlap - Total': 0,\n",
       " 'Unclear - Interviewer': 0,\n",
       " 'Unclear - Participant': 0,\n",
       " 'Unclear - Total': 0,\n",
       " 'Misspeak - Interviewer': 0,\n",
       " 'Misspeak - Participant': 0,\n",
       " 'Misspeak - Total': 0,\n",
       " 'Self Correction - Interviewer': 0,\n",
       " 'Self Correction - Participant': 0,\n",
       " 'Self Correction - Total': 0,\n",
       " 'Total': 1}"
      ]
     },
     "execution_count": 126,
     "metadata": {},
     "output_type": "execute_result"
    }
   ],
   "source": [
    "row = {\n",
    "    'filename' : data['document']['name'], ''\n",
    "    'isHoarder' : hoarder_flag, \n",
    "    **display_dict\n",
    "}\n",
    "row"
   ]
  },
  {
   "cell_type": "code",
   "execution_count": 70,
   "metadata": {},
   "outputs": [
    {
     "data": {
      "application/vnd.microsoft.datawrangler.viewer.v0+json": {
       "columns": [
        {
         "name": "index",
         "rawType": "int64",
         "type": "integer"
        },
        {
         "name": "filename",
         "rawType": "object",
         "type": "string"
        },
        {
         "name": "isHoarder",
         "rawType": "int64",
         "type": "integer"
        },
        {
         "name": "Incomplete Thought - Interviewer",
         "rawType": "int64",
         "type": "integer"
        },
        {
         "name": "Incomplete Thought - Participant",
         "rawType": "int64",
         "type": "integer"
        },
        {
         "name": "Incomplete Thought - Total",
         "rawType": "int64",
         "type": "integer"
        },
        {
         "name": "Clarification - Interviewer",
         "rawType": "int64",
         "type": "integer"
        },
        {
         "name": "Clarification - Participant",
         "rawType": "int64",
         "type": "integer"
        },
        {
         "name": "Clarification - Total",
         "rawType": "int64",
         "type": "integer"
        },
        {
         "name": "Generic Disfluency - Interviewer",
         "rawType": "int64",
         "type": "integer"
        },
        {
         "name": "Generic Disfluency - Participant",
         "rawType": "int64",
         "type": "integer"
        },
        {
         "name": "Generic Disfluency - Total",
         "rawType": "int64",
         "type": "integer"
        },
        {
         "name": "Overlap - Interviewer",
         "rawType": "int64",
         "type": "integer"
        },
        {
         "name": "Overlap - Participant",
         "rawType": "int64",
         "type": "integer"
        },
        {
         "name": "Overlap - Total",
         "rawType": "int64",
         "type": "integer"
        },
        {
         "name": "Unclear - Interviewer",
         "rawType": "int64",
         "type": "integer"
        },
        {
         "name": "Unclear - Participant",
         "rawType": "int64",
         "type": "integer"
        },
        {
         "name": "Unclear - Total",
         "rawType": "int64",
         "type": "integer"
        },
        {
         "name": "Misspeak - Interviewer",
         "rawType": "int64",
         "type": "integer"
        },
        {
         "name": "Misspeak - Participant",
         "rawType": "int64",
         "type": "integer"
        },
        {
         "name": "Misspeak - Total",
         "rawType": "int64",
         "type": "integer"
        },
        {
         "name": "Self Correction - Interviewer",
         "rawType": "int64",
         "type": "integer"
        },
        {
         "name": "Self Correction - Participant",
         "rawType": "int64",
         "type": "integer"
        },
        {
         "name": "Self Correction - Total",
         "rawType": "int64",
         "type": "integer"
        },
        {
         "name": "Total",
         "rawType": "int64",
         "type": "integer"
        }
       ],
       "conversionMethod": "pd.DataFrame",
       "ref": "ecc953b2-27e9-45e8-9795-24b45bd47cd5",
       "rows": [
        [
         "0",
         "2013_211.txt",
         "0",
         "0",
         "0",
         "0",
         "0",
         "0",
         "0",
         "0",
         "1",
         "1",
         "0",
         "0",
         "0",
         "0",
         "0",
         "0",
         "0",
         "0",
         "0",
         "0",
         "0",
         "0",
         "1"
        ]
       ],
       "shape": {
        "columns": 24,
        "rows": 1
       }
      },
      "text/html": [
       "<div>\n",
       "<style scoped>\n",
       "    .dataframe tbody tr th:only-of-type {\n",
       "        vertical-align: middle;\n",
       "    }\n",
       "\n",
       "    .dataframe tbody tr th {\n",
       "        vertical-align: top;\n",
       "    }\n",
       "\n",
       "    .dataframe thead th {\n",
       "        text-align: right;\n",
       "    }\n",
       "</style>\n",
       "<table border=\"1\" class=\"dataframe\">\n",
       "  <thead>\n",
       "    <tr style=\"text-align: right;\">\n",
       "      <th></th>\n",
       "      <th>filename</th>\n",
       "      <th>isHoarder</th>\n",
       "      <th>Incomplete Thought - Interviewer</th>\n",
       "      <th>Incomplete Thought - Participant</th>\n",
       "      <th>Incomplete Thought - Total</th>\n",
       "      <th>Clarification - Interviewer</th>\n",
       "      <th>Clarification - Participant</th>\n",
       "      <th>Clarification - Total</th>\n",
       "      <th>Generic Disfluency - Interviewer</th>\n",
       "      <th>Generic Disfluency - Participant</th>\n",
       "      <th>...</th>\n",
       "      <th>Unclear - Interviewer</th>\n",
       "      <th>Unclear - Participant</th>\n",
       "      <th>Unclear - Total</th>\n",
       "      <th>Misspeak - Interviewer</th>\n",
       "      <th>Misspeak - Participant</th>\n",
       "      <th>Misspeak - Total</th>\n",
       "      <th>Self Correction - Interviewer</th>\n",
       "      <th>Self Correction - Participant</th>\n",
       "      <th>Self Correction - Total</th>\n",
       "      <th>Total</th>\n",
       "    </tr>\n",
       "  </thead>\n",
       "  <tbody>\n",
       "    <tr>\n",
       "      <th>0</th>\n",
       "      <td>2013_211.txt</td>\n",
       "      <td>0</td>\n",
       "      <td>0</td>\n",
       "      <td>0</td>\n",
       "      <td>0</td>\n",
       "      <td>0</td>\n",
       "      <td>0</td>\n",
       "      <td>0</td>\n",
       "      <td>0</td>\n",
       "      <td>1</td>\n",
       "      <td>...</td>\n",
       "      <td>0</td>\n",
       "      <td>0</td>\n",
       "      <td>0</td>\n",
       "      <td>0</td>\n",
       "      <td>0</td>\n",
       "      <td>0</td>\n",
       "      <td>0</td>\n",
       "      <td>0</td>\n",
       "      <td>0</td>\n",
       "      <td>1</td>\n",
       "    </tr>\n",
       "  </tbody>\n",
       "</table>\n",
       "<p>1 rows × 24 columns</p>\n",
       "</div>"
      ],
      "text/plain": [
       "       filename  isHoarder  Incomplete Thought - Interviewer  \\\n",
       "0  2013_211.txt          0                                 0   \n",
       "\n",
       "   Incomplete Thought - Participant  Incomplete Thought - Total  \\\n",
       "0                                 0                           0   \n",
       "\n",
       "   Clarification - Interviewer  Clarification - Participant  \\\n",
       "0                            0                            0   \n",
       "\n",
       "   Clarification - Total  Generic Disfluency - Interviewer  \\\n",
       "0                      0                                 0   \n",
       "\n",
       "   Generic Disfluency - Participant  ...  Unclear - Interviewer  \\\n",
       "0                                 1  ...                      0   \n",
       "\n",
       "   Unclear - Participant  Unclear - Total  Misspeak - Interviewer  \\\n",
       "0                      0                0                       0   \n",
       "\n",
       "   Misspeak - Participant  Misspeak - Total  Self Correction - Interviewer  \\\n",
       "0                       0                 0                              0   \n",
       "\n",
       "   Self Correction - Participant  Self Correction - Total  Total  \n",
       "0                              0                        0      1  \n",
       "\n",
       "[1 rows x 24 columns]"
      ]
     },
     "execution_count": 70,
     "metadata": {},
     "output_type": "execute_result"
    }
   ],
   "source": [
    "import pandas as pd\n",
    "\n",
    "pd.DataFrame([row])"
   ]
  }
 ],
 "metadata": {
  "kernelspec": {
   "display_name": ".venv",
   "language": "python",
   "name": "python3"
  },
  "language_info": {
   "codemirror_mode": {
    "name": "ipython",
    "version": 3
   },
   "file_extension": ".py",
   "mimetype": "text/x-python",
   "name": "python",
   "nbconvert_exporter": "python",
   "pygments_lexer": "ipython3",
   "version": "3.12.9"
  }
 },
 "nbformat": 4,
 "nbformat_minor": 2
}
