{
 "cells": [
  {
   "cell_type": "markdown",
   "id": "a8e82feb",
   "metadata": {},
   "source": [
    "# Finding All Speakers Across All Documents"
   ]
  },
  {
   "cell_type": "markdown",
   "id": "d7cb86a0",
   "metadata": {},
   "source": [
    "Ok... I'm at my wit's end here. I should have started by doing this, but I didn't, so I have to do it now. That's just how it is!\n",
    "\n",
    "Throughout this project, I've been making the inductive assumption that there were only speakers with certain names, i.e. 'Interviewer', 'Participant', 'Interviewee', and a few others. But when working to fix 001-007, I found that this assumption was massive understated. There are many more speaker labels that I have missed, and I need to look for **all** of them now so that this doesn't happen again. "
   ]
  },
  {
   "cell_type": "markdown",
   "id": "74c50a8f",
   "metadata": {},
   "source": [
    "I'm going to start by modifying the speaker regex logic in `document.py` so that the regex doesn't only look for strings that match the types of speaker labels that we have seen followed by a colon. Instead, I want the base regex to match *any* string followed by a colon (with a few caveats, i.e. accounting for labels followed by numbers)."
   ]
  }
 ],
 "metadata": {
  "language_info": {
   "name": "python"
  }
 },
 "nbformat": 4,
 "nbformat_minor": 5
}
